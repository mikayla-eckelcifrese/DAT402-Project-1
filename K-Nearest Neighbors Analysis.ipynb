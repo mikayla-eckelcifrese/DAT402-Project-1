{
 "cells": [
  {
   "cell_type": "code",
   "execution_count": 283,
   "metadata": {
    "collapsed": true,
    "pycharm": {
     "name": "#%%\n"
    }
   },
   "outputs": [],
   "source": [
    "import pandas as pd\n",
    "import numpy as np\n",
    "import sklearn as sk\n",
    "from sklearn.impute import KNNImputer\n",
    "from sklearn.experimental import enable_iterative_imputer\n",
    "from sklearn.impute import IterativeImputer"
   ]
  },
  {
   "cell_type": "markdown",
   "source": [
    "Read in and clean data"
   ],
   "metadata": {
    "collapsed": false,
    "pycharm": {
     "name": "#%% md\n"
    }
   }
  },
  {
   "cell_type": "code",
   "execution_count": 278,
   "outputs": [
    {
     "name": "stderr",
     "output_type": "stream",
     "text": [
      "C:\\Users\\mbles\\AppData\\Local\\Temp\\ipykernel_9100\\1170556366.py:23: SettingWithCopyWarning: \n",
      "A value is trying to be set on a copy of a slice from a DataFrame\n",
      "\n",
      "See the caveats in the documentation: https://pandas.pydata.org/pandas-docs/stable/user_guide/indexing.html#returning-a-view-versus-a-copy\n",
      "  superheroData[\"height\"][i] = float(str(superheroData[\"height\"][i]).split()[2])\n"
     ]
    },
    {
     "data": {
      "text/plain": "      index           name               real_name intelligence_score  \\\n0         0        3-D Man     Delroy Garrett, Jr.                 85   \n1         1  514A (Gotham)             Bruce Wayne                100   \n2         2         A-Bomb  Richard Milhouse Jones                 80   \n3         3             Aa                      Aa                 80   \n4         4     Aaron Cash              Aaron Cash                 80   \n...     ...            ...                     ...                ...   \n1403   1428           Zane                    Zane                100   \n1404   1429        Zatanna          Zatanna Zatara                 90   \n1405   1430  Zoom (New 52)          Hunter Zolomon                 95   \n1406   1431           Zoom          Hunter Zolomon                 75   \n1407   1432          Zzzax                     NaN                 45   \n\n     strength_score speed_score durability_score power_score combat_score  \\\n0                30          60               60          40           70   \n1                20          30               50          35          100   \n2               100          80              100         100           80   \n3                50          55               45         100           55   \n4                10          25               40          30           50   \n...             ...         ...              ...         ...          ...   \n1403             35          50               60         100          100   \n1404             10          25               30         100           55   \n1405             50         100               75         100           80   \n1406             10         100               30         100           30   \n1407             80          75               95          80           50   \n\n                                            superpowers  ... has_flight  \\\n0                     ['Super Speed', 'Super Strength']  ...          0   \n1          ['Durability', 'Reflexes', 'Super Strength']  ...          0   \n2     ['Accelerated Healing', 'Agility', 'Berserk Mo...  ...          0   \n3     ['Energy Absorption', 'Energy Armor', 'Energy ...  ...          0   \n4             ['weapon based Powers', 'Weapons Master']  ...          0   \n...                                                 ...  ...        ...   \n1403  ['Agility', 'Animal Control', 'Cold Resistance...  ...          1   \n1404  ['Cryokinesis', 'Fire Control', 'Magic', 'Prob...  ...          0   \n1405  ['Accelerated Healing', 'Agility', 'Durability...  ...          0   \n1406  ['Intangibility', 'Super Speed', 'Time Manipul...  ...          0   \n1407  ['Absorption', 'Agility', 'Electrokinesis', 'E...  ...          1   \n\n     has_accelerated_healing has_weapons_master has_intelligence has_reflexes  \\\n0                          0                  0                0            0   \n1                          0                  0                0            1   \n2                          1                  0                0            1   \n3                          0                  0                0            0   \n4                          0                  1                0            0   \n...                      ...                ...              ...          ...   \n1403                       0                  1                1            1   \n1404                       0                  0                0            0   \n1405                       1                  0                1            1   \n1406                       0                  0                0            0   \n1407                       0                  0                0            0   \n\n     has_super_speed has_durability has_stamina has_agility has_super_strength  \n0                  1              0           0           0                  1  \n1                  0              1           0           0                  1  \n2                  1              1           1           1                  1  \n3                  0              0           0           0                  0  \n4                  0              0           0           0                  0  \n...              ...            ...         ...         ...                ...  \n1403               0              1           1           1                  1  \n1404               0              0           0           0                  0  \n1405               1              1           1           1                  1  \n1406               1              0           0           0                  0  \n1407               1              0           0           1                  1  \n\n[1408 rows x 68 columns]",
      "text/html": "<div>\n<style scoped>\n    .dataframe tbody tr th:only-of-type {\n        vertical-align: middle;\n    }\n\n    .dataframe tbody tr th {\n        vertical-align: top;\n    }\n\n    .dataframe thead th {\n        text-align: right;\n    }\n</style>\n<table border=\"1\" class=\"dataframe\">\n  <thead>\n    <tr style=\"text-align: right;\">\n      <th></th>\n      <th>index</th>\n      <th>name</th>\n      <th>real_name</th>\n      <th>intelligence_score</th>\n      <th>strength_score</th>\n      <th>speed_score</th>\n      <th>durability_score</th>\n      <th>power_score</th>\n      <th>combat_score</th>\n      <th>superpowers</th>\n      <th>...</th>\n      <th>has_flight</th>\n      <th>has_accelerated_healing</th>\n      <th>has_weapons_master</th>\n      <th>has_intelligence</th>\n      <th>has_reflexes</th>\n      <th>has_super_speed</th>\n      <th>has_durability</th>\n      <th>has_stamina</th>\n      <th>has_agility</th>\n      <th>has_super_strength</th>\n    </tr>\n  </thead>\n  <tbody>\n    <tr>\n      <th>0</th>\n      <td>0</td>\n      <td>3-D Man</td>\n      <td>Delroy Garrett, Jr.</td>\n      <td>85</td>\n      <td>30</td>\n      <td>60</td>\n      <td>60</td>\n      <td>40</td>\n      <td>70</td>\n      <td>['Super Speed', 'Super Strength']</td>\n      <td>...</td>\n      <td>0</td>\n      <td>0</td>\n      <td>0</td>\n      <td>0</td>\n      <td>0</td>\n      <td>1</td>\n      <td>0</td>\n      <td>0</td>\n      <td>0</td>\n      <td>1</td>\n    </tr>\n    <tr>\n      <th>1</th>\n      <td>1</td>\n      <td>514A (Gotham)</td>\n      <td>Bruce Wayne</td>\n      <td>100</td>\n      <td>20</td>\n      <td>30</td>\n      <td>50</td>\n      <td>35</td>\n      <td>100</td>\n      <td>['Durability', 'Reflexes', 'Super Strength']</td>\n      <td>...</td>\n      <td>0</td>\n      <td>0</td>\n      <td>0</td>\n      <td>0</td>\n      <td>1</td>\n      <td>0</td>\n      <td>1</td>\n      <td>0</td>\n      <td>0</td>\n      <td>1</td>\n    </tr>\n    <tr>\n      <th>2</th>\n      <td>2</td>\n      <td>A-Bomb</td>\n      <td>Richard Milhouse Jones</td>\n      <td>80</td>\n      <td>100</td>\n      <td>80</td>\n      <td>100</td>\n      <td>100</td>\n      <td>80</td>\n      <td>['Accelerated Healing', 'Agility', 'Berserk Mo...</td>\n      <td>...</td>\n      <td>0</td>\n      <td>1</td>\n      <td>0</td>\n      <td>0</td>\n      <td>1</td>\n      <td>1</td>\n      <td>1</td>\n      <td>1</td>\n      <td>1</td>\n      <td>1</td>\n    </tr>\n    <tr>\n      <th>3</th>\n      <td>3</td>\n      <td>Aa</td>\n      <td>Aa</td>\n      <td>80</td>\n      <td>50</td>\n      <td>55</td>\n      <td>45</td>\n      <td>100</td>\n      <td>55</td>\n      <td>['Energy Absorption', 'Energy Armor', 'Energy ...</td>\n      <td>...</td>\n      <td>0</td>\n      <td>0</td>\n      <td>0</td>\n      <td>0</td>\n      <td>0</td>\n      <td>0</td>\n      <td>0</td>\n      <td>0</td>\n      <td>0</td>\n      <td>0</td>\n    </tr>\n    <tr>\n      <th>4</th>\n      <td>4</td>\n      <td>Aaron Cash</td>\n      <td>Aaron Cash</td>\n      <td>80</td>\n      <td>10</td>\n      <td>25</td>\n      <td>40</td>\n      <td>30</td>\n      <td>50</td>\n      <td>['weapon based Powers', 'Weapons Master']</td>\n      <td>...</td>\n      <td>0</td>\n      <td>0</td>\n      <td>1</td>\n      <td>0</td>\n      <td>0</td>\n      <td>0</td>\n      <td>0</td>\n      <td>0</td>\n      <td>0</td>\n      <td>0</td>\n    </tr>\n    <tr>\n      <th>...</th>\n      <td>...</td>\n      <td>...</td>\n      <td>...</td>\n      <td>...</td>\n      <td>...</td>\n      <td>...</td>\n      <td>...</td>\n      <td>...</td>\n      <td>...</td>\n      <td>...</td>\n      <td>...</td>\n      <td>...</td>\n      <td>...</td>\n      <td>...</td>\n      <td>...</td>\n      <td>...</td>\n      <td>...</td>\n      <td>...</td>\n      <td>...</td>\n      <td>...</td>\n      <td>...</td>\n    </tr>\n    <tr>\n      <th>1403</th>\n      <td>1428</td>\n      <td>Zane</td>\n      <td>Zane</td>\n      <td>100</td>\n      <td>35</td>\n      <td>50</td>\n      <td>60</td>\n      <td>100</td>\n      <td>100</td>\n      <td>['Agility', 'Animal Control', 'Cold Resistance...</td>\n      <td>...</td>\n      <td>1</td>\n      <td>0</td>\n      <td>1</td>\n      <td>1</td>\n      <td>1</td>\n      <td>0</td>\n      <td>1</td>\n      <td>1</td>\n      <td>1</td>\n      <td>1</td>\n    </tr>\n    <tr>\n      <th>1404</th>\n      <td>1429</td>\n      <td>Zatanna</td>\n      <td>Zatanna Zatara</td>\n      <td>90</td>\n      <td>10</td>\n      <td>25</td>\n      <td>30</td>\n      <td>100</td>\n      <td>55</td>\n      <td>['Cryokinesis', 'Fire Control', 'Magic', 'Prob...</td>\n      <td>...</td>\n      <td>0</td>\n      <td>0</td>\n      <td>0</td>\n      <td>0</td>\n      <td>0</td>\n      <td>0</td>\n      <td>0</td>\n      <td>0</td>\n      <td>0</td>\n      <td>0</td>\n    </tr>\n    <tr>\n      <th>1405</th>\n      <td>1430</td>\n      <td>Zoom (New 52)</td>\n      <td>Hunter Zolomon</td>\n      <td>95</td>\n      <td>50</td>\n      <td>100</td>\n      <td>75</td>\n      <td>100</td>\n      <td>80</td>\n      <td>['Accelerated Healing', 'Agility', 'Durability...</td>\n      <td>...</td>\n      <td>0</td>\n      <td>1</td>\n      <td>0</td>\n      <td>1</td>\n      <td>1</td>\n      <td>1</td>\n      <td>1</td>\n      <td>1</td>\n      <td>1</td>\n      <td>1</td>\n    </tr>\n    <tr>\n      <th>1406</th>\n      <td>1431</td>\n      <td>Zoom</td>\n      <td>Hunter Zolomon</td>\n      <td>75</td>\n      <td>10</td>\n      <td>100</td>\n      <td>30</td>\n      <td>100</td>\n      <td>30</td>\n      <td>['Intangibility', 'Super Speed', 'Time Manipul...</td>\n      <td>...</td>\n      <td>0</td>\n      <td>0</td>\n      <td>0</td>\n      <td>0</td>\n      <td>0</td>\n      <td>1</td>\n      <td>0</td>\n      <td>0</td>\n      <td>0</td>\n      <td>0</td>\n    </tr>\n    <tr>\n      <th>1407</th>\n      <td>1432</td>\n      <td>Zzzax</td>\n      <td>NaN</td>\n      <td>45</td>\n      <td>80</td>\n      <td>75</td>\n      <td>95</td>\n      <td>80</td>\n      <td>50</td>\n      <td>['Absorption', 'Agility', 'Electrokinesis', 'E...</td>\n      <td>...</td>\n      <td>1</td>\n      <td>0</td>\n      <td>0</td>\n      <td>0</td>\n      <td>0</td>\n      <td>1</td>\n      <td>0</td>\n      <td>0</td>\n      <td>1</td>\n      <td>1</td>\n    </tr>\n  </tbody>\n</table>\n<p>1408 rows × 68 columns</p>\n</div>"
     },
     "execution_count": 278,
     "metadata": {},
     "output_type": "execute_result"
    }
   ],
   "source": [
    "dropRows = [55, 76, 78, 81, 410, 481, 486, 490, 645, 653, 657, 693,\n",
    "            697, 840, 827, 830, 842, 844, 949, 950, 1059, 1063, 1077, 1079, 1081]\n",
    "#original data set had nonsense rows\n",
    "\n",
    "superheroData = \\\n",
    "    pd.read_excel(\"Superhero data.xlsx\").\\\n",
    "    drop(dropRows).\\\n",
    "    drop([\"full_name\"], axis = 1).\\\n",
    "    dropna(how = \"all\").\\\n",
    "    reset_index()#.\\\n",
    "    #drop([\"index\"], axis = 1)\n",
    "\n",
    "#Fix format of height and weight variables:\n",
    "columnLength = 1408\n",
    "\n",
    "for i in range(0, columnLength - 1):\n",
    "        #height data is of the form \"6'8 â€¢ 203 cm\" which would be very difficult to work with\n",
    "        #hence I'm extracting just the value in centimeters and converting to a float\n",
    "        #similar for weight\n",
    "\n",
    "        if not(str(superheroData[\"height\"][i]) == \"nan\"):\n",
    "            try:\n",
    "                superheroData[\"height\"][i] = float(str(superheroData[\"height\"][i]).split()[2])\n",
    "            except:\n",
    "                superheroData[\"height\"][i] = str(superheroData[\"height\"][i]).replace(',', '')\n",
    "                superheroData[\"height\"][i] = float(superheroData[\"height\"][i].split()[2])\n",
    "\n",
    "        if not(str(superheroData[\"weight\"][i]) == \"nan\"):\n",
    "            try:\n",
    "                superheroData[\"weight\"][i] = float(str(superheroData[\"weight\"][i]).split()[3])\n",
    "            except:\n",
    "                superheroData[\"weight\"][i] = str(superheroData[\"weight\"][i]).replace(',', '')\n",
    "                superheroData[\"weight\"][i] = float(superheroData[\"weight\"][i].split()[3])\n",
    "\n",
    "superheroData"
   ],
   "metadata": {
    "collapsed": false,
    "pycharm": {
     "name": "#%%\n"
    }
   }
  },
  {
   "cell_type": "code",
   "execution_count": 279,
   "outputs": [
    {
     "data": {
      "text/plain": "index                   0\nname                    0\nreal_name             137\nintelligence_score     16\nstrength_score         16\n                     ... \nhas_super_speed        78\nhas_durability         78\nhas_stamina            78\nhas_agility            78\nhas_super_strength     78\nLength: 68, dtype: int64"
     },
     "execution_count": 279,
     "metadata": {},
     "output_type": "execute_result"
    }
   ],
   "source": [
    "superheroData.isnull().sum()"
   ],
   "metadata": {
    "collapsed": false,
    "pycharm": {
     "name": "#%%\n"
    }
   }
  },
  {
   "cell_type": "markdown",
   "source": [
    "Impute missing data values:"
   ],
   "metadata": {
    "collapsed": false,
    "pycharm": {
     "name": "#%% md\n"
    }
   }
  },
  {
   "cell_type": "code",
   "execution_count": 292,
   "outputs": [
    {
     "data": {
      "text/plain": "      intelligence score  strength score  speed score  durability score  \\\n0                   85.0            30.0         60.0              60.0   \n1                  100.0            20.0         30.0              50.0   \n2                   80.0           100.0         80.0             100.0   \n3                   80.0            50.0         55.0              45.0   \n4                   80.0            10.0         25.0              40.0   \n...                  ...             ...          ...               ...   \n1403               100.0            35.0         50.0              60.0   \n1404                90.0            10.0         25.0              30.0   \n1405                95.0            50.0        100.0              75.0   \n1406                75.0            10.0        100.0              30.0   \n1407                45.0            80.0         75.0              95.0   \n\n      power score  combat score  height (cm)  weight (kg)  \n0            40.0          70.0        165.7         76.7  \n1            35.0         100.0        183.4         83.4  \n2           100.0          80.0        203.0        441.0  \n3           100.0          55.0        836.1         73.3  \n4            30.0          50.0        171.5         96.9  \n...           ...           ...          ...          ...  \n1403        100.0         100.0        168.0         45.0  \n1404        100.0          55.0        170.0         57.0  \n1405        100.0          80.0        185.0         81.0  \n1406        100.0          30.0        185.0         81.0  \n1407         80.0          50.0       1220.0          0.0  \n\n[1408 rows x 8 columns]",
      "text/html": "<div>\n<style scoped>\n    .dataframe tbody tr th:only-of-type {\n        vertical-align: middle;\n    }\n\n    .dataframe tbody tr th {\n        vertical-align: top;\n    }\n\n    .dataframe thead th {\n        text-align: right;\n    }\n</style>\n<table border=\"1\" class=\"dataframe\">\n  <thead>\n    <tr style=\"text-align: right;\">\n      <th></th>\n      <th>intelligence score</th>\n      <th>strength score</th>\n      <th>speed score</th>\n      <th>durability score</th>\n      <th>power score</th>\n      <th>combat score</th>\n      <th>height (cm)</th>\n      <th>weight (kg)</th>\n    </tr>\n  </thead>\n  <tbody>\n    <tr>\n      <th>0</th>\n      <td>85.0</td>\n      <td>30.0</td>\n      <td>60.0</td>\n      <td>60.0</td>\n      <td>40.0</td>\n      <td>70.0</td>\n      <td>165.7</td>\n      <td>76.7</td>\n    </tr>\n    <tr>\n      <th>1</th>\n      <td>100.0</td>\n      <td>20.0</td>\n      <td>30.0</td>\n      <td>50.0</td>\n      <td>35.0</td>\n      <td>100.0</td>\n      <td>183.4</td>\n      <td>83.4</td>\n    </tr>\n    <tr>\n      <th>2</th>\n      <td>80.0</td>\n      <td>100.0</td>\n      <td>80.0</td>\n      <td>100.0</td>\n      <td>100.0</td>\n      <td>80.0</td>\n      <td>203.0</td>\n      <td>441.0</td>\n    </tr>\n    <tr>\n      <th>3</th>\n      <td>80.0</td>\n      <td>50.0</td>\n      <td>55.0</td>\n      <td>45.0</td>\n      <td>100.0</td>\n      <td>55.0</td>\n      <td>836.1</td>\n      <td>73.3</td>\n    </tr>\n    <tr>\n      <th>4</th>\n      <td>80.0</td>\n      <td>10.0</td>\n      <td>25.0</td>\n      <td>40.0</td>\n      <td>30.0</td>\n      <td>50.0</td>\n      <td>171.5</td>\n      <td>96.9</td>\n    </tr>\n    <tr>\n      <th>...</th>\n      <td>...</td>\n      <td>...</td>\n      <td>...</td>\n      <td>...</td>\n      <td>...</td>\n      <td>...</td>\n      <td>...</td>\n      <td>...</td>\n    </tr>\n    <tr>\n      <th>1403</th>\n      <td>100.0</td>\n      <td>35.0</td>\n      <td>50.0</td>\n      <td>60.0</td>\n      <td>100.0</td>\n      <td>100.0</td>\n      <td>168.0</td>\n      <td>45.0</td>\n    </tr>\n    <tr>\n      <th>1404</th>\n      <td>90.0</td>\n      <td>10.0</td>\n      <td>25.0</td>\n      <td>30.0</td>\n      <td>100.0</td>\n      <td>55.0</td>\n      <td>170.0</td>\n      <td>57.0</td>\n    </tr>\n    <tr>\n      <th>1405</th>\n      <td>95.0</td>\n      <td>50.0</td>\n      <td>100.0</td>\n      <td>75.0</td>\n      <td>100.0</td>\n      <td>80.0</td>\n      <td>185.0</td>\n      <td>81.0</td>\n    </tr>\n    <tr>\n      <th>1406</th>\n      <td>75.0</td>\n      <td>10.0</td>\n      <td>100.0</td>\n      <td>30.0</td>\n      <td>100.0</td>\n      <td>30.0</td>\n      <td>185.0</td>\n      <td>81.0</td>\n    </tr>\n    <tr>\n      <th>1407</th>\n      <td>45.0</td>\n      <td>80.0</td>\n      <td>75.0</td>\n      <td>95.0</td>\n      <td>80.0</td>\n      <td>50.0</td>\n      <td>1220.0</td>\n      <td>0.0</td>\n    </tr>\n  </tbody>\n</table>\n<p>1408 rows × 8 columns</p>\n</div>"
     },
     "execution_count": 292,
     "metadata": {},
     "output_type": "execute_result"
    }
   ],
   "source": [
    "quantitativeVariables = superheroData.iloc[:, [3, 4, 5, 6, 7, 8, 14, 15]]\n",
    "\n",
    "temp = [None]*(68-16)\n",
    "for i in range(16 - 16, 68):\n",
    "    temp[i] = i + 17\n",
    "\n",
    "categoricalVariables = superheroData.iloc[:, [0, 1, 2, 9, 10, 11, 12, 13] + temp]\n",
    "\n",
    "knnImputer = KNNImputer(n_neighbors = 10)\n",
    "\n",
    "quantitativeVariablesFilled = \\\n",
    "    pd.DataFrame(knnImputer.fit_transform(quantitativeVariables)).\\\n",
    "    rename(columns = {0:\"intelligence score\", 1:\"strength score\",\n",
    "                      2:\"speed score\", 3:\"durability score\",\n",
    "                      4:\"power score\", 5: \"combat score\",\n",
    "                      6:\"height (cm)\", 7:\"weight (kg)\" })\n",
    "\n",
    "quantitativeVariablesFilled\n",
    "\n",
    "\n"
   ],
   "metadata": {
    "collapsed": false,
    "pycharm": {
     "name": "#%%\n"
    }
   }
  },
  {
   "cell_type": "code",
   "execution_count": 311,
   "outputs": [
    {
     "data": {
      "text/plain": "      index           name               real_name  \\\n0         0        3-D Man     Delroy Garrett, Jr.   \n1         1  514A (Gotham)             Bruce Wayne   \n2         2         A-Bomb  Richard Milhouse Jones   \n3         3             Aa                      Aa   \n4         4     Aaron Cash              Aaron Cash   \n...     ...            ...                     ...   \n1403   1428           Zane                    Zane   \n1404   1429        Zatanna          Zatanna Zatara   \n1405   1430  Zoom (New 52)          Hunter Zolomon   \n1406   1431           Zoom          Hunter Zolomon   \n1407   1432          Zzzax                     NaN   \n\n                                            superpowers        creator  \\\n0                     ['Super Speed', 'Super Strength']  Marvel Comics   \n1          ['Durability', 'Reflexes', 'Super Strength']      DC Comics   \n2     ['Accelerated Healing', 'Agility', 'Berserk Mo...  Marvel Comics   \n3     ['Energy Absorption', 'Energy Armor', 'Energy ...      DC Comics   \n4             ['weapon based Powers', 'Weapons Master']      DC Comics   \n...                                                 ...            ...   \n1403  ['Agility', 'Animal Control', 'Cold Resistance...            NaN   \n1404  ['Cryokinesis', 'Fire Control', 'Magic', 'Prob...      DC Comics   \n1405  ['Accelerated Healing', 'Agility', 'Durability...      DC Comics   \n1406  ['Intangibility', 'Super Speed', 'Time Manipul...      DC Comics   \n1407  ['Absorption', 'Agility', 'Electrokinesis', 'E...  Marvel Comics   \n\n     alignment  gender  type_race has_electrokinesis has_energy_constructs  \\\n0         Good    Male      Human                  0                     0   \n1          NaN    Male        NaN                  0                     0   \n2         Good    Male      Human                  0                     0   \n3         Good    Male      Human                  0                     1   \n4         Good    Male      Human                  0                     0   \n...        ...     ...        ...                ...                   ...   \n1403      Good    Male    Android                  0                     0   \n1404      Good  Female      Human                  0                     0   \n1405       Bad    Male  Metahuman                  1                     0   \n1406       Bad    Male  Metahuman                  0                     0   \n1407       Bad    Male   Humanoid                  1                     0   \n\n      ... has_flight has_accelerated_healing has_weapons_master  \\\n0     ...          0                       0                  0   \n1     ...          0                       0                  0   \n2     ...          0                       1                  0   \n3     ...          0                       0                  0   \n4     ...          0                       0                  1   \n...   ...        ...                     ...                ...   \n1403  ...          1                       0                  1   \n1404  ...          0                       0                  0   \n1405  ...          0                       1                  0   \n1406  ...          0                       0                  0   \n1407  ...          1                       0                  0   \n\n     has_intelligence has_reflexes has_super_speed has_durability has_stamina  \\\n0                   0            0               1              0           0   \n1                   0            1               0              1           0   \n2                   0            1               1              1           1   \n3                   0            0               0              0           0   \n4                   0            0               0              0           0   \n...               ...          ...             ...            ...         ...   \n1403                1            1               0              1           1   \n1404                0            0               0              0           0   \n1405                1            1               1              1           1   \n1406                0            0               1              0           0   \n1407                0            0               1              0           0   \n\n     has_agility has_super_strength  \n0              0                  1  \n1              0                  1  \n2              1                  1  \n3              0                  0  \n4              0                  0  \n...          ...                ...  \n1403           1                  1  \n1404           0                  0  \n1405           1                  1  \n1406           0                  0  \n1407           1                  1  \n\n[1408 rows x 58 columns]",
      "text/html": "<div>\n<style scoped>\n    .dataframe tbody tr th:only-of-type {\n        vertical-align: middle;\n    }\n\n    .dataframe tbody tr th {\n        vertical-align: top;\n    }\n\n    .dataframe thead th {\n        text-align: right;\n    }\n</style>\n<table border=\"1\" class=\"dataframe\">\n  <thead>\n    <tr style=\"text-align: right;\">\n      <th></th>\n      <th>index</th>\n      <th>name</th>\n      <th>real_name</th>\n      <th>superpowers</th>\n      <th>creator</th>\n      <th>alignment</th>\n      <th>gender</th>\n      <th>type_race</th>\n      <th>has_electrokinesis</th>\n      <th>has_energy_constructs</th>\n      <th>...</th>\n      <th>has_flight</th>\n      <th>has_accelerated_healing</th>\n      <th>has_weapons_master</th>\n      <th>has_intelligence</th>\n      <th>has_reflexes</th>\n      <th>has_super_speed</th>\n      <th>has_durability</th>\n      <th>has_stamina</th>\n      <th>has_agility</th>\n      <th>has_super_strength</th>\n    </tr>\n  </thead>\n  <tbody>\n    <tr>\n      <th>0</th>\n      <td>0</td>\n      <td>3-D Man</td>\n      <td>Delroy Garrett, Jr.</td>\n      <td>['Super Speed', 'Super Strength']</td>\n      <td>Marvel Comics</td>\n      <td>Good</td>\n      <td>Male</td>\n      <td>Human</td>\n      <td>0</td>\n      <td>0</td>\n      <td>...</td>\n      <td>0</td>\n      <td>0</td>\n      <td>0</td>\n      <td>0</td>\n      <td>0</td>\n      <td>1</td>\n      <td>0</td>\n      <td>0</td>\n      <td>0</td>\n      <td>1</td>\n    </tr>\n    <tr>\n      <th>1</th>\n      <td>1</td>\n      <td>514A (Gotham)</td>\n      <td>Bruce Wayne</td>\n      <td>['Durability', 'Reflexes', 'Super Strength']</td>\n      <td>DC Comics</td>\n      <td>NaN</td>\n      <td>Male</td>\n      <td>NaN</td>\n      <td>0</td>\n      <td>0</td>\n      <td>...</td>\n      <td>0</td>\n      <td>0</td>\n      <td>0</td>\n      <td>0</td>\n      <td>1</td>\n      <td>0</td>\n      <td>1</td>\n      <td>0</td>\n      <td>0</td>\n      <td>1</td>\n    </tr>\n    <tr>\n      <th>2</th>\n      <td>2</td>\n      <td>A-Bomb</td>\n      <td>Richard Milhouse Jones</td>\n      <td>['Accelerated Healing', 'Agility', 'Berserk Mo...</td>\n      <td>Marvel Comics</td>\n      <td>Good</td>\n      <td>Male</td>\n      <td>Human</td>\n      <td>0</td>\n      <td>0</td>\n      <td>...</td>\n      <td>0</td>\n      <td>1</td>\n      <td>0</td>\n      <td>0</td>\n      <td>1</td>\n      <td>1</td>\n      <td>1</td>\n      <td>1</td>\n      <td>1</td>\n      <td>1</td>\n    </tr>\n    <tr>\n      <th>3</th>\n      <td>3</td>\n      <td>Aa</td>\n      <td>Aa</td>\n      <td>['Energy Absorption', 'Energy Armor', 'Energy ...</td>\n      <td>DC Comics</td>\n      <td>Good</td>\n      <td>Male</td>\n      <td>Human</td>\n      <td>0</td>\n      <td>1</td>\n      <td>...</td>\n      <td>0</td>\n      <td>0</td>\n      <td>0</td>\n      <td>0</td>\n      <td>0</td>\n      <td>0</td>\n      <td>0</td>\n      <td>0</td>\n      <td>0</td>\n      <td>0</td>\n    </tr>\n    <tr>\n      <th>4</th>\n      <td>4</td>\n      <td>Aaron Cash</td>\n      <td>Aaron Cash</td>\n      <td>['weapon based Powers', 'Weapons Master']</td>\n      <td>DC Comics</td>\n      <td>Good</td>\n      <td>Male</td>\n      <td>Human</td>\n      <td>0</td>\n      <td>0</td>\n      <td>...</td>\n      <td>0</td>\n      <td>0</td>\n      <td>1</td>\n      <td>0</td>\n      <td>0</td>\n      <td>0</td>\n      <td>0</td>\n      <td>0</td>\n      <td>0</td>\n      <td>0</td>\n    </tr>\n    <tr>\n      <th>...</th>\n      <td>...</td>\n      <td>...</td>\n      <td>...</td>\n      <td>...</td>\n      <td>...</td>\n      <td>...</td>\n      <td>...</td>\n      <td>...</td>\n      <td>...</td>\n      <td>...</td>\n      <td>...</td>\n      <td>...</td>\n      <td>...</td>\n      <td>...</td>\n      <td>...</td>\n      <td>...</td>\n      <td>...</td>\n      <td>...</td>\n      <td>...</td>\n      <td>...</td>\n      <td>...</td>\n    </tr>\n    <tr>\n      <th>1403</th>\n      <td>1428</td>\n      <td>Zane</td>\n      <td>Zane</td>\n      <td>['Agility', 'Animal Control', 'Cold Resistance...</td>\n      <td>NaN</td>\n      <td>Good</td>\n      <td>Male</td>\n      <td>Android</td>\n      <td>0</td>\n      <td>0</td>\n      <td>...</td>\n      <td>1</td>\n      <td>0</td>\n      <td>1</td>\n      <td>1</td>\n      <td>1</td>\n      <td>0</td>\n      <td>1</td>\n      <td>1</td>\n      <td>1</td>\n      <td>1</td>\n    </tr>\n    <tr>\n      <th>1404</th>\n      <td>1429</td>\n      <td>Zatanna</td>\n      <td>Zatanna Zatara</td>\n      <td>['Cryokinesis', 'Fire Control', 'Magic', 'Prob...</td>\n      <td>DC Comics</td>\n      <td>Good</td>\n      <td>Female</td>\n      <td>Human</td>\n      <td>0</td>\n      <td>0</td>\n      <td>...</td>\n      <td>0</td>\n      <td>0</td>\n      <td>0</td>\n      <td>0</td>\n      <td>0</td>\n      <td>0</td>\n      <td>0</td>\n      <td>0</td>\n      <td>0</td>\n      <td>0</td>\n    </tr>\n    <tr>\n      <th>1405</th>\n      <td>1430</td>\n      <td>Zoom (New 52)</td>\n      <td>Hunter Zolomon</td>\n      <td>['Accelerated Healing', 'Agility', 'Durability...</td>\n      <td>DC Comics</td>\n      <td>Bad</td>\n      <td>Male</td>\n      <td>Metahuman</td>\n      <td>1</td>\n      <td>0</td>\n      <td>...</td>\n      <td>0</td>\n      <td>1</td>\n      <td>0</td>\n      <td>1</td>\n      <td>1</td>\n      <td>1</td>\n      <td>1</td>\n      <td>1</td>\n      <td>1</td>\n      <td>1</td>\n    </tr>\n    <tr>\n      <th>1406</th>\n      <td>1431</td>\n      <td>Zoom</td>\n      <td>Hunter Zolomon</td>\n      <td>['Intangibility', 'Super Speed', 'Time Manipul...</td>\n      <td>DC Comics</td>\n      <td>Bad</td>\n      <td>Male</td>\n      <td>Metahuman</td>\n      <td>0</td>\n      <td>0</td>\n      <td>...</td>\n      <td>0</td>\n      <td>0</td>\n      <td>0</td>\n      <td>0</td>\n      <td>0</td>\n      <td>1</td>\n      <td>0</td>\n      <td>0</td>\n      <td>0</td>\n      <td>0</td>\n    </tr>\n    <tr>\n      <th>1407</th>\n      <td>1432</td>\n      <td>Zzzax</td>\n      <td>NaN</td>\n      <td>['Absorption', 'Agility', 'Electrokinesis', 'E...</td>\n      <td>Marvel Comics</td>\n      <td>Bad</td>\n      <td>Male</td>\n      <td>Humanoid</td>\n      <td>1</td>\n      <td>0</td>\n      <td>...</td>\n      <td>1</td>\n      <td>0</td>\n      <td>0</td>\n      <td>0</td>\n      <td>0</td>\n      <td>1</td>\n      <td>0</td>\n      <td>0</td>\n      <td>1</td>\n      <td>1</td>\n    </tr>\n  </tbody>\n</table>\n<p>1408 rows × 58 columns</p>\n</div>"
     },
     "execution_count": 311,
     "metadata": {},
     "output_type": "execute_result"
    }
   ],
   "source": [
    "temp = [i for i in range(18, 68)]\n",
    "\n",
    "temp\n",
    "\n",
    "categoricalVariables = superheroData.iloc[:, [0, 1, 2, 9, 10, 11, 12, 13] + temp]\n",
    "\n",
    "categoricalVariables"
   ],
   "metadata": {
    "collapsed": false,
    "pycharm": {
     "name": "#%%\n"
    }
   }
  },
  {
   "cell_type": "code",
   "execution_count": 312,
   "outputs": [
    {
     "data": {
      "text/plain": "[18,\n 19,\n 20,\n 21,\n 22,\n 23,\n 24,\n 25,\n 26,\n 27,\n 28,\n 29,\n 30,\n 31,\n 32,\n 33,\n 34,\n 35,\n 36,\n 37,\n 38,\n 39,\n 40,\n 41,\n 42,\n 43,\n 44,\n 45,\n 46,\n 47,\n 48,\n 49,\n 50,\n 51,\n 52,\n 53,\n 54,\n 55,\n 56,\n 57,\n 58,\n 59,\n 60,\n 61,\n 62,\n 63,\n 64,\n 65,\n 66,\n 67]"
     },
     "execution_count": 312,
     "metadata": {},
     "output_type": "execute_result"
    }
   ],
   "source": [
    "temp"
   ],
   "metadata": {
    "collapsed": false,
    "pycharm": {
     "name": "#%%\n"
    }
   }
  },
  {
   "cell_type": "code",
   "execution_count": null,
   "outputs": [],
   "source": [],
   "metadata": {
    "collapsed": false,
    "pycharm": {
     "name": "#%%\n"
    }
   }
  }
 ],
 "metadata": {
  "kernelspec": {
   "display_name": "Python 3",
   "language": "python",
   "name": "python3"
  },
  "language_info": {
   "codemirror_mode": {
    "name": "ipython",
    "version": 2
   },
   "file_extension": ".py",
   "mimetype": "text/x-python",
   "name": "python",
   "nbconvert_exporter": "python",
   "pygments_lexer": "ipython2",
   "version": "2.7.6"
  }
 },
 "nbformat": 4,
 "nbformat_minor": 0
}