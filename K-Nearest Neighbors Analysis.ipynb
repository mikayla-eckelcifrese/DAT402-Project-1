{
 "cells": [
  {
   "cell_type": "markdown",
   "metadata": {
    "pycharm": {
     "name": "#%% md\n"
    }
   },
   "source": [
    "Data source: https://www.kaggle.com/datasets/jonathanbesomi/superheroes-nlp-dataset\n",
    "\n",
    "Note that I did some of the data cleaning in Excel before importing the file into the Python project, so you need to load the Excel file provided, as the one downloaded directly from Kaggle won't be properly cleaned by the code below, as I wrote the code specifically for the already partially cleaned version of the data.\n",
    "\n",
    "To be specific as to how I modified the Excel file prior to importing it:\n",
    "In no particular order,\n",
    "1. I filled in many of the missing values in the gender column, specifically the ones where the name made the gender\n",
    "   obvious and/or I was familiar with the character\n",
    "2. I filled in some of the missing values for race and alignment, going by either personal knowledge of particular\n",
    "   characters, or by Googling the character\n",
    "3. Similarly for the creator column\n",
    "4. I replaced both the cells containing only \"-\" and the empty cells with cells containing \"NaN\".\n",
    "5. I put both the weight and height data into common units, i.e. I converted any meter measurements to cm and any ton measurements to kg.\n",
    "6. I deleted several of the rows that randomly contained character descriptions and no variable values, as well as empty\n",
    "   rows\n",
    "7. I deleted a few rows that contained very little information (i.e. most of the cells were blank)\n",
    "8. A few of the columns had a few values with differing capitalization (e.g. \"blue\" vs \"Blue\" in the eye color column) and I used Excel's \"Search and Replace\" function  to give them the same capitalization"
   ]
  },
  {
   "cell_type": "code",
   "execution_count": null,
   "outputs": [],
   "source": [
    "import pandas as pd\n",
    "pd.options.mode.chained_assignment = None\n",
    "\n",
    "from pandas_profiling import ProfileReport\n",
    "\n",
    "import numpy as np\n",
    "import sklearn as sk\n",
    "from sklearn.impute import KNNImputer\n",
    "from sklearn.impute import SimpleImputer\n",
    "from sklearn.decomposition import PCA\n",
    "import plotly.express as px\n",
    "\n",
    "%load_ext rpy2.ipython\n"
   ],
   "metadata": {
    "collapsed": false,
    "pycharm": {
     "name": "#%%\n",
     "is_executing": true
    }
   }
  },
  {
   "cell_type": "code",
   "execution_count": 47,
   "outputs": [],
   "source": [
    "%%R\n",
    "library(dplyr)\n",
    "library(ggplot2)\n",
    "\n",
    "library(e1071)\n",
    "library(caTools)\n",
    "library(class)\n",
    "library(caret)"
   ],
   "metadata": {
    "collapsed": false,
    "pycharm": {
     "name": "#%%\n"
    }
   }
  },
  {
   "cell_type": "markdown",
   "source": [
    "Read in and clean data"
   ],
   "metadata": {
    "collapsed": false,
    "pycharm": {
     "name": "#%% md\n"
    }
   }
  },
  {
   "cell_type": "code",
   "execution_count": 5,
   "outputs": [],
   "source": [
    "dropRows = [55, 76, 78, 81, 410, 481, 486, 490, 645, 653, 657, 693,\n",
    "            697, 840, 827, 830, 842, 844, 949, 950, 1059, 1063, 1077, 1079, 1081]\n",
    "#original data set had nonsense rows\n",
    "\n",
    "superheroData = \\\n",
    "    pd.read_excel(\"Superhero data.xlsx\").\\\n",
    "    drop(dropRows).\\\n",
    "    drop([\"full_name\"], axis = 1).\\\n",
    "    dropna(how = \"all\").\\\n",
    "    reset_index()#.\\\n",
    "    #drop([\"index\"], axis = 1)\n",
    "\n",
    "#Fix format of height and weight variables:\n",
    "columnLength = 1408\n",
    "\n",
    "for i in range(0, columnLength-1): #final row already has data in the correct form\n",
    "        #height data is of the form \"6'8 â€¢ 203 cm\" which would be very difficult to work with\n",
    "        #hence I'm extracting just the value in centimeters and converting to a float\n",
    "        #similar for weight\n",
    "\n",
    "        if not(str(superheroData[\"height\"][i]) == \"nan\"):\n",
    "            try:\n",
    "                superheroData[\"height\"][i] = float(str(superheroData[\"height\"][i]).split()[2]) #noqa\n",
    "            except:\n",
    "                superheroData[\"height\"][i] = \\\n",
    "                    str(superheroData.iloc[:,(\"height\", i)]).replace(',', '') #noqa\n",
    "                superheroData[\"height\"][i] = float(superheroData[\"height\"][i].split()[2]) #noqa\n",
    "\n",
    "        if not(str(superheroData[\"weight\"][i]) == \"nan\"):\n",
    "            try:\n",
    "                superheroData[\"weight\"][i] = float(str(superheroData[\"weight\"][i]).split()[3]) #noqa\n",
    "            except:\n",
    "                superheroData[\"weight\"][i] = str(superheroData[\"weight\"][i]).replace(',', '') #noqa\n",
    "                superheroData[\"weight\"][i] = float(superheroData[\"weight\"][i].split()[3]) #noqa\n",
    "\n",
    "superheroData;"
   ],
   "metadata": {
    "collapsed": false,
    "pycharm": {
     "name": "#%%\n"
    }
   }
  },
  {
   "cell_type": "markdown",
   "source": [
    "Check for and impute missing data values:"
   ],
   "metadata": {
    "collapsed": false,
    "pycharm": {
     "name": "#%% md\n"
    }
   }
  },
  {
   "cell_type": "code",
   "execution_count": 6,
   "outputs": [],
   "source": [
    "superheroData.isnull().sum();"
   ],
   "metadata": {
    "collapsed": false,
    "pycharm": {
     "name": "#%%\n"
    }
   }
  },
  {
   "cell_type": "code",
   "execution_count": 7,
   "outputs": [],
   "source": [
    "quantitativeVariables = superheroData.iloc[:, [3, 4, 5, 6, 7, 8, 14, 15]]\n",
    "\n",
    "knnImputer = KNNImputer(n_neighbors = 10)\n",
    "\n",
    "quantitativeVariablesFilled = \\\n",
    "    pd.DataFrame(knnImputer.fit_transform(quantitativeVariables)).\\\n",
    "    rename(columns = {0:\"intelligence score\", 1:\"strength score\",\n",
    "                      2:\"speed score\", 3:\"durability score\",\n",
    "                      4:\"power score\", 5: \"combat score\",\n",
    "                      6:\"height (cm)\", 7:\"weight (kg)\" })\n",
    "\n",
    "quantitativeVariablesFilled;"
   ],
   "metadata": {
    "collapsed": false,
    "pycharm": {
     "name": "#%%\n"
    }
   }
  },
  {
   "cell_type": "code",
   "execution_count": 8,
   "outputs": [],
   "source": [
    "categoricalVariableNames = [i for i in range(16, 68)]\n",
    "\n",
    "categoricalVariables = superheroData.iloc[:, [1, 2, 9, 10, 11, 12, 13] + categoricalVariableNames]\n",
    "\n",
    "simpleImputer = SimpleImputer(strategy = \"most_frequent\")\n",
    "\n",
    "categoricalVariablesFilled = pd.DataFrame(simpleImputer.fit_transform(categoricalVariables))\n",
    "\n",
    "categoricalVariablesFilled.columns = categoricalVariables.columns\n",
    "\n",
    "categoricalVariablesFilled;"
   ],
   "metadata": {
    "collapsed": false,
    "pycharm": {
     "name": "#%%\n"
    }
   }
  },
  {
   "cell_type": "code",
   "execution_count": 9,
   "outputs": [],
   "source": [
    "superheroDataFilled = pd.concat([categoricalVariablesFilled, quantitativeVariablesFilled], axis = 1)\n",
    "superheroDataFilled.head();"
   ],
   "metadata": {
    "collapsed": false,
    "pycharm": {
     "name": "#%%\n"
    }
   }
  },
  {
   "cell_type": "markdown",
   "source": [
    "Explore data:"
   ],
   "metadata": {
    "collapsed": false,
    "pycharm": {
     "name": "#%% md\n"
    }
   }
  },
  {
   "cell_type": "code",
   "execution_count": 10,
   "outputs": [],
   "source": [
    "%%R -i superheroDataFilled -o creatorNamesandCounts\n",
    "\n",
    "# noinspection PyUnreachableCode\n",
    "GetNamesandCounts = function(x, variable = 0, variable_name = 0)\n",
    "{\n",
    "    Counts = x %>% table() %>% as.vector()\n",
    "\n",
    "    Names = x %>% unique() %>% unlist() %>% sort()\n",
    "\n",
    "    if(variable == 0 & variable_name == 0)\n",
    "\t{\n",
    "        NamesandCounts = data.frame(Names, Counts) %>% setNames(c('creator names', 'creator counts'))\n",
    "\t}\n",
    "\n",
    "    else\n",
    "\t{\n",
    "        NamesandCounts = data.frame(Names, Counts) %>% setNames(c(paste0(variable_name, ' names'), paste0(variable_name, ' counts')))\n",
    "    }\n",
    "    return(NamesandCounts)\n",
    "}\n",
    "\n",
    "\n",
    "creatorNamesandCounts = GetNamesandCounts(superheroDataFilled['creator'])"
   ],
   "metadata": {
    "collapsed": false,
    "pycharm": {
     "name": "#%%\n"
    }
   }
  },
  {
   "cell_type": "code",
   "execution_count": 11,
   "outputs": [],
   "source": [
    "creatorsBarChart = px.bar(creatorNamesandCounts, x = 'creator names', y = 'creator counts')\n",
    "creatorsBarChart;"
   ],
   "metadata": {
    "collapsed": false,
    "pycharm": {
     "name": "#%%\n"
    }
   }
  },
  {
   "cell_type": "markdown",
   "source": [
    "Since, as the above bar graph shows, the vast majority characters in the data set are from the top 6 creators, the others are unlikely to contribute\n",
    "meaningfully to the overall patterns and will only complicate the analysis, hence I'll remove them and create a new graph:"
   ],
   "metadata": {
    "collapsed": false,
    "pycharm": {
     "name": "#%% md\n"
    }
   }
  },
  {
   "cell_type": "code",
   "execution_count": null,
   "outputs": [],
   "source": [
    "%%R -o superheroData_removed_infrequent_creators\n",
    "\n",
    "superheroData_removed_infrequent_creators =\n",
    "superheroDataFilled %>% filter(creator %in% c('Marvel Comics','DC Comics', 'Shueisha', 'Lego', 'Image Comics',\n",
    "                                              'George Lucas', 'Dark Horse Comics', 'NBC - Heroes'))\n",
    "\n",
    "creatorNamesandCounts = GetNamesandCounts(superheroData_removed_infrequent_creators['creator'])\n",
    "\n",
    "\n",
    "#create labels for new graph\n",
    "labels = function(x)\n",
    "{\n",
    "    labels = unlist(round((x/sum(x))*100, 1)) %>% as.vector\n",
    "\n",
    "    for(i in 1:length(labels))\n",
    "    {\n",
    "      labels[i] = paste0(toString(unlist(x)[i]), '\\n(', labels[i], '%', ')' )\n",
    "    }\n",
    "\n",
    "    labels\n",
    "}\n",
    "\n",
    "labels = labels(creatorNamesandCounts['creator counts'])\n",
    "\n",
    "ggplot(creatorNamesandCounts, aes(`creator names`, `creator counts`, label = labels)) +\n",
    "       geom_bar(stat = \"identity\", fill = 'pink', color = \"purple\", width = 0.75) +\n",
    "       theme(text = element_text(size=15), axis.text.x = element_text(angle = 90), panel.background = element_rect(fill = 'grey', color = 'grey')) +\n",
    "       geom_text( vjust = -0.5, label.size = 0.15) +\n",
    "       scale_y_continuous(limits = c(0, 825))\n",
    "\n"
   ],
   "metadata": {
    "collapsed": false,
    "pycharm": {
     "name": "#%%\n",
     "is_executing": true
    }
   }
  },
  {
   "cell_type": "markdown",
   "source": [
    "Further explore data, looking for outliers to remove (where I'm defining an outlier as a value whose relative frequency in its column is less than 1%)"
   ],
   "metadata": {
    "collapsed": false,
    "pycharm": {
     "name": "#%% md\n"
    }
   }
  },
  {
   "cell_type": "code",
   "execution_count": 13,
   "outputs": [],
   "source": [
    "%%R -i categoricalVariablesFilled -o categoricalVariableNames\n",
    "\n",
    "summaryTable = list()\n",
    "\n",
    "categoricalVariableNames = categoricalVariablesFilled %>% colnames\n",
    "\n",
    "for(i in 4:length(categoricalVariableNames))\n",
    "{\n",
    "    summaryTable[[i-3]] = superheroData_removed_infrequent_creators[paste0(categoricalVariableNames[i])] %>% table\n",
    "}\n"
   ],
   "metadata": {
    "collapsed": false,
    "pycharm": {
     "name": "#%%\n"
    }
   }
  },
  {
   "cell_type": "code",
   "execution_count": null,
   "outputs": [],
   "source": [
    "%%R -o summaryTable\n",
    "summaryTable"
   ],
   "metadata": {
    "collapsed": false,
    "pycharm": {
     "name": "#%%\n"
    }
   }
  },
  {
   "cell_type": "code",
   "execution_count": 14,
   "outputs": [],
   "source": [
    "%%R -o superheroDataFiltered\n",
    "\n",
    "superheroDataFiltered = superheroData_removed_infrequent_creators %>% subset(gender != 'None'  )"
   ],
   "metadata": {
    "collapsed": false,
    "pycharm": {
     "name": "#%%\n"
    }
   }
  },
  {
   "cell_type": "code",
   "execution_count": null,
   "outputs": [],
   "source": [
    "ProfileReport(superheroDataFiltered)"
   ],
   "metadata": {
    "collapsed": false,
    "pycharm": {
     "name": "#%%\n"
    }
   }
  },
  {
   "cell_type": "code",
   "execution_count": 15,
   "outputs": [],
   "source": [
    "%%R -o filteredNamesAndCounts\n",
    "\n",
    "GetRaceEyeAndHairNameandCounts = function(df)\n",
    "{\n",
    "    raceNamesandCounts = GetNamesandCounts(df['type_race'], 'type_race', 'race')\n",
    "\n",
    "    eyeColorNameandCounts = GetNamesandCounts(df['eye_color'], 'eye_color', 'eye color')\n",
    "\n",
    "    hairColorNameandCounts = GetNamesandCounts(df['hair_color'], 'hair_color', 'hair color')\n",
    "\n",
    "# noinspection PyArgumentList, PyRedundantParentheses\n",
    "    return(list(raceNamesandCounts = raceNamesandCounts, eyeColorNameandCounts = eyeColorNameandCounts, hairColorNameandCounts = hairColorNameandCounts))\n",
    "\n",
    "}\n",
    "\n",
    "filteredNamesAndCounts = GetRaceEyeAndHairNameandCounts(superheroDataFiltered)"
   ],
   "metadata": {
    "collapsed": false,
    "pycharm": {
     "name": "#%%\n"
    }
   }
  },
  {
   "cell_type": "code",
   "execution_count": null,
   "outputs": [],
   "source": [
    "def PlotRaceEyeAndHairNameandCounts(df):\n",
    "    px.bar(df['raceNamesandCounts'], x ='race names', y ='race counts').show()\n",
    "    px.bar(df['eyeColorNameandCounts'], x ='eye color names', y ='eye color counts').show()\n",
    "    px.bar(df['hairColorNameandCounts'], x ='hair color names', y ='hair color counts').show()\n",
    "\n",
    "PlotRaceEyeAndHairNameandCounts(filteredNamesAndCounts)"
   ],
   "metadata": {
    "collapsed": false,
    "pycharm": {
     "name": "#%%\n",
     "is_executing": true
    }
   }
  },
  {
   "cell_type": "code",
   "execution_count": 17,
   "outputs": [],
   "source": [
    "%%R -o superheroDataFiltered\n",
    "\n",
    "superheroDataFiltered =\n",
    "superheroDataFiltered %>% filter(type_race %in% c('Human', 'Mutant', 'Metahuman', 'God/Eternal',\n",
    "                                              'Alien ', 'Animal', 'Asgardian', 'Android', 'Cyborg','Human/Radiation')) %>%\n",
    "                        filter(eye_color %in% c('Blue', 'Black', 'Brown', 'Green', 'Red', 'White', 'Yellow')) %>%\n",
    "                        filter(hair_color %in% c('Black', 'Blond', 'Brown', 'No Hair', 'Red', 'White', 'Grey', 'Green',\n",
    "                                                'Strawberry', 'Auburn'))\n"
   ],
   "metadata": {
    "collapsed": false,
    "pycharm": {
     "name": "#%%\n"
    }
   }
  },
  {
   "cell_type": "code",
   "execution_count": null,
   "outputs": [],
   "source": [
    "ProfileReport(superheroDataFiltered)"
   ],
   "metadata": {
    "collapsed": false,
    "pycharm": {
     "name": "#%%\n"
    }
   }
  },
  {
   "cell_type": "markdown",
   "source": [
    "Only Top Two Creators"
   ],
   "metadata": {
    "collapsed": false,
    "pycharm": {
     "name": "#%% md\n"
    }
   }
  },
  {
   "cell_type": "code",
   "execution_count": 18,
   "outputs": [],
   "source": [
    "%%R -o OnlyTop2Creators\n",
    "\n",
    "OnlyTop2Creators  = superheroDataFilled %>% filter(creator %in% c('Marvel Comics','DC Comics'))"
   ],
   "metadata": {
    "collapsed": false,
    "pycharm": {
     "name": "#%%\n"
    }
   }
  },
  {
   "cell_type": "markdown",
   "source": [
    "Top two creators filtered data"
   ],
   "metadata": {
    "collapsed": false,
    "pycharm": {
     "name": "#%% md\n"
    }
   }
  },
  {
   "cell_type": "code",
   "execution_count": 19,
   "outputs": [],
   "source": [
    "%%R -o Top2CreatorNamesAndCounts\n",
    "Top2CreatorNamesAndCounts = GetRaceEyeAndHairNameandCounts(OnlyTop2Creators)"
   ],
   "metadata": {
    "collapsed": false,
    "pycharm": {
     "name": "#%%\n"
    }
   }
  },
  {
   "cell_type": "code",
   "execution_count": null,
   "outputs": [],
   "source": [
    "PlotRaceEyeAndHairNameandCounts(Top2CreatorNamesAndCounts)"
   ],
   "metadata": {
    "collapsed": false,
    "pycharm": {
     "name": "#%%\n",
     "is_executing": true
    }
   }
  },
  {
   "cell_type": "code",
   "execution_count": 21,
   "outputs": [],
   "source": [
    "%%R -o Top2CreatorsFiltered\n",
    "\n",
    "Top2CreatorsFiltered = OnlyTop2Creators %>% filter(type_race %in% c('Human', 'Mutant', 'Metahuman', 'Inhuman', 'God/Eternal',\n",
    "                                                                    'Human/Radiation', 'Alien ', 'Animal', 'Asgardian', 'Android',\n",
    "                                                                    'Cyborg','Human/Radiation')) %>%\n",
    "                        filter(eye_color %in% c('Blue', 'Black', 'Brown', 'Green', 'Red', 'White', 'Yellow')) %>%\n",
    "                        filter(hair_color %in% c('Black', 'Blond', 'Brown', 'No Hair', 'Red', 'White', 'Grey', 'Green',\n",
    "                                                'Strawberry', 'Auburn', 'Strawberry Blond'))"
   ],
   "metadata": {
    "collapsed": false,
    "pycharm": {
     "name": "#%%\n"
    }
   }
  },
  {
   "cell_type": "code",
   "execution_count": 22,
   "outputs": [],
   "source": [
    "%%R -o Top2CreatorsFilteredNamesAndCounts\n",
    "Top2CreatorsFilteredNamesAndCounts = GetRaceEyeAndHairNameandCounts(Top2CreatorsFiltered)"
   ],
   "metadata": {
    "collapsed": false,
    "pycharm": {
     "name": "#%%\n"
    }
   }
  },
  {
   "cell_type": "code",
   "execution_count": null,
   "outputs": [],
   "source": [
    "PlotRaceEyeAndHairNameandCounts(Top2CreatorsFilteredNamesAndCounts)"
   ],
   "metadata": {
    "collapsed": false,
    "pycharm": {
     "name": "#%%\n",
     "is_executing": true
    }
   }
  },
  {
   "cell_type": "markdown",
   "source": [
    "KNN Classification: Sort Values by Creator"
   ],
   "metadata": {
    "collapsed": false,
    "pycharm": {
     "name": "#%% md\n"
    }
   }
  },
  {
   "cell_type": "markdown",
   "source": [
    "Helper functions:"
   ],
   "metadata": {
    "collapsed": false,
    "pycharm": {
     "name": "#%% md\n"
    }
   }
  },
  {
   "cell_type": "code",
   "execution_count": 24,
   "outputs": [],
   "source": [
    "%%R\n",
    "\n",
    "ifmissing = function(x, value)\n",
    "{\n",
    "    if(missing(x))\n",
    "      return(value)\n",
    "    else\n",
    "        return(x)\n",
    "}\n",
    "\n",
    "KNN_SetUp = function(df, categoryColumn, splitRatio, quantitativeVariableColumns)\n",
    "{\n",
    "  #do train/test split for initial model\n",
    "  split = sample.split(categoryColumn, SplitRatio = 0.7)\n",
    "\n",
    "  training_set = subset(df, split == TRUE)\n",
    "  test_set = subset(df, split == FALSE)\n",
    "\n",
    "  #scale quantitative variables to similar ranges\n",
    "  train_scale = scale(training_set[, quantitativeVariableColumns])\n",
    "  test_scale = scale(test_set[, quantitativeVariableColumns])\n",
    "\n",
    "  return(list(train_scale, test_scale, training_set, test_set, split))\n",
    "}\n"
   ],
   "metadata": {
    "collapsed": false,
    "pycharm": {
     "name": "#%%\n"
    }
   }
  },
  {
   "cell_type": "markdown",
   "source": [
    "Main function"
   ],
   "metadata": {
    "collapsed": false,
    "pycharm": {
     "name": "#%% md\n"
    }
   }
  },
  {
   "cell_type": "code",
   "execution_count": 25,
   "outputs": [],
   "source": [
    "%%R -o temp\n",
    "\n",
    "KNN_Analysis = function(df, category, categoryColumn, initialSplitRatio, quantitativeVariableColumns, starting_k)\n",
    "{\n",
    "\n",
    "  initialSplitRatio = ifmissing(initialSplitRatio, 0.75)\n",
    "\n",
    "  quantitativeVariableColumns = ifmissing(quantitativeVariableColumns, 10:67)\n",
    "\n",
    "  starting_k = ifmissing(starting_k, 5)\n",
    "\n",
    "  set.seed(123)\n",
    "\n",
    "  temp = KNN_SetUp(df = df, categoryColumn = categoryColumn, splitRatio = initialSplitRatio,\n",
    "                   quantitativeVariableColumns = quantitativeVariableColumns)\n",
    "  train_scale <- temp[[1]]\n",
    "  test_scale = temp[[2]]\n",
    "  training_set <- temp[[3]]\n",
    "  test_set = temp[[4]]\n",
    "\n",
    "  #find best k\n",
    "  out_of_sample_error_k = c()\n",
    "  in_sample_error_k = c()\n",
    "\n",
    "  knnModels_VaryingK = vector(mode = 'list', length = 67)\n",
    "\n",
    "  #for(k in c(1:56))\n",
    "  #{\n",
    "    classifier_knn <- train(train = train_scale,\n",
    "                          test = test_scale,\n",
    "                          cl <- training_set$creator,\n",
    "                          k = k)\n",
    "    out_of_sample_error_k[k] = mean(classifier_knn != test_set$creator)\n",
    "    #in_sample_error_k[k] = mean(classifier_knn != training_set$creator)\n",
    "\n",
    "    knnModels_VaryingK[[k]] = classifier_knn\n",
    "  #}\n",
    "\n",
    "  best_k = which.min(out_of_sample_error_k)\n",
    "\n",
    "  #find best split ratio\n",
    "  outOfSampleErrorSplitRatio = c()\n",
    "  InSampleErrorSplitRatio = c()\n",
    "\n",
    "  knnModels_VarySplitRatio = vector(mode = 'list', length = 99)\n",
    "\n",
    "  skippedRatios = c()\n",
    "  skippedRatioCount = 0\n",
    "\n",
    "  for(i in 1:99)\n",
    "  {\n",
    "    temp = KNN_SetUp(df = df, categoryColumn = categoryColumn, splitRatio = i/100,\n",
    "                     quantitativeVariableColumns = quantitativeVariableColumns)\n",
    "    train_scale = temp[[1]]\n",
    "    test_scale = temp[[2]]\n",
    "    training_set <- temp[[3]]\n",
    "    test_set = temp[[4]]\n",
    "\n",
    "    if(train_scale %>% is.na %>% sum == 0 & test_scale %>% is.na %>% sum == 0)\n",
    "    {\n",
    "      classifier_knn = knn(train = train_scale,\n",
    "                            test = test_scale,\n",
    "                            cl = training_set$creator,\n",
    "                            k = best_k)\n",
    "\n",
    "      outOfSampleErrorSplitRatio[i] = mean(classifier_knn != test_set$creator)\n",
    "      #InSampleErrorSplitRatio[i] = mean(classifier_knn != training_set$creator)\n",
    "      knnModels_VarySplitRatio[[i]] = classifier_knn\n",
    "    }\n",
    "\n",
    "    else\n",
    "    {\n",
    "      skippedRatioCount = skippedRatioCount + 1\n",
    "      skippedRatios[skippedRatioCount] = i/100\n",
    "    }\n",
    "\n",
    "  }\n",
    "\n",
    "# noinspection PyRedundantParentheses\n",
    "  if(skippedRatioCount == 0)#:\n",
    "  {\n",
    "    skippedRatios = \"no skipped ratios\"\n",
    "  }\n",
    "\n",
    "  bestSplitRatio = which.min(outOfSampleErrorSplitRatio)/100\n",
    "\n",
    "  best_model = knnModels_VarySplitRatio[[bestSplitRatio*100]]\n",
    "\n",
    "  confusionMatrix_bestModel = table(test_set$creator, best_model)\n",
    "\n",
    "  results = list(out_of_sample_error_k = out_of_sample_error_k, knnModels_VaryingK = knnModels_VaryingK, best_k = best_k,\n",
    "              outOfSampleErrorSplitRatio = outOfSampleErrorSplitRatio, knnModels_VarySplitRatio = knnModels_VarySplitRatio,\n",
    "              bestSplitRatio = bestSplitRatio, best_model = best_model, confusionMatrix_bestModel = confusionMatrix_bestModel,\n",
    "              skippedRatios = skippedRatios, in_sample_error_k = in_sample_error_k, InSampleErrorSplitRatio = InSampleErrorSplitRatio)\n",
    "\n",
    "  return(list(out_of_sample_error_k = out_of_sample_error_k, knnModels_VaryingK = knnModels_VaryingK, best_k = best_k,\n",
    "              outOfSampleErrorSplitRatio = outOfSampleErrorSplitRatio, knnModels_VarySplitRatio = knnModels_VarySplitRatio,\n",
    "              bestSplitRatio = bestSplitRatio, best_model = best_model, confusionMatrix_bestModel = confusionMatrix_bestModel,\n",
    "              skippedRatios = skippedRatios, in_sample_error_k = in_sample_error_k, InSampleErrorSplitRatio = InSampleErrorSplitRatio,\n",
    "              train_data = training_set$creator))\n",
    "\n",
    "}\n",
    "\n",
    "temp = 0\n"
   ],
   "metadata": {
    "collapsed": false,
    "pycharm": {
     "name": "#%%\n"
    }
   }
  },
  {
   "cell_type": "code",
   "execution_count": 239,
   "outputs": [],
   "source": [
    "%%R -o test\n",
    "KNN_Classifier = function(df)\n",
    "{\n",
    "    training_row_index = createDataPartition(df[,4], p=0.73, list=FALSE)\n",
    "\n",
    "    training_set = df[training_row_index, 10:67]\n",
    "    training_class = df[training_row_index, 4]\n",
    "\n",
    "    test_set = df[-training_row_index, 10:67]\n",
    "    test_class = df[-training_row_index, 4]\n",
    "\n",
    "    classifier_knn = train(x = training_set,\n",
    "                     y = training_class,\n",
    "                     method = 'knn',\n",
    "                     preProcess = c(\"center\", \"scale\"),\n",
    "                     tuneGrid = data.frame(k = c(1:56)),\n",
    "                     trControl =\n",
    "                     trainControl(method = \"repeatedcv\", number = 5, repeats = 3)\n",
    "                 )\n",
    "\n",
    "    outOfSampleResults = predict(classifier_knn, test_set)\n",
    "    InSampleResults = predict(classifier_knn, training_set)\n",
    "\n",
    "    outOfSampleError = mean(as.data.frame(outOfSampleResults) != test_class)\n",
    "    InSampleError = mean(as.data.frame(InSampleResults) != training_class)\n",
    "\n",
    "    cm = table(Actl = test_class, Pred = outOfSampleResults)\n",
    "\n",
    "    KvsAccuracyDF = classifier_knn$results[c(1:2)] %>% as.data.frame\n",
    "\n",
    "    best_k = classifier_knn$bestTune[[1]]\n",
    "\n",
    "    return(list(KvsAccuracyDF = KvsAccuracyDF, best_k = best_k, outOfSampleResults = outOfSampleResults,\n",
    "                InSampleResults = InSampleResults, outOfSampleError = outOfSampleError,\n",
    "                InSampleError = InSampleError, cm = cm))\n",
    "\n",
    "}"
   ],
   "metadata": {
    "collapsed": false,
    "pycharm": {
     "name": "#%%\n"
    }
   }
  },
  {
   "cell_type": "markdown",
   "source": [
    "Classification of unfiltered data"
   ],
   "metadata": {
    "collapsed": false,
    "pycharm": {
     "name": "#%% md\n"
    }
   }
  },
  {
   "cell_type": "code",
   "execution_count": 240,
   "outputs": [
    {
     "name": "stdout",
     "output_type": "stream",
     "text": [
      "Time difference of 1.176623 mins\n"
     ]
    }
   ],
   "source": [
    "%%R -o knn_results_unfiltered_data\n",
    "knn_results_unfiltered_data = KNN_Classifier(superheroDataFilled)"
   ],
   "metadata": {
    "collapsed": false,
    "pycharm": {
     "name": "#%%\n"
    }
   }
  },
  {
   "cell_type": "code",
   "execution_count": 303,
   "outputs": [
    {
     "name": "stdout",
     "output_type": "stream",
     "text": [
      "best k = 13\n",
      "out of sample error rate of best model = 38.889%\n",
      "in sample error rate of best model = 40.267%\n"
     ]
    }
   ],
   "source": [
    "def Show_KNN_Results(KNN_results, confusionMatrixNames = None): #too many categories for it to be worth displaying the confusion matrix for the full dataset, but worth                                                                 #it for the filtered data set\n",
    "    best_k = KNN_results['best_k'][0]\n",
    "    outOfSampleError = KNN_results['outOfSampleError'][0]\n",
    "    InSampleError = KNN_results['InSampleError'][0]\n",
    "\n",
    "    print(\"\".join([\"best k = \", str(best_k)]))\n",
    "    print(\"\".join([\"out of sample error rate of best model = \", str(round(outOfSampleError * 100, 3)), \"%\"]))\n",
    "    print(\"\".join([\"in sample error rate of best model = \", str(round(InSampleError * 100, 3)), \"%\"]))\n",
    "\n",
    "    if confusionMatrixNames is not None:\n",
    "        confusionMatrix_bestModel = pd.DataFrame(KNN_results['cm'], columns = confusionMatrixNames['columns'], index = confusionMatrixNames['rows'])\n",
    "        print(\"Confusion Matrix for best model:\")\n",
    "        print(confusionMatrix_bestModel)\n",
    "\n",
    "Show_KNN_Results(knn_results_unfiltered_data);"
   ],
   "metadata": {
    "collapsed": false,
    "pycharm": {
     "name": "#%%\n"
    }
   }
  },
  {
   "cell_type": "markdown",
   "source": [
    "Plot of accuracy of model with varying k value"
   ],
   "metadata": {
    "collapsed": false,
    "pycharm": {
     "name": "#%% md\n"
    }
   }
  },
  {
   "cell_type": "code",
   "execution_count": 296,
   "outputs": [
    {
     "data": {
      "image/png": "[encoded data removed]"
     },
     "metadata": {},
     "output_type": "display_data"
    }
   ],
   "source": [
    "%%R -o x\n",
    "\n",
    "plotError = function(knn_results, DataName)\n",
    "{\n",
    "    plot(x = 1:56, y = 1 - knn_results[['KvsAccuracyDF']][['Accuracy']], main = paste0(\"K vs Out of Sample Error: \", DataName),\n",
    "                                                                        xlab = \"k value\", ylab = \"Out of Sample Error Rate\")\n",
    "}\n",
    "x = 0\n",
    "\n",
    "plotError(knn_results_unfiltered_data, DataName = \"Unfiltered Data\")\n"
   ],
   "metadata": {
    "collapsed": false,
    "pycharm": {
     "name": "#%%\n"
    }
   }
  },
  {
   "cell_type": "markdown",
   "source": [
    "Classification of Filtered Data"
   ],
   "metadata": {
    "collapsed": false,
    "pycharm": {
     "name": "#%% md\n"
    }
   }
  },
  {
   "cell_type": "code",
   "execution_count": 306,
   "outputs": [],
   "source": [
    "%%R -o knn_results_filtered_data\n",
    "knn_results_filtered_data = KNN_Classifier(superheroDataFiltered)"
   ],
   "metadata": {
    "collapsed": false,
    "pycharm": {
     "name": "#%%\n"
    }
   }
  },
  {
   "cell_type": "code",
   "execution_count": 307,
   "outputs": [],
   "source": [
    "%%R -o names_fd\n",
    "\n",
    "cmNames = function(knn_results)\n",
    "{\n",
    "  cmRows = knn_results$cm %>% row.names\n",
    "  cmColumns = knn_results$cm %>% colnames\n",
    "\n",
    "  return(list(columns = cmColumns, rows = cmRows))\n",
    "}\n",
    "\n",
    "names_fd = cmNames(knn_results_filtered_data)"
   ],
   "metadata": {
    "collapsed": false,
    "pycharm": {
     "name": "#%%\n"
    }
   }
  },
  {
   "cell_type": "code",
   "execution_count": 308,
   "outputs": [
    {
     "name": "stdout",
     "output_type": "stream",
     "text": [
      "best k = 20\n",
      "out of sample error rate of best model = 40.408%\n",
      "in sample error rate of best model = 35.147%\n",
      "Confusion Matrix for best model:\n",
      "                   Dark Horse Comics  DC Comics  George Lucas  Image Comics  \\\n",
      "Dark Horse Comics                  0          1             0             0   \n",
      "DC Comics                          0         28             0             0   \n",
      "George Lucas                       0          0             0             0   \n",
      "Image Comics                       0          0             0             0   \n",
      "Lego                               0          3             0             0   \n",
      "Marvel Comics                      0         26             0             0   \n",
      "NBC - Heroes                       0          0             0             0   \n",
      "Shueisha                           0          0             0             0   \n",
      "\n",
      "                   Lego  Marvel Comics  NBC - Heroes  Shueisha  \n",
      "Dark Horse Comics     0              2             0         0  \n",
      "DC Comics             0             53             0         0  \n",
      "George Lucas          0              2             0         0  \n",
      "Image Comics          0              2             0         0  \n",
      "Lego                  0              1             0         0  \n",
      "Marvel Comics         0            118             0         0  \n",
      "NBC - Heroes          0              4             0         0  \n",
      "Shueisha              0              5             0         0  \n"
     ]
    }
   ],
   "source": [
    "Show_KNN_Results(knn_results_filtered_data, confusionMatrixNames = names_fd)"
   ],
   "metadata": {
    "collapsed": false,
    "pycharm": {
     "name": "#%%\n"
    }
   }
  },
  {
   "cell_type": "code",
   "execution_count": 309,
   "outputs": [
    {
     "data": {
      "image/png": "[encoded data removed]"
     },
     "metadata": {},
     "output_type": "display_data"
    }
   ],
   "source": [
    "%%R\n",
    "plotError(knn_results_filtered_data, DataName = \"Filtered Data\")"
   ],
   "metadata": {
    "collapsed": false,
    "pycharm": {
     "name": "#%%\n"
    }
   }
  },
  {
   "cell_type": "markdown",
   "source": [
    "Since some of the error seems to come from the model attempting to  classify values into from creators other than the top two (as the top creators categories are SO much more frequent then the others, even having removed all the least frequent ones), let's see how the a KNN model does on data containing only values from the top two categories, first without any of the outliers from the other categorical  other variables removed.  Interestingly, the error rate for the KNN model on the data with all the creators but other outliers removed was actually slightly higher than for the completely unfiltered data, so it'll be interesting to see if that's also the case with the filtered vs unfiltered data below."
   ],
   "metadata": {
    "collapsed": false,
    "pycharm": {
     "name": "#%% md\n"
    }
   }
  },
  {
   "cell_type": "markdown",
   "source": [
    "Analysis on data with infrequent creator values removed"
   ],
   "metadata": {
    "collapsed": false,
    "pycharm": {
     "name": "#%% md\n"
    }
   }
  },
  {
   "cell_type": "code",
   "execution_count": 297,
   "outputs": [],
   "source": [
    "%%R -o knn_results_no_infrequent_creators\n",
    "knn_results_no_infrequent_creators = KNN_Classifier(superheroData_removed_infrequent_creators)"
   ],
   "metadata": {
    "collapsed": false,
    "pycharm": {
     "name": "#%%\n"
    }
   }
  },
  {
   "cell_type": "code",
   "execution_count": null,
   "outputs": [],
   "source": [
    "%%R -o names\n",
    "\n",
    "names = cmNames(knn_results_no_infrequent_creators)"
   ],
   "metadata": {
    "collapsed": false,
    "pycharm": {
     "name": "#%%\n",
     "is_executing": true
    }
   }
  },
  {
   "cell_type": "code",
   "execution_count": 305,
   "outputs": [
    {
     "name": "stdout",
     "output_type": "stream",
     "text": [
      "best k = 8\n",
      "out of sample error rate of best model = 39.13%\n",
      "in sample error rate of best model = 31.296%\n",
      "Confusion Matrix for best model:\n",
      "                   Dark Horse Comics  DC Comics  George Lucas  Image Comics  \\\n",
      "Dark Horse Comics                  0          3             0             0   \n",
      "DC Comics                          0         42             0             0   \n",
      "George Lucas                       0          1             2             0   \n",
      "Image Comics                       0          0             0             0   \n",
      "Lego                               0          1             0             0   \n",
      "Marvel Comics                      0         35             0             0   \n",
      "NBC - Heroes                       0          0             0             0   \n",
      "Shueisha                           0          3             0             0   \n",
      "\n",
      "                   Lego  Marvel Comics  NBC - Heroes  Shueisha  \n",
      "Dark Horse Comics     0              4             0         0  \n",
      "DC Comics             0             70             1         0  \n",
      "George Lucas          0              1             0         0  \n",
      "Image Comics          0              4             0         0  \n",
      "Lego                  0              4             0         0  \n",
      "Marvel Comics         0            163             1         0  \n",
      "NBC - Heroes          0              4             0         0  \n",
      "Shueisha              0              3             0         3  \n"
     ]
    }
   ],
   "source": [
    "Show_KNN_Results(knn_results_no_infrequent_creators, confusionMatrixNames = names)"
   ],
   "metadata": {
    "collapsed": false,
    "pycharm": {
     "name": "#%%\n"
    }
   }
  },
  {
   "cell_type": "code",
   "execution_count": null,
   "outputs": [],
   "source": [
    "%%R\n",
    "plotError(knn_results_no_infrequent_creators, DataName = \"Data with Infrequent Creators Removed\")"
   ],
   "metadata": {
    "collapsed": false,
    "pycharm": {
     "name": "#%%\n",
     "is_executing": true
    }
   }
  },
  {
   "cell_type": "markdown",
   "source": [
    "Analysis on filtered data\n"
   ],
   "metadata": {
    "collapsed": false,
    "pycharm": {
     "name": "#%% md\n"
    }
   }
  },
  {
   "cell_type": "code",
   "execution_count": 37,
   "outputs": [],
   "source": [
    "%%R -o knn_results_only_2_creators\n",
    "knn_results_only_2_creators = KNN_Analysis(OnlyTop2Creators, categoryColumn = OnlyTop2Creators$creator, initialSplitRatio = 0.73,\n",
    "                    quantitativeVariableColumns = 10:67, starting_k = 24)"
   ],
   "metadata": {
    "collapsed": false,
    "pycharm": {
     "name": "#%%\n"
    }
   }
  },
  {
   "cell_type": "code",
   "execution_count": 38,
   "outputs": [],
   "source": [
    "%%R -o confusionMatrixNames\n",
    "confusionMatrixNames = knn_results_only_2_creators[[8]] %>% row.names"
   ],
   "metadata": {
    "collapsed": false,
    "pycharm": {
     "name": "#%%\n"
    }
   }
  },
  {
   "cell_type": "code",
   "execution_count": null,
   "outputs": [],
   "source": [
    "Show_KNN_Results(knn_results_only_2_creators, confusionMatrixNames = confusionMatrixNames)"
   ],
   "metadata": {
    "collapsed": false,
    "pycharm": {
     "name": "#%%\n",
     "is_executing": true
    }
   }
  },
  {
   "cell_type": "code",
   "execution_count": null,
   "outputs": [],
   "source": [
    "%%R\n",
    "plotError(knn_results_only_2_creators, DataName = \"Data with only Top 2 Creators\")"
   ],
   "metadata": {
    "collapsed": false,
    "pycharm": {
     "name": "#%%\n",
     "is_executing": true
    }
   }
  },
  {
   "cell_type": "code",
   "execution_count": 41,
   "outputs": [],
   "source": [
    "%%R -o knn_results_Top2CreatorsFiltered\n",
    "knn_results_Top2CreatorsFiltered = KNN_Analysis(Top2CreatorsFiltered, categoryColumn = Top2CreatorsFiltered$creator,\n",
    "                                                initialSplitRatio = 0.73, quantitativeVariableColumns = 10:67,\n",
    "                                                starting_k = 24)"
   ],
   "metadata": {
    "collapsed": false,
    "pycharm": {
     "name": "#%%\n"
    }
   }
  },
  {
   "cell_type": "code",
   "execution_count": 42,
   "outputs": [],
   "source": [
    "%%R -o confusionMatrixNames\n",
    "confusionMatrixNames = knn_results_Top2CreatorsFiltered[[8]] %>% row.names"
   ],
   "metadata": {
    "collapsed": false,
    "pycharm": {
     "name": "#%%\n"
    }
   }
  },
  {
   "cell_type": "code",
   "execution_count": null,
   "outputs": [],
   "source": [
    "Show_KNN_Results(knn_results_Top2CreatorsFiltered, confusionMatrixNames = confusionMatrixNames)"
   ],
   "metadata": {
    "collapsed": false,
    "pycharm": {
     "name": "#%%\n",
     "is_executing": true
    }
   }
  },
  {
   "cell_type": "code",
   "execution_count": null,
   "outputs": [],
   "source": [
    "%%R\n",
    "plotError(knn_results_Top2CreatorsFiltered, DataName = \"Filtered Data with only Top 2 Creators\")"
   ],
   "metadata": {
    "collapsed": false,
    "pycharm": {
     "name": "#%%\n",
     "is_executing": true
    }
   }
  },
  {
   "cell_type": "markdown",
   "source": [
    "Cross-validation"
   ],
   "metadata": {
    "collapsed": false,
    "pycharm": {
     "name": "#%% md\n"
    }
   }
  },
  {
   "cell_type": "code",
   "execution_count": null,
   "outputs": [],
   "source": [],
   "metadata": {
    "collapsed": false,
    "pycharm": {
     "name": "#%%\n"
    }
   }
  }
 ],
 "metadata": {
  "kernelspec": {
   "display_name": "Python 3 (ipykernel)",
   "language": "python",
   "name": "python3"
  },
  "language_info": {
   "codemirror_mode": {
    "name": "ipython",
    "version": 3
   },
   "file_extension": ".py",
   "mimetype": "text/x-python",
   "name": "python",
   "nbconvert_exporter": "python",
   "pygments_lexer": "ipython3",
   "version": "3.10.0"
  }
 },
 "nbformat": 4,
 "nbformat_minor": 1
}