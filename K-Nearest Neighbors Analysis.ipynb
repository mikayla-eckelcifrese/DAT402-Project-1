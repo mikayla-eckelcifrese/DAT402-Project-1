{
 "cells": [
  {
   "cell_type": "code",
   "execution_count": 63,
   "metadata": {
    "collapsed": true,
    "pycharm": {
     "name": "#%%\n"
    }
   },
   "outputs": [],
   "source": [
    "import pandas as pd\n",
    "import numpy as np\n",
    "import sklearn as sk\n",
    "from sklearn.impute import KNNImputer"
   ]
  },
  {
   "cell_type": "markdown",
   "source": [
    "Read in and clean data"
   ],
   "metadata": {
    "collapsed": false,
    "pycharm": {
     "name": "#%% md\n"
    }
   }
  },
  {
   "cell_type": "code",
   "execution_count": 195,
   "outputs": [
    {
     "data": {
      "text/plain": "      index           name               real_name intelligence_score  \\\n0         0        3 D Man     Delroy Garrett, Jr.                 85   \n1         1  514A (Gotham)             Bruce Wayne                100   \n2         2         A Bomb  Richard Milhouse Jones                 80   \n3         3             Aa                      Aa                 80   \n4         4     Aaron Cash              Aaron Cash                 80   \n...     ...            ...                     ...                ...   \n1403   1428           Zane                    Zane                100   \n1404   1429        Zatanna          Zatanna Zatara                 90   \n1405   1430  Zoom (New 52)          Hunter Zolomon                 95   \n1406   1431           Zoom          Hunter Zolomon                 75   \n1407   1432          Zzzax                     NaN                 45   \n\n     strength_score speed_score durability_score power_score combat_score  \\\n0                30          60               60          40           70   \n1                20          30               50          35          100   \n2               100          80              100         100           80   \n3                50          55               45         100           55   \n4                10          25               40          30           50   \n...             ...         ...              ...         ...          ...   \n1403             35          50               60         100          100   \n1404             10          25               30         100           55   \n1405             50         100               75         100           80   \n1406             10         100               30         100           30   \n1407             80          75               95          80           50   \n\n                                            superpowers  ...  \\\n0                     ['Super Speed', 'Super Strength']  ...   \n1          ['Durability', 'Reflexes', 'Super Strength']  ...   \n2     ['Accelerated Healing', 'Agility', 'Berserk Mo...  ...   \n3     ['Energy Absorption', 'Energy Armor', 'Energy ...  ...   \n4             ['Weapon based Powers', 'Weapons Master']  ...   \n...                                                 ...  ...   \n1403  ['Agility', 'Animal Control', 'Cold Resistance...  ...   \n1404  ['Cryokinesis', 'Fire Control', 'Magic', 'Prob...  ...   \n1405  ['Accelerated Healing', 'Agility', 'Durability...  ...   \n1406  ['Intangibility', 'Super Speed', 'Time Manipul...  ...   \n1407  ['Absorption', 'Agility', 'Electrokinesis', 'E...  ...   \n\n     has_accelerated_healing has_weapons_master has_intelligence has_reflexes  \\\n0                          0                  0                0            0   \n1                          0                  0                0            1   \n2                          1                  0                0            1   \n3                          0                  0                0            0   \n4                          0                  1                0            0   \n...                      ...                ...              ...          ...   \n1403                       0                  1                1            1   \n1404                       0                  0                0            0   \n1405                       1                  0                1            1   \n1406                       0                  0                0            0   \n1407                       0                  0                0            0   \n\n     has_super_speed has_durability has_stamina has_agility  \\\n0                  1              0           0           0   \n1                  0              1           0           0   \n2                  1              1           1           1   \n3                  0              0           0           0   \n4                  0              0           0           0   \n...              ...            ...         ...         ...   \n1403               0              1           1           1   \n1404               0              0           0           0   \n1405               1              1           1           1   \n1406               1              0           0           0   \n1407               1              0           0           1   \n\n     has_super_strength Unnamed: 68  \n0                     1         NaN  \n1                     1         NaN  \n2                     1         NaN  \n3                     0         NaN  \n4                     0         NaN  \n...                 ...         ...  \n1403                  1         NaN  \n1404                  0         NaN  \n1405                  1         NaN  \n1406                  0         NaN  \n1407                  1         NaN  \n\n[1408 rows x 69 columns]",
      "text/html": "<div>\n<style scoped>\n    .dataframe tbody tr th:only-of-type {\n        vertical-align: middle;\n    }\n\n    .dataframe tbody tr th {\n        vertical-align: top;\n    }\n\n    .dataframe thead th {\n        text-align: right;\n    }\n</style>\n<table border=\"1\" class=\"dataframe\">\n  <thead>\n    <tr style=\"text-align: right;\">\n      <th></th>\n      <th>index</th>\n      <th>name</th>\n      <th>real_name</th>\n      <th>intelligence_score</th>\n      <th>strength_score</th>\n      <th>speed_score</th>\n      <th>durability_score</th>\n      <th>power_score</th>\n      <th>combat_score</th>\n      <th>superpowers</th>\n      <th>...</th>\n      <th>has_accelerated_healing</th>\n      <th>has_weapons_master</th>\n      <th>has_intelligence</th>\n      <th>has_reflexes</th>\n      <th>has_super_speed</th>\n      <th>has_durability</th>\n      <th>has_stamina</th>\n      <th>has_agility</th>\n      <th>has_super_strength</th>\n      <th>Unnamed: 68</th>\n    </tr>\n  </thead>\n  <tbody>\n    <tr>\n      <th>0</th>\n      <td>0</td>\n      <td>3 D Man</td>\n      <td>Delroy Garrett, Jr.</td>\n      <td>85</td>\n      <td>30</td>\n      <td>60</td>\n      <td>60</td>\n      <td>40</td>\n      <td>70</td>\n      <td>['Super Speed', 'Super Strength']</td>\n      <td>...</td>\n      <td>0</td>\n      <td>0</td>\n      <td>0</td>\n      <td>0</td>\n      <td>1</td>\n      <td>0</td>\n      <td>0</td>\n      <td>0</td>\n      <td>1</td>\n      <td>NaN</td>\n    </tr>\n    <tr>\n      <th>1</th>\n      <td>1</td>\n      <td>514A (Gotham)</td>\n      <td>Bruce Wayne</td>\n      <td>100</td>\n      <td>20</td>\n      <td>30</td>\n      <td>50</td>\n      <td>35</td>\n      <td>100</td>\n      <td>['Durability', 'Reflexes', 'Super Strength']</td>\n      <td>...</td>\n      <td>0</td>\n      <td>0</td>\n      <td>0</td>\n      <td>1</td>\n      <td>0</td>\n      <td>1</td>\n      <td>0</td>\n      <td>0</td>\n      <td>1</td>\n      <td>NaN</td>\n    </tr>\n    <tr>\n      <th>2</th>\n      <td>2</td>\n      <td>A Bomb</td>\n      <td>Richard Milhouse Jones</td>\n      <td>80</td>\n      <td>100</td>\n      <td>80</td>\n      <td>100</td>\n      <td>100</td>\n      <td>80</td>\n      <td>['Accelerated Healing', 'Agility', 'Berserk Mo...</td>\n      <td>...</td>\n      <td>1</td>\n      <td>0</td>\n      <td>0</td>\n      <td>1</td>\n      <td>1</td>\n      <td>1</td>\n      <td>1</td>\n      <td>1</td>\n      <td>1</td>\n      <td>NaN</td>\n    </tr>\n    <tr>\n      <th>3</th>\n      <td>3</td>\n      <td>Aa</td>\n      <td>Aa</td>\n      <td>80</td>\n      <td>50</td>\n      <td>55</td>\n      <td>45</td>\n      <td>100</td>\n      <td>55</td>\n      <td>['Energy Absorption', 'Energy Armor', 'Energy ...</td>\n      <td>...</td>\n      <td>0</td>\n      <td>0</td>\n      <td>0</td>\n      <td>0</td>\n      <td>0</td>\n      <td>0</td>\n      <td>0</td>\n      <td>0</td>\n      <td>0</td>\n      <td>NaN</td>\n    </tr>\n    <tr>\n      <th>4</th>\n      <td>4</td>\n      <td>Aaron Cash</td>\n      <td>Aaron Cash</td>\n      <td>80</td>\n      <td>10</td>\n      <td>25</td>\n      <td>40</td>\n      <td>30</td>\n      <td>50</td>\n      <td>['Weapon based Powers', 'Weapons Master']</td>\n      <td>...</td>\n      <td>0</td>\n      <td>1</td>\n      <td>0</td>\n      <td>0</td>\n      <td>0</td>\n      <td>0</td>\n      <td>0</td>\n      <td>0</td>\n      <td>0</td>\n      <td>NaN</td>\n    </tr>\n    <tr>\n      <th>...</th>\n      <td>...</td>\n      <td>...</td>\n      <td>...</td>\n      <td>...</td>\n      <td>...</td>\n      <td>...</td>\n      <td>...</td>\n      <td>...</td>\n      <td>...</td>\n      <td>...</td>\n      <td>...</td>\n      <td>...</td>\n      <td>...</td>\n      <td>...</td>\n      <td>...</td>\n      <td>...</td>\n      <td>...</td>\n      <td>...</td>\n      <td>...</td>\n      <td>...</td>\n      <td>...</td>\n    </tr>\n    <tr>\n      <th>1403</th>\n      <td>1428</td>\n      <td>Zane</td>\n      <td>Zane</td>\n      <td>100</td>\n      <td>35</td>\n      <td>50</td>\n      <td>60</td>\n      <td>100</td>\n      <td>100</td>\n      <td>['Agility', 'Animal Control', 'Cold Resistance...</td>\n      <td>...</td>\n      <td>0</td>\n      <td>1</td>\n      <td>1</td>\n      <td>1</td>\n      <td>0</td>\n      <td>1</td>\n      <td>1</td>\n      <td>1</td>\n      <td>1</td>\n      <td>NaN</td>\n    </tr>\n    <tr>\n      <th>1404</th>\n      <td>1429</td>\n      <td>Zatanna</td>\n      <td>Zatanna Zatara</td>\n      <td>90</td>\n      <td>10</td>\n      <td>25</td>\n      <td>30</td>\n      <td>100</td>\n      <td>55</td>\n      <td>['Cryokinesis', 'Fire Control', 'Magic', 'Prob...</td>\n      <td>...</td>\n      <td>0</td>\n      <td>0</td>\n      <td>0</td>\n      <td>0</td>\n      <td>0</td>\n      <td>0</td>\n      <td>0</td>\n      <td>0</td>\n      <td>0</td>\n      <td>NaN</td>\n    </tr>\n    <tr>\n      <th>1405</th>\n      <td>1430</td>\n      <td>Zoom (New 52)</td>\n      <td>Hunter Zolomon</td>\n      <td>95</td>\n      <td>50</td>\n      <td>100</td>\n      <td>75</td>\n      <td>100</td>\n      <td>80</td>\n      <td>['Accelerated Healing', 'Agility', 'Durability...</td>\n      <td>...</td>\n      <td>1</td>\n      <td>0</td>\n      <td>1</td>\n      <td>1</td>\n      <td>1</td>\n      <td>1</td>\n      <td>1</td>\n      <td>1</td>\n      <td>1</td>\n      <td>NaN</td>\n    </tr>\n    <tr>\n      <th>1406</th>\n      <td>1431</td>\n      <td>Zoom</td>\n      <td>Hunter Zolomon</td>\n      <td>75</td>\n      <td>10</td>\n      <td>100</td>\n      <td>30</td>\n      <td>100</td>\n      <td>30</td>\n      <td>['Intangibility', 'Super Speed', 'Time Manipul...</td>\n      <td>...</td>\n      <td>0</td>\n      <td>0</td>\n      <td>0</td>\n      <td>0</td>\n      <td>1</td>\n      <td>0</td>\n      <td>0</td>\n      <td>0</td>\n      <td>0</td>\n      <td>NaN</td>\n    </tr>\n    <tr>\n      <th>1407</th>\n      <td>1432</td>\n      <td>Zzzax</td>\n      <td>NaN</td>\n      <td>45</td>\n      <td>80</td>\n      <td>75</td>\n      <td>95</td>\n      <td>80</td>\n      <td>50</td>\n      <td>['Absorption', 'Agility', 'Electrokinesis', 'E...</td>\n      <td>...</td>\n      <td>0</td>\n      <td>0</td>\n      <td>0</td>\n      <td>0</td>\n      <td>1</td>\n      <td>0</td>\n      <td>0</td>\n      <td>1</td>\n      <td>1</td>\n      <td>NaN</td>\n    </tr>\n  </tbody>\n</table>\n<p>1408 rows × 69 columns</p>\n</div>"
     },
     "execution_count": 195,
     "metadata": {},
     "output_type": "execute_result"
    }
   ],
   "source": [
    "dropRows = [55, 76, 78, 81, 410, 481, 486, 490, 645, 653, 657, 693,\n",
    "            697, 840, 827, 830, 842, 844, 949, 950, 1059, 1063, 1077, 1079, 1081]\n",
    "#original data set had nonsense rows\n",
    "\n",
    "superheroData = \\\n",
    "    pd.read_excel(\"Superhero data.xlsx\").\\\n",
    "    drop(dropRows).\\\n",
    "    drop([\"full_name\"], axis = 1).\\\n",
    "    dropna(how = \"all\").\\\n",
    "    reset_index()#.\\\n",
    "    #drop([\"index\"], axis = 1)\n",
    "\n",
    "superheroData[\"height\"] = superheroData[\"height\"].replace(',', '')\n",
    "superheroData[\"weight\"] = superheroData[\"weight\"].replace(',', '')\n",
    "\n",
    "\n",
    "superheroData"
   ],
   "metadata": {
    "collapsed": false,
    "pycharm": {
     "name": "#%%\n"
    }
   }
  },
  {
   "cell_type": "code",
   "execution_count": 196,
   "outputs": [
    {
     "data": {
      "text/plain": "index                    0\nname                     0\nreal_name              137\nintelligence_score      16\nstrength_score          16\n                      ... \nhas_durability          78\nhas_stamina             78\nhas_agility             78\nhas_super_strength      78\nUnnamed: 68           1408\nLength: 69, dtype: int64"
     },
     "execution_count": 196,
     "metadata": {},
     "output_type": "execute_result"
    }
   ],
   "source": [
    "superheroData.isnull().sum()"
   ],
   "metadata": {
    "collapsed": false,
    "pycharm": {
     "name": "#%%\n"
    }
   }
  },
  {
   "cell_type": "markdown",
   "source": [
    "Fix format of height and weight variables:"
   ],
   "metadata": {
    "collapsed": false,
    "pycharm": {
     "name": "#%% md\n"
    }
   }
  },
  {
   "cell_type": "code",
   "execution_count": 197,
   "outputs": [
    {
     "ename": "IndexError",
     "evalue": "list index out of range",
     "output_type": "error",
     "traceback": [
      "\u001B[1;31m---------------------------------------------------------------------------\u001B[0m",
      "\u001B[1;31mIndexError\u001B[0m                                Traceback (most recent call last)",
      "Cell \u001B[1;32mIn [197], line 8\u001B[0m\n\u001B[0;32m      3\u001B[0m \u001B[38;5;28;01mfor\u001B[39;00m i \u001B[38;5;129;01min\u001B[39;00m \u001B[38;5;28mrange\u001B[39m(\u001B[38;5;241m0\u001B[39m, columnLength \u001B[38;5;241m-\u001B[39m \u001B[38;5;241m1\u001B[39m):\n\u001B[0;32m      4\u001B[0m         \u001B[38;5;66;03m#height data is of the form \"6'8 â€¢ 203 cm\" which would be very difficult to work with\u001B[39;00m\n\u001B[0;32m      5\u001B[0m         \u001B[38;5;66;03m#hence I'm extracting just the value in centimeters and converting to a float\u001B[39;00m\n\u001B[0;32m      6\u001B[0m         \u001B[38;5;66;03m#similar for weight\u001B[39;00m\n\u001B[0;32m      7\u001B[0m         \u001B[38;5;28;01mif\u001B[39;00m \u001B[38;5;129;01mnot\u001B[39;00m(\u001B[38;5;28mstr\u001B[39m(superheroData[\u001B[38;5;124m\"\u001B[39m\u001B[38;5;124mheight\u001B[39m\u001B[38;5;124m\"\u001B[39m][i]) \u001B[38;5;241m==\u001B[39m \u001B[38;5;124m\"\u001B[39m\u001B[38;5;124mnan\u001B[39m\u001B[38;5;124m\"\u001B[39m):\n\u001B[1;32m----> 8\u001B[0m             superheroData[\u001B[38;5;124m\"\u001B[39m\u001B[38;5;124mheight\u001B[39m\u001B[38;5;124m\"\u001B[39m][i] \u001B[38;5;241m=\u001B[39m \u001B[38;5;28mfloat\u001B[39m(\u001B[38;5;28;43mstr\u001B[39;49m\u001B[43m(\u001B[49m\u001B[43msuperheroData\u001B[49m\u001B[43m[\u001B[49m\u001B[38;5;124;43m\"\u001B[39;49m\u001B[38;5;124;43mheight\u001B[39;49m\u001B[38;5;124;43m\"\u001B[39;49m\u001B[43m]\u001B[49m\u001B[43m[\u001B[49m\u001B[43mi\u001B[49m\u001B[43m]\u001B[49m\u001B[43m)\u001B[49m\u001B[38;5;241;43m.\u001B[39;49m\u001B[43msplit\u001B[49m\u001B[43m(\u001B[49m\u001B[43m)\u001B[49m\u001B[43m[\u001B[49m\u001B[38;5;241;43m2\u001B[39;49m\u001B[43m]\u001B[49m)\n\u001B[0;32m     10\u001B[0m         \u001B[38;5;28;01mif\u001B[39;00m \u001B[38;5;129;01mnot\u001B[39;00m(\u001B[38;5;28mstr\u001B[39m(superheroData[\u001B[38;5;124m\"\u001B[39m\u001B[38;5;124mweight\u001B[39m\u001B[38;5;124m\"\u001B[39m][i]) \u001B[38;5;241m==\u001B[39m \u001B[38;5;124m\"\u001B[39m\u001B[38;5;124mnan\u001B[39m\u001B[38;5;124m\"\u001B[39m):\n\u001B[0;32m     11\u001B[0m             superheroData[\u001B[38;5;124m\"\u001B[39m\u001B[38;5;124mweight\u001B[39m\u001B[38;5;124m\"\u001B[39m][i] \u001B[38;5;241m=\u001B[39m \u001B[38;5;28mfloat\u001B[39m(\u001B[38;5;28mstr\u001B[39m(superheroData[\u001B[38;5;124m\"\u001B[39m\u001B[38;5;124mweight\u001B[39m\u001B[38;5;124m\"\u001B[39m][i])\u001B[38;5;241m.\u001B[39msplit()[\u001B[38;5;241m3\u001B[39m])\n",
      "\u001B[1;31mIndexError\u001B[0m: list index out of range"
     ]
    }
   ],
   "source": [
    "columnLength = 1408\n",
    "\n",
    "for i in range(0, columnLength - 1):\n",
    "        #height data is of the form \"6'8 â€¢ 203 cm\" which would be very difficult to work with\n",
    "        #hence I'm extracting just the value in centimeters and converting to a float\n",
    "        #similar for weight\n",
    "        if not(str(superheroData[\"height\"][i]) == \"nan\" or str(superheroData[\"height\"][i]) == \"\"):\n",
    "            superheroData[\"height\"][i] = float(str(superheroData[\"height\"][i]).split()[2])\n",
    "\n",
    "        if not(str(superheroData[\"weight\"][i]) == \"nan\" or str(superheroData[\"weight\"][i]) == \"\"):\n",
    "            superheroData[\"weight\"][i] = float(str(superheroData[\"weight\"][i]).split()[3])\n",
    "\n",
    "superheroData"
   ],
   "metadata": {
    "collapsed": false,
    "pycharm": {
     "name": "#%%\n"
    }
   }
  },
  {
   "cell_type": "code",
   "execution_count": 198,
   "outputs": [
    {
     "name": "stdout",
     "output_type": "stream",
     "text": [
      " \n"
     ]
    },
    {
     "data": {
      "text/plain": "      index           name               real_name intelligence_score  \\\n0         0        3 D Man     Delroy Garrett, Jr.                 85   \n1         1  514A (Gotham)             Bruce Wayne                100   \n2         2         A Bomb  Richard Milhouse Jones                 80   \n3         3             Aa                      Aa                 80   \n4         4     Aaron Cash              Aaron Cash                 80   \n...     ...            ...                     ...                ...   \n1403   1428           Zane                    Zane                100   \n1404   1429        Zatanna          Zatanna Zatara                 90   \n1405   1430  Zoom (New 52)          Hunter Zolomon                 95   \n1406   1431           Zoom          Hunter Zolomon                 75   \n1407   1432          Zzzax                     NaN                 45   \n\n     strength_score speed_score durability_score power_score combat_score  \\\n0                30          60               60          40           70   \n1                20          30               50          35          100   \n2               100          80              100         100           80   \n3                50          55               45         100           55   \n4                10          25               40          30           50   \n...             ...         ...              ...         ...          ...   \n1403             35          50               60         100          100   \n1404             10          25               30         100           55   \n1405             50         100               75         100           80   \n1406             10         100               30         100           30   \n1407             80          75               95          80           50   \n\n                                            superpowers  ...  \\\n0                     ['Super Speed', 'Super Strength']  ...   \n1          ['Durability', 'Reflexes', 'Super Strength']  ...   \n2     ['Accelerated Healing', 'Agility', 'Berserk Mo...  ...   \n3     ['Energy Absorption', 'Energy Armor', 'Energy ...  ...   \n4             ['Weapon based Powers', 'Weapons Master']  ...   \n...                                                 ...  ...   \n1403  ['Agility', 'Animal Control', 'Cold Resistance...  ...   \n1404  ['Cryokinesis', 'Fire Control', 'Magic', 'Prob...  ...   \n1405  ['Accelerated Healing', 'Agility', 'Durability...  ...   \n1406  ['Intangibility', 'Super Speed', 'Time Manipul...  ...   \n1407  ['Absorption', 'Agility', 'Electrokinesis', 'E...  ...   \n\n     has_accelerated_healing has_weapons_master has_intelligence has_reflexes  \\\n0                          0                  0                0            0   \n1                          0                  0                0            1   \n2                          1                  0                0            1   \n3                          0                  0                0            0   \n4                          0                  1                0            0   \n...                      ...                ...              ...          ...   \n1403                       0                  1                1            1   \n1404                       0                  0                0            0   \n1405                       1                  0                1            1   \n1406                       0                  0                0            0   \n1407                       0                  0                0            0   \n\n     has_super_speed has_durability has_stamina has_agility  \\\n0                  1              0           0           0   \n1                  0              1           0           0   \n2                  1              1           1           1   \n3                  0              0           0           0   \n4                  0              0           0           0   \n...              ...            ...         ...         ...   \n1403               0              1           1           1   \n1404               0              0           0           0   \n1405               1              1           1           1   \n1406               1              0           0           0   \n1407               1              0           0           1   \n\n     has_super_strength Unnamed: 68  \n0                     1         NaN  \n1                     1         NaN  \n2                     1         NaN  \n3                     0         NaN  \n4                     0         NaN  \n...                 ...         ...  \n1403                  1         NaN  \n1404                  0         NaN  \n1405                  1         NaN  \n1406                  0         NaN  \n1407                  1         NaN  \n\n[1408 rows x 69 columns]",
      "text/html": "<div>\n<style scoped>\n    .dataframe tbody tr th:only-of-type {\n        vertical-align: middle;\n    }\n\n    .dataframe tbody tr th {\n        vertical-align: top;\n    }\n\n    .dataframe thead th {\n        text-align: right;\n    }\n</style>\n<table border=\"1\" class=\"dataframe\">\n  <thead>\n    <tr style=\"text-align: right;\">\n      <th></th>\n      <th>index</th>\n      <th>name</th>\n      <th>real_name</th>\n      <th>intelligence_score</th>\n      <th>strength_score</th>\n      <th>speed_score</th>\n      <th>durability_score</th>\n      <th>power_score</th>\n      <th>combat_score</th>\n      <th>superpowers</th>\n      <th>...</th>\n      <th>has_accelerated_healing</th>\n      <th>has_weapons_master</th>\n      <th>has_intelligence</th>\n      <th>has_reflexes</th>\n      <th>has_super_speed</th>\n      <th>has_durability</th>\n      <th>has_stamina</th>\n      <th>has_agility</th>\n      <th>has_super_strength</th>\n      <th>Unnamed: 68</th>\n    </tr>\n  </thead>\n  <tbody>\n    <tr>\n      <th>0</th>\n      <td>0</td>\n      <td>3 D Man</td>\n      <td>Delroy Garrett, Jr.</td>\n      <td>85</td>\n      <td>30</td>\n      <td>60</td>\n      <td>60</td>\n      <td>40</td>\n      <td>70</td>\n      <td>['Super Speed', 'Super Strength']</td>\n      <td>...</td>\n      <td>0</td>\n      <td>0</td>\n      <td>0</td>\n      <td>0</td>\n      <td>1</td>\n      <td>0</td>\n      <td>0</td>\n      <td>0</td>\n      <td>1</td>\n      <td>NaN</td>\n    </tr>\n    <tr>\n      <th>1</th>\n      <td>1</td>\n      <td>514A (Gotham)</td>\n      <td>Bruce Wayne</td>\n      <td>100</td>\n      <td>20</td>\n      <td>30</td>\n      <td>50</td>\n      <td>35</td>\n      <td>100</td>\n      <td>['Durability', 'Reflexes', 'Super Strength']</td>\n      <td>...</td>\n      <td>0</td>\n      <td>0</td>\n      <td>0</td>\n      <td>1</td>\n      <td>0</td>\n      <td>1</td>\n      <td>0</td>\n      <td>0</td>\n      <td>1</td>\n      <td>NaN</td>\n    </tr>\n    <tr>\n      <th>2</th>\n      <td>2</td>\n      <td>A Bomb</td>\n      <td>Richard Milhouse Jones</td>\n      <td>80</td>\n      <td>100</td>\n      <td>80</td>\n      <td>100</td>\n      <td>100</td>\n      <td>80</td>\n      <td>['Accelerated Healing', 'Agility', 'Berserk Mo...</td>\n      <td>...</td>\n      <td>1</td>\n      <td>0</td>\n      <td>0</td>\n      <td>1</td>\n      <td>1</td>\n      <td>1</td>\n      <td>1</td>\n      <td>1</td>\n      <td>1</td>\n      <td>NaN</td>\n    </tr>\n    <tr>\n      <th>3</th>\n      <td>3</td>\n      <td>Aa</td>\n      <td>Aa</td>\n      <td>80</td>\n      <td>50</td>\n      <td>55</td>\n      <td>45</td>\n      <td>100</td>\n      <td>55</td>\n      <td>['Energy Absorption', 'Energy Armor', 'Energy ...</td>\n      <td>...</td>\n      <td>0</td>\n      <td>0</td>\n      <td>0</td>\n      <td>0</td>\n      <td>0</td>\n      <td>0</td>\n      <td>0</td>\n      <td>0</td>\n      <td>0</td>\n      <td>NaN</td>\n    </tr>\n    <tr>\n      <th>4</th>\n      <td>4</td>\n      <td>Aaron Cash</td>\n      <td>Aaron Cash</td>\n      <td>80</td>\n      <td>10</td>\n      <td>25</td>\n      <td>40</td>\n      <td>30</td>\n      <td>50</td>\n      <td>['Weapon based Powers', 'Weapons Master']</td>\n      <td>...</td>\n      <td>0</td>\n      <td>1</td>\n      <td>0</td>\n      <td>0</td>\n      <td>0</td>\n      <td>0</td>\n      <td>0</td>\n      <td>0</td>\n      <td>0</td>\n      <td>NaN</td>\n    </tr>\n    <tr>\n      <th>...</th>\n      <td>...</td>\n      <td>...</td>\n      <td>...</td>\n      <td>...</td>\n      <td>...</td>\n      <td>...</td>\n      <td>...</td>\n      <td>...</td>\n      <td>...</td>\n      <td>...</td>\n      <td>...</td>\n      <td>...</td>\n      <td>...</td>\n      <td>...</td>\n      <td>...</td>\n      <td>...</td>\n      <td>...</td>\n      <td>...</td>\n      <td>...</td>\n      <td>...</td>\n      <td>...</td>\n    </tr>\n    <tr>\n      <th>1403</th>\n      <td>1428</td>\n      <td>Zane</td>\n      <td>Zane</td>\n      <td>100</td>\n      <td>35</td>\n      <td>50</td>\n      <td>60</td>\n      <td>100</td>\n      <td>100</td>\n      <td>['Agility', 'Animal Control', 'Cold Resistance...</td>\n      <td>...</td>\n      <td>0</td>\n      <td>1</td>\n      <td>1</td>\n      <td>1</td>\n      <td>0</td>\n      <td>1</td>\n      <td>1</td>\n      <td>1</td>\n      <td>1</td>\n      <td>NaN</td>\n    </tr>\n    <tr>\n      <th>1404</th>\n      <td>1429</td>\n      <td>Zatanna</td>\n      <td>Zatanna Zatara</td>\n      <td>90</td>\n      <td>10</td>\n      <td>25</td>\n      <td>30</td>\n      <td>100</td>\n      <td>55</td>\n      <td>['Cryokinesis', 'Fire Control', 'Magic', 'Prob...</td>\n      <td>...</td>\n      <td>0</td>\n      <td>0</td>\n      <td>0</td>\n      <td>0</td>\n      <td>0</td>\n      <td>0</td>\n      <td>0</td>\n      <td>0</td>\n      <td>0</td>\n      <td>NaN</td>\n    </tr>\n    <tr>\n      <th>1405</th>\n      <td>1430</td>\n      <td>Zoom (New 52)</td>\n      <td>Hunter Zolomon</td>\n      <td>95</td>\n      <td>50</td>\n      <td>100</td>\n      <td>75</td>\n      <td>100</td>\n      <td>80</td>\n      <td>['Accelerated Healing', 'Agility', 'Durability...</td>\n      <td>...</td>\n      <td>1</td>\n      <td>0</td>\n      <td>1</td>\n      <td>1</td>\n      <td>1</td>\n      <td>1</td>\n      <td>1</td>\n      <td>1</td>\n      <td>1</td>\n      <td>NaN</td>\n    </tr>\n    <tr>\n      <th>1406</th>\n      <td>1431</td>\n      <td>Zoom</td>\n      <td>Hunter Zolomon</td>\n      <td>75</td>\n      <td>10</td>\n      <td>100</td>\n      <td>30</td>\n      <td>100</td>\n      <td>30</td>\n      <td>['Intangibility', 'Super Speed', 'Time Manipul...</td>\n      <td>...</td>\n      <td>0</td>\n      <td>0</td>\n      <td>0</td>\n      <td>0</td>\n      <td>1</td>\n      <td>0</td>\n      <td>0</td>\n      <td>0</td>\n      <td>0</td>\n      <td>NaN</td>\n    </tr>\n    <tr>\n      <th>1407</th>\n      <td>1432</td>\n      <td>Zzzax</td>\n      <td>NaN</td>\n      <td>45</td>\n      <td>80</td>\n      <td>75</td>\n      <td>95</td>\n      <td>80</td>\n      <td>50</td>\n      <td>['Absorption', 'Agility', 'Electrokinesis', 'E...</td>\n      <td>...</td>\n      <td>0</td>\n      <td>0</td>\n      <td>0</td>\n      <td>0</td>\n      <td>1</td>\n      <td>0</td>\n      <td>0</td>\n      <td>1</td>\n      <td>1</td>\n      <td>NaN</td>\n    </tr>\n  </tbody>\n</table>\n<p>1408 rows × 69 columns</p>\n</div>"
     },
     "execution_count": 198,
     "metadata": {},
     "output_type": "execute_result"
    }
   ],
   "source": [
    "print(superheroData[\"height\"][5])\n",
    "\n",
    "#superheroData[\"height\"][1422]=float(str(superheroData[\"height\"][1422]).split()[2])\n",
    "str(superheroData[\"height\"][5]) == \"nan\"\n",
    "\n",
    "superheroData"
   ],
   "metadata": {
    "collapsed": false,
    "pycharm": {
     "name": "#%%\n"
    }
   }
  },
  {
   "cell_type": "markdown",
   "source": [
    "Impute missing data values:"
   ],
   "metadata": {
    "collapsed": false,
    "pycharm": {
     "name": "#%% md\n"
    }
   }
  },
  {
   "cell_type": "code",
   "execution_count": 64,
   "outputs": [
    {
     "ename": "ValueError",
     "evalue": "could not convert string to float: '3-D Man'",
     "output_type": "error",
     "traceback": [
      "\u001B[1;31m---------------------------------------------------------------------------\u001B[0m",
      "\u001B[1;31mValueError\u001B[0m                                Traceback (most recent call last)",
      "Cell \u001B[1;32mIn [64], line 2\u001B[0m\n\u001B[0;32m      1\u001B[0m inputer \u001B[38;5;241m=\u001B[39m KNNImputer(n_neighbors \u001B[38;5;241m=\u001B[39m \u001B[38;5;241m10\u001B[39m)\n\u001B[1;32m----> 2\u001B[0m \u001B[43minputer\u001B[49m\u001B[38;5;241;43m.\u001B[39;49m\u001B[43mfit_transform\u001B[49m\u001B[43m(\u001B[49m\u001B[43msuperheroData\u001B[49m\u001B[43m)\u001B[49m\n",
      "File \u001B[1;32mc:\\users\\mbles\\anaconda\\Lib\\site-packages\\sklearn\\base.py:867\u001B[0m, in \u001B[0;36mTransformerMixin.fit_transform\u001B[1;34m(self, X, y, **fit_params)\u001B[0m\n\u001B[0;32m    863\u001B[0m \u001B[38;5;66;03m# non-optimized default implementation; override when a better\u001B[39;00m\n\u001B[0;32m    864\u001B[0m \u001B[38;5;66;03m# method is possible for a given clustering algorithm\u001B[39;00m\n\u001B[0;32m    865\u001B[0m \u001B[38;5;28;01mif\u001B[39;00m y \u001B[38;5;129;01mis\u001B[39;00m \u001B[38;5;28;01mNone\u001B[39;00m:\n\u001B[0;32m    866\u001B[0m     \u001B[38;5;66;03m# fit method of arity 1 (unsupervised transformation)\u001B[39;00m\n\u001B[1;32m--> 867\u001B[0m     \u001B[38;5;28;01mreturn\u001B[39;00m \u001B[38;5;28;43mself\u001B[39;49m\u001B[38;5;241;43m.\u001B[39;49m\u001B[43mfit\u001B[49m\u001B[43m(\u001B[49m\u001B[43mX\u001B[49m\u001B[43m,\u001B[49m\u001B[43m \u001B[49m\u001B[38;5;241;43m*\u001B[39;49m\u001B[38;5;241;43m*\u001B[39;49m\u001B[43mfit_params\u001B[49m\u001B[43m)\u001B[49m\u001B[38;5;241m.\u001B[39mtransform(X)\n\u001B[0;32m    868\u001B[0m \u001B[38;5;28;01melse\u001B[39;00m:\n\u001B[0;32m    869\u001B[0m     \u001B[38;5;66;03m# fit method of arity 2 (supervised transformation)\u001B[39;00m\n\u001B[0;32m    870\u001B[0m     \u001B[38;5;28;01mreturn\u001B[39;00m \u001B[38;5;28mself\u001B[39m\u001B[38;5;241m.\u001B[39mfit(X, y, \u001B[38;5;241m*\u001B[39m\u001B[38;5;241m*\u001B[39mfit_params)\u001B[38;5;241m.\u001B[39mtransform(X)\n",
      "File \u001B[1;32mc:\\users\\mbles\\anaconda\\Lib\\site-packages\\sklearn\\impute\\_knn.py:210\u001B[0m, in \u001B[0;36mKNNImputer.fit\u001B[1;34m(self, X, y)\u001B[0m\n\u001B[0;32m    205\u001B[0m \u001B[38;5;28;01mif\u001B[39;00m \u001B[38;5;28mself\u001B[39m\u001B[38;5;241m.\u001B[39mn_neighbors \u001B[38;5;241m<\u001B[39m\u001B[38;5;241m=\u001B[39m \u001B[38;5;241m0\u001B[39m:\n\u001B[0;32m    206\u001B[0m     \u001B[38;5;28;01mraise\u001B[39;00m \u001B[38;5;167;01mValueError\u001B[39;00m(\n\u001B[0;32m    207\u001B[0m         \u001B[38;5;124m\"\u001B[39m\u001B[38;5;124mExpected n_neighbors > 0. Got \u001B[39m\u001B[38;5;132;01m{}\u001B[39;00m\u001B[38;5;124m\"\u001B[39m\u001B[38;5;241m.\u001B[39mformat(\u001B[38;5;28mself\u001B[39m\u001B[38;5;241m.\u001B[39mn_neighbors)\n\u001B[0;32m    208\u001B[0m     )\n\u001B[1;32m--> 210\u001B[0m X \u001B[38;5;241m=\u001B[39m \u001B[38;5;28;43mself\u001B[39;49m\u001B[38;5;241;43m.\u001B[39;49m\u001B[43m_validate_data\u001B[49m\u001B[43m(\u001B[49m\n\u001B[0;32m    211\u001B[0m \u001B[43m    \u001B[49m\u001B[43mX\u001B[49m\u001B[43m,\u001B[49m\n\u001B[0;32m    212\u001B[0m \u001B[43m    \u001B[49m\u001B[43maccept_sparse\u001B[49m\u001B[38;5;241;43m=\u001B[39;49m\u001B[38;5;28;43;01mFalse\u001B[39;49;00m\u001B[43m,\u001B[49m\n\u001B[0;32m    213\u001B[0m \u001B[43m    \u001B[49m\u001B[43mdtype\u001B[49m\u001B[38;5;241;43m=\u001B[39;49m\u001B[43mFLOAT_DTYPES\u001B[49m\u001B[43m,\u001B[49m\n\u001B[0;32m    214\u001B[0m \u001B[43m    \u001B[49m\u001B[43mforce_all_finite\u001B[49m\u001B[38;5;241;43m=\u001B[39;49m\u001B[43mforce_all_finite\u001B[49m\u001B[43m,\u001B[49m\n\u001B[0;32m    215\u001B[0m \u001B[43m    \u001B[49m\u001B[43mcopy\u001B[49m\u001B[38;5;241;43m=\u001B[39;49m\u001B[38;5;28;43mself\u001B[39;49m\u001B[38;5;241;43m.\u001B[39;49m\u001B[43mcopy\u001B[49m\u001B[43m,\u001B[49m\n\u001B[0;32m    216\u001B[0m \u001B[43m\u001B[49m\u001B[43m)\u001B[49m\n\u001B[0;32m    218\u001B[0m _check_weights(\u001B[38;5;28mself\u001B[39m\u001B[38;5;241m.\u001B[39mweights)\n\u001B[0;32m    219\u001B[0m \u001B[38;5;28mself\u001B[39m\u001B[38;5;241m.\u001B[39m_fit_X \u001B[38;5;241m=\u001B[39m X\n",
      "File \u001B[1;32mc:\\users\\mbles\\anaconda\\Lib\\site-packages\\sklearn\\base.py:577\u001B[0m, in \u001B[0;36mBaseEstimator._validate_data\u001B[1;34m(self, X, y, reset, validate_separately, **check_params)\u001B[0m\n\u001B[0;32m    575\u001B[0m     \u001B[38;5;28;01mraise\u001B[39;00m \u001B[38;5;167;01mValueError\u001B[39;00m(\u001B[38;5;124m\"\u001B[39m\u001B[38;5;124mValidation should be done on X, y or both.\u001B[39m\u001B[38;5;124m\"\u001B[39m)\n\u001B[0;32m    576\u001B[0m \u001B[38;5;28;01melif\u001B[39;00m \u001B[38;5;129;01mnot\u001B[39;00m no_val_X \u001B[38;5;129;01mand\u001B[39;00m no_val_y:\n\u001B[1;32m--> 577\u001B[0m     X \u001B[38;5;241m=\u001B[39m \u001B[43mcheck_array\u001B[49m\u001B[43m(\u001B[49m\u001B[43mX\u001B[49m\u001B[43m,\u001B[49m\u001B[43m \u001B[49m\u001B[43minput_name\u001B[49m\u001B[38;5;241;43m=\u001B[39;49m\u001B[38;5;124;43m\"\u001B[39;49m\u001B[38;5;124;43mX\u001B[39;49m\u001B[38;5;124;43m\"\u001B[39;49m\u001B[43m,\u001B[49m\u001B[43m \u001B[49m\u001B[38;5;241;43m*\u001B[39;49m\u001B[38;5;241;43m*\u001B[39;49m\u001B[43mcheck_params\u001B[49m\u001B[43m)\u001B[49m\n\u001B[0;32m    578\u001B[0m     out \u001B[38;5;241m=\u001B[39m X\n\u001B[0;32m    579\u001B[0m \u001B[38;5;28;01melif\u001B[39;00m no_val_X \u001B[38;5;129;01mand\u001B[39;00m \u001B[38;5;129;01mnot\u001B[39;00m no_val_y:\n",
      "File \u001B[1;32mc:\\users\\mbles\\anaconda\\Lib\\site-packages\\sklearn\\utils\\validation.py:856\u001B[0m, in \u001B[0;36mcheck_array\u001B[1;34m(array, accept_sparse, accept_large_sparse, dtype, order, copy, force_all_finite, ensure_2d, allow_nd, ensure_min_samples, ensure_min_features, estimator, input_name)\u001B[0m\n\u001B[0;32m    854\u001B[0m         array \u001B[38;5;241m=\u001B[39m array\u001B[38;5;241m.\u001B[39mastype(dtype, casting\u001B[38;5;241m=\u001B[39m\u001B[38;5;124m\"\u001B[39m\u001B[38;5;124munsafe\u001B[39m\u001B[38;5;124m\"\u001B[39m, copy\u001B[38;5;241m=\u001B[39m\u001B[38;5;28;01mFalse\u001B[39;00m)\n\u001B[0;32m    855\u001B[0m     \u001B[38;5;28;01melse\u001B[39;00m:\n\u001B[1;32m--> 856\u001B[0m         array \u001B[38;5;241m=\u001B[39m \u001B[43mnp\u001B[49m\u001B[38;5;241;43m.\u001B[39;49m\u001B[43masarray\u001B[49m\u001B[43m(\u001B[49m\u001B[43marray\u001B[49m\u001B[43m,\u001B[49m\u001B[43m \u001B[49m\u001B[43morder\u001B[49m\u001B[38;5;241;43m=\u001B[39;49m\u001B[43morder\u001B[49m\u001B[43m,\u001B[49m\u001B[43m \u001B[49m\u001B[43mdtype\u001B[49m\u001B[38;5;241;43m=\u001B[39;49m\u001B[43mdtype\u001B[49m\u001B[43m)\u001B[49m\n\u001B[0;32m    857\u001B[0m \u001B[38;5;28;01mexcept\u001B[39;00m ComplexWarning \u001B[38;5;28;01mas\u001B[39;00m complex_warning:\n\u001B[0;32m    858\u001B[0m     \u001B[38;5;28;01mraise\u001B[39;00m \u001B[38;5;167;01mValueError\u001B[39;00m(\n\u001B[0;32m    859\u001B[0m         \u001B[38;5;124m\"\u001B[39m\u001B[38;5;124mComplex data not supported\u001B[39m\u001B[38;5;130;01m\\n\u001B[39;00m\u001B[38;5;132;01m{}\u001B[39;00m\u001B[38;5;130;01m\\n\u001B[39;00m\u001B[38;5;124m\"\u001B[39m\u001B[38;5;241m.\u001B[39mformat(array)\n\u001B[0;32m    860\u001B[0m     ) \u001B[38;5;28;01mfrom\u001B[39;00m \u001B[38;5;21;01mcomplex_warning\u001B[39;00m\n",
      "File \u001B[1;32mc:\\users\\mbles\\anaconda\\Lib\\site-packages\\pandas\\core\\generic.py:2070\u001B[0m, in \u001B[0;36mNDFrame.__array__\u001B[1;34m(self, dtype)\u001B[0m\n\u001B[0;32m   2069\u001B[0m \u001B[38;5;28;01mdef\u001B[39;00m \u001B[38;5;21m__array__\u001B[39m(\u001B[38;5;28mself\u001B[39m, dtype: npt\u001B[38;5;241m.\u001B[39mDTypeLike \u001B[38;5;241m|\u001B[39m \u001B[38;5;28;01mNone\u001B[39;00m \u001B[38;5;241m=\u001B[39m \u001B[38;5;28;01mNone\u001B[39;00m) \u001B[38;5;241m-\u001B[39m\u001B[38;5;241m>\u001B[39m np\u001B[38;5;241m.\u001B[39mndarray:\n\u001B[1;32m-> 2070\u001B[0m     \u001B[38;5;28;01mreturn\u001B[39;00m \u001B[43mnp\u001B[49m\u001B[38;5;241;43m.\u001B[39;49m\u001B[43masarray\u001B[49m\u001B[43m(\u001B[49m\u001B[38;5;28;43mself\u001B[39;49m\u001B[38;5;241;43m.\u001B[39;49m\u001B[43m_values\u001B[49m\u001B[43m,\u001B[49m\u001B[43m \u001B[49m\u001B[43mdtype\u001B[49m\u001B[38;5;241;43m=\u001B[39;49m\u001B[43mdtype\u001B[49m\u001B[43m)\u001B[49m\n",
      "\u001B[1;31mValueError\u001B[0m: could not convert string to float: '3-D Man'"
     ]
    }
   ],
   "source": [
    "numericData = superheroData[superheroData.columns[]]\n",
    "\n",
    "inputer = KNNImputer(n_neighbors = 10)\n",
    "inputer.fit_transform(superheroData)"
   ],
   "metadata": {
    "collapsed": false,
    "pycharm": {
     "name": "#%%\n"
    }
   }
  },
  {
   "cell_type": "code",
   "execution_count": null,
   "outputs": [],
   "source": [],
   "metadata": {
    "collapsed": false,
    "pycharm": {
     "name": "#%%\n"
    }
   }
  }
 ],
 "metadata": {
  "kernelspec": {
   "display_name": "Python 3",
   "language": "python",
   "name": "python3"
  },
  "language_info": {
   "codemirror_mode": {
    "name": "ipython",
    "version": 2
   },
   "file_extension": ".py",
   "mimetype": "text/x-python",
   "name": "python",
   "nbconvert_exporter": "python",
   "pygments_lexer": "ipython2",
   "version": "2.7.6"
  }
 },
 "nbformat": 4,
 "nbformat_minor": 0
}