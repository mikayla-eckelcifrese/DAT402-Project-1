{
 "cells": [
  {
   "cell_type": "markdown",
   "metadata": {
    "pycharm": {
     "name": "#%% md\n"
    }
   },
   "source": [
    "Data source: https://www.kaggle.com/datasets/jonathanbesomi/superheroes-nlp-dataset\n",
    "\n",
    "Note that I did some of the data cleaning in Excel before importing the file into the Python project, so you need to load the Excel file provided, as the one downloaded directly from Kaggle won't be properly cleaned by the code below, as I wrote the code specifically for the already partially cleaned version of the data.\n",
    "\n",
    "To be specific as to how I modified the Excel file prior to importing it:\n",
    "In no particular order,\n",
    "1. I filled in many of the missing values in the gender column, specifically the ones where the name made the gender\n",
    "   obvious and/or I was familiar with the character\n",
    "2. I filled in some of the missing values for race and alignment, going by either personal knowledge of particular\n",
    "   characters, or by Googling the character\n",
    "3. Similarly for the creator column\n",
    "4. I replaced both the cells containing only \"-\" and the empty cells with cells containing \"NaN\".\n",
    "5. I put both the weight and height data into common units, i.e. I converted any meter measurements to cm and any ton measurements to kg.\n",
    "6. I deleted several of the rows that randomly contained character descriptions and no variable values, as well as empty\n",
    "   rows\n",
    "7. I deleted a few rows that contained very little information (i.e. most of the cells were blank)"
   ]
  },
  {
   "cell_type": "code",
   "execution_count": null,
   "metadata": {
    "pycharm": {
     "name": "#%%\n",
     "is_executing": true
    }
   },
   "outputs": [],
   "source": [
    "import pandas as pd\n",
    "pd.options.mode.chained_assignment = None\n",
    "\n",
    "from pandas_profiling import ProfileReport\n",
    "\n",
    "import numpy as np\n",
    "import sklearn as sk\n",
    "from sklearn.impute import KNNImputer\n",
    "from sklearn.impute import SimpleImputer\n",
    "from sklearn.decomposition import PCA\n",
    "import matplotlib.pyplot as plt\n",
    "import seaborn as sns\n",
    "import plotly.express as px\n",
    "\n",
    "%load_ext rpy2.ipython"
   ]
  },
  {
   "cell_type": "code",
   "execution_count": 68,
   "metadata": {
    "pycharm": {
     "name": "#%%\n"
    }
   },
   "outputs": [],
   "source": [
    "%%R\n",
    "library(dplyr)\n",
    "library(ggplot2)\n",
    "\n",
    "library(e1071)\n",
    "library(caTools)\n",
    "library(class)"
   ]
  },
  {
   "cell_type": "markdown",
   "metadata": {
    "pycharm": {
     "name": "#%% md\n"
    }
   },
   "source": [
    "Read in and clean data"
   ]
  },
  {
   "cell_type": "code",
   "execution_count": 69,
   "metadata": {
    "pycharm": {
     "name": "#%%\n"
    }
   },
   "outputs": [],
   "source": [
    "dropRows = [55, 76, 78, 81, 410, 481, 486, 490, 645, 653, 657, 693,\n",
    "            697, 840, 827, 830, 842, 844, 949, 950, 1059, 1063, 1077, 1079, 1081]\n",
    "#original data set had nonsense rows\n",
    "\n",
    "superheroData = \\\n",
    "    pd.read_excel(\"Superhero data.xlsx\").\\\n",
    "    drop(dropRows).\\\n",
    "    drop([\"full_name\"], axis = 1).\\\n",
    "    dropna(how = \"all\").\\\n",
    "    reset_index()#.\\\n",
    "    #drop([\"index\"], axis = 1)\n",
    "\n",
    "#Fix format of height and weight variables:\n",
    "columnLength = 1408\n",
    "\n",
    "for i in range(0, columnLength-1): #final row already has data in the correct form\n",
    "        #height data is of the form \"6'8 â€¢ 203 cm\" which would be very difficult to work with\n",
    "        #hence I'm extracting just the value in centimeters and converting to a float\n",
    "        #similar for weight\n",
    "\n",
    "        if not(str(superheroData[\"height\"][i]) == \"nan\"):\n",
    "            try:\n",
    "                superheroData[\"height\"][i] = float(str(superheroData[\"height\"][i]).split()[2]) #noqa\n",
    "            except:\n",
    "                superheroData[\"height\"][i] = \\\n",
    "                    str(superheroData.iloc[:,(\"height\", i)]).replace(',', '') #noqa\n",
    "                superheroData[\"height\"][i] = float(superheroData[\"height\"][i].split()[2]) #noqa\n",
    "\n",
    "        if not(str(superheroData[\"weight\"][i]) == \"nan\"):\n",
    "            try:\n",
    "                superheroData[\"weight\"][i] = float(str(superheroData[\"weight\"][i]).split()[3]) #noqa\n",
    "            except:\n",
    "                superheroData[\"weight\"][i] = str(superheroData[\"weight\"][i]).replace(',', '') #noqa\n",
    "                superheroData[\"weight\"][i] = float(superheroData[\"weight\"][i].split()[3]) #noqa\n",
    "\n",
    "superheroData;"
   ]
  },
  {
   "cell_type": "markdown",
   "metadata": {
    "pycharm": {
     "name": "#%% md\n"
    }
   },
   "source": [
    "Check for and impute missing data values:"
   ]
  },
  {
   "cell_type": "code",
   "execution_count": 71,
   "metadata": {
    "pycharm": {
     "name": "#%%\n"
    }
   },
   "outputs": [],
   "source": [
    "superheroData.isnull().sum();"
   ]
  },
  {
   "cell_type": "code",
   "execution_count": 72,
   "metadata": {
    "pycharm": {
     "name": "#%%\n"
    }
   },
   "outputs": [],
   "source": [
    "quantitativeVariables = superheroData.iloc[:, [3, 4, 5, 6, 7, 8, 14, 15]]\n",
    "\n",
    "knnImputer = KNNImputer(n_neighbors = 10)\n",
    "\n",
    "quantitativeVariablesFilled = \\\n",
    "    pd.DataFrame(knnImputer.fit_transform(quantitativeVariables)).\\\n",
    "    rename(columns = {0:\"intelligence score\", 1:\"strength score\",\n",
    "                      2:\"speed score\", 3:\"durability score\",\n",
    "                      4:\"power score\", 5: \"combat score\",\n",
    "                      6:\"height (cm)\", 7:\"weight (kg)\" })\n",
    "\n",
    "quantitativeVariablesFilled;"
   ]
  },
  {
   "cell_type": "code",
   "execution_count": 73,
   "metadata": {
    "pycharm": {
     "name": "#%%\n"
    }
   },
   "outputs": [],
   "source": [
    "categoricalVariableNames = [i for i in range(16, 68)]\n",
    "\n",
    "categoricalVariables = superheroData.iloc[:, [1, 2, 9, 10, 11, 12, 13] + categoricalVariableNames]\n",
    "\n",
    "simpleImputer = SimpleImputer(strategy = \"most_frequent\")\n",
    "\n",
    "categoricalVariablesFilled = pd.DataFrame(simpleImputer.fit_transform(categoricalVariables))\n",
    "\n",
    "categoricalVariablesFilled.columns = categoricalVariables.columns\n",
    "\n",
    "categoricalVariablesFilled;"
   ]
  },
  {
   "cell_type": "code",
   "execution_count": 74,
   "metadata": {
    "pycharm": {
     "name": "#%%\n"
    },
    "scrolled": true
   },
   "outputs": [],
   "source": [
    "superheroDataFilled = pd.concat([categoricalVariablesFilled, quantitativeVariablesFilled], axis = 1)\n",
    "superheroDataFilled.head();"
   ]
  },
  {
   "cell_type": "markdown",
   "metadata": {
    "pycharm": {
     "name": "#%% md\n"
    }
   },
   "source": [
    "Explore data:"
   ]
  },
  {
   "cell_type": "code",
   "execution_count": 75,
   "metadata": {
    "pycharm": {
     "name": "#%%\n"
    }
   },
   "outputs": [
    {
     "name": "stdout",
     "output_type": "stream",
     "text": [
      "                   creator names creator counts\n",
      "creator26            ABC Studios              3\n",
      "creator5  Blizzard Entertainment              1\n",
      "creator14                 Capcom              4\n",
      "creator38        Cartoon Network              2\n",
      "creator20           Clive Barker              2\n",
      "creator12                     CW              5\n"
     ]
    }
   ],
   "source": [
    "%%R -i superheroDataFilled -o creatorNamesandCounts\n",
    "\n",
    "# noinspection PyUnreachableCode\n",
    "GetNamesandCounts = function(x)\n",
    "{\n",
    "    creatorCounts = x %>% table() %>% as.vector()\n",
    "\n",
    "    creatorNames = x %>% unique() %>% unlist() %>% sort()\n",
    "\n",
    "    Temp = data.frame(creatorNames, creatorCounts) %>% setNames(c('creator names', 'creator counts'))\n",
    "\n",
    "    return(Temp)\n",
    "}\n",
    "\n",
    "creatorNamesandCounts = GetNamesandCounts(superheroDataFilled['creator'])\n",
    "\n",
    "head(creatorNamesandCounts);"
   ]
  },
  {
   "cell_type": "code",
   "execution_count": 76,
   "metadata": {
    "pycharm": {
     "name": "#%%\n"
    }
   },
   "outputs": [],
   "source": [
    "creatorsBarChart = px.bar(creatorNamesandCounts, x = 'creator names', y = 'creator counts')\n",
    "creatorsBarChart;"
   ]
  },
  {
   "cell_type": "markdown",
   "metadata": {
    "pycharm": {
     "name": "#%% md\n"
    }
   },
   "source": [
    "Since, as the above bar graph shows, the vast majority characters in the data set are from the top 6 creators, the others are unlikely to contribute\n",
    "meaningfully to the overall patterns and will only complicate the analysis, hence I'll remove them and create a new graph:"
   ]
  },
  {
   "cell_type": "code",
   "execution_count": 77,
   "metadata": {
    "pycharm": {
     "name": "#%%\n"
    }
   },
   "outputs": [
    {
     "data": {
      "image/png": "[encoded data removed]"
     },
     "metadata": {},
     "output_type": "display_data"
    }
   ],
   "source": [
    "%%R -o superheroDataFilled\n",
    "\n",
    "superheroDataFilled =\n",
    "superheroDataFilled %>% filter(creator %in% c('Marvel Comics','DC Comics', 'Shueisha', 'Lego', 'Image Comics',\n",
    "                                              'George Lucas', 'Dark Horse Comics', 'NBC - Heroes'))\n",
    "\n",
    "creatorNamesandCounts = GetNamesandCounts(superheroDataFilled['creator'])\n",
    "\n",
    "\n",
    "#create labels for new graph\n",
    "labels = function(x)\n",
    "{\n",
    "    labels = unlist(round((x/sum(x))*100, 1)) %>% as.vector\n",
    "\n",
    "    for(i in 1:length(labels))\n",
    "    {\n",
    "      labels[i] = paste0(toString(unlist(x)[i]), '\\n(', labels[i], '%', ')' )\n",
    "    }\n",
    "\n",
    "    labels\n",
    "}\n",
    "\n",
    "labels = labels(creatorNamesandCounts['creator counts'])\n",
    "\n",
    "ggplot(creatorNamesandCounts, aes(`creator names`, `creator counts`, label = labels)) +\n",
    "       geom_bar(stat = \"identity\", fill = 'pink', color = \"purple\", width = 0.75) +\n",
    "       theme(text = element_text(size=15), axis.text.x = element_text(angle = 90), panel.background = element_rect(fill = 'grey', color = 'grey')) +\n",
    "       geom_text( vjust = -0.5, label.size = 0.15) +\n",
    "       scale_y_continuous(limits = c(0, 825))\n",
    "\n"
   ]
  },
  {
   "cell_type": "code",
   "execution_count": 61,
   "metadata": {
    "pycharm": {
     "name": "#%%\n"
    }
   },
   "outputs": [],
   "source": [
    "%%R -i categoricalVariablesFilled -o categoricalVariableNames\n",
    "\n",
    "summaryTable = list()\n",
    "\n",
    "categoricalVariableNames = categoricalVariablesFilled %>% colnames\n",
    "\n",
    "for(i in 4:length(categoricalVariableNames))\n",
    "{\n",
    "    summaryTable[[i-3]] = superheroDataFilled[paste0(categoricalVariableNames[i])] %>% table\n",
    "}"
   ]
  },
  {
   "cell_type": "code",
   "execution_count": 62,
   "metadata": {
    "pycharm": {
     "name": "#%%\n"
    }
   },
   "outputs": [
    {
     "name": "stdout",
     "output_type": "stream",
     "text": [
      "[[1]]\n",
      "creator\n",
      "Dark Horse Comics         DC Comics      George Lucas      Image Comics \n",
      "               27               420                18                17 \n",
      "             Lego     Marvel Comics      NBC - Heroes          Shueisha \n",
      "               22               739                15                36 \n",
      "\n",
      "[[2]]\n",
      "alignment\n",
      "    Bad    Good Neutral \n",
      "    416     764     114 \n",
      "\n",
      "[[3]]\n",
      "gender\n",
      "Female   Male   None \n",
      "   335    957      2 \n",
      "\n",
      "[[4]]\n",
      "type_race\n",
      "                   Alien                   Amazon                  Android \n",
      "                      30                        5                       18 \n",
      "                  Animal                Asgardian                Atlantean \n",
      "                      24                       16                       10 \n",
      "                 Bizarro               Bolovaxian               Centaurian \n",
      "                       2                        1                        1 \n",
      "                   Clone            Cosmic Entity                   Cyborg \n",
      "                       3                       10                       17 \n",
      "                Czarnian       Dathomirian Zabrak                 Daxamite \n",
      "                       1                        1                        1 \n",
      "                Demi-God                    Demon                    Elder \n",
      "                       9                       21                        2 \n",
      "                  Energy Energy Release Generator                  Eternal \n",
      "                       1                        1                        2 \n",
      "          Flora Colossus              Frost Giant            god / Eternal \n",
      "                       1                        3                        1 \n",
      "           God / Eternal                  Gorilla                   Gungan \n",
      "                      36                        2                        1 \n",
      "                   Human            Human-Inhuman            Human-Spartoi \n",
      "                     820                        2                        1 \n",
      "         Human / Altered           Human / Cosmic        Human / Radiation \n",
      "                       7                        1                       17 \n",
      "                Humanoid            Icthyo Sapien                  Inhuman \n",
      "                       1                        1                       13 \n",
      "                   Kaiju          Kakarantharaian                Korugaran \n",
      "                       1                        1                        1 \n",
      "                    Kree               Kryptonian                     Lego \n",
      "                       2                        9                        1 \n",
      "              Leprechaun                  Martian                Metahuman \n",
      "                       1                        2                       44 \n",
      "                  Mutant           Mutant / Clone                  New God \n",
      "                      94                        2                       10 \n",
      "               Parademon                   Planet                    Robot \n",
      "                       1                        1                        4 \n",
      "                  Rodian                   Saiyan                Strontian \n",
      "                       1                        5                        1 \n",
      "                Symbiote                 Talokite               Tamaranean \n",
      "                      10                        1                        2 \n",
      "                Titanian                  Twi'lek                  Ungaran \n",
      "                       4                        1                        1 \n",
      "                 Vampire          Xenomorph XX121                   Yautja \n",
      "                       5                        1                        1 \n",
      "          Yoda's species            Zen-Whoberian                   Zombie \n",
      "                       1                        1                        2 \n",
      "\n",
      "[[5]]\n",
      "eye_color\n",
      "                  Amber                   Black                    Blue \n",
      "                      4                     135                     553 \n",
      "           Blue / White                   brown                   Brown \n",
      "                      8                       3                     250 \n",
      "                   Gold                   Green            Green / Blue \n",
      "                      6                     111                       5 \n",
      "                   Grey                   Hazel                 No eyes \n",
      "                     11                      11                       7 \n",
      "                 Orange                    Pink                  Purple \n",
      "                      5                       3                      12 \n",
      "                    Red                  Silver                  Violet \n",
      "                     93                       3                       4 \n",
      "                  White             White / Red                  Yellow \n",
      "                     34                       1                      28 \n",
      "Yellow (without irises)           Yellow / Blue          Yellow / Green \n",
      "                      3                       1                       3 \n",
      "\n",
      "[[6]]\n",
      "hair_color\n",
      "          Auburn            black            Black     Black / Blue \n",
      "              13                4              519                4 \n",
      "           blond            Blond             Blue            Brown \n",
      "               2              153               10              181 \n",
      "   Brown / Black    Brown / White           Brownn             Gold \n",
      "               8                5                1                3 \n",
      "           Green             Grey           Indigo          Magenta \n",
      "              18               33                1                1 \n",
      "         No Hair             None           Orange   Orange / White \n",
      "             172                2                3                1 \n",
      "            Pink           Purple              Red     Red / Orange \n",
      "               3                7               76                2 \n",
      "     Red / White           Silver Strawberry Blond            White \n",
      "               1                2               13               50 \n",
      "          Yellow \n",
      "               6 \n",
      "\n",
      "[[7]]\n",
      "has_electrokinesis\n",
      "   0    1 \n",
      "1188  106 \n",
      "\n",
      "[[8]]\n",
      "has_energy_constructs\n",
      "   0    1 \n",
      "1207   87 \n",
      "\n",
      "[[9]]\n",
      "has_mind_control_resistance\n",
      "   0    1 \n",
      "1211   83 \n",
      "\n",
      "[[10]]\n",
      "has_matter_manipulation\n",
      "   0    1 \n",
      "1232   62 \n",
      "\n",
      "[[11]]\n",
      "has_telepathy_resistance\n",
      "   0    1 \n",
      "1195   99 \n",
      "\n",
      "[[12]]\n",
      "has_mind_control\n",
      "   0    1 \n",
      "1198   96 \n",
      "\n",
      "[[13]]\n",
      "has_enhanced_hearing\n",
      "   0    1 \n",
      "1135  159 \n",
      "\n",
      "[[14]]\n",
      "has_dimensional_travel\n",
      "   0    1 \n",
      "1202   92 \n",
      "\n",
      "[[15]]\n",
      "has_element_control\n",
      "   0    1 \n",
      "1156  138 \n",
      "\n",
      "[[16]]\n",
      "has_size_changing\n",
      "   0    1 \n",
      "1187  107 \n",
      "\n",
      "[[17]]\n",
      "has_fire_resistance\n",
      "   0    1 \n",
      "1148  146 \n",
      "\n",
      "[[18]]\n",
      "has_fire_control\n",
      "   0    1 \n",
      "1194  100 \n",
      "\n",
      "[[19]]\n",
      "has_dexterity\n",
      "   0    1 \n",
      "1113  181 \n",
      "\n",
      "[[20]]\n",
      "has_reality_warping\n",
      "   0    1 \n",
      "1245   49 \n",
      "\n",
      "[[21]]\n",
      "has_illusions\n",
      "   0    1 \n",
      "1190  104 \n",
      "\n",
      "[[22]]\n",
      "has_energy_beams\n",
      "   0    1 \n",
      "1182  112 \n",
      "\n",
      "[[23]]\n",
      "has_peak_human_condition\n",
      "   0    1 \n",
      "1081  213 \n",
      "\n",
      "[[24]]\n",
      "has_shapeshifting\n",
      "   0    1 \n",
      "1160  134 \n",
      "\n",
      "[[25]]\n",
      "has_heat_resistance\n",
      "   0    1 \n",
      "1108  186 \n",
      "\n",
      "[[26]]\n",
      "has_jump\n",
      "   0    1 \n",
      "1114  180 \n",
      "\n",
      "[[27]]\n",
      "has_self sustenance\n",
      "   0    1 \n",
      "1144  150 \n",
      "\n",
      "[[28]]\n",
      "has_energy_absorption\n",
      "   0    1 \n",
      "1123  171 \n",
      "\n",
      "[[29]]\n",
      "has_cold_resistance\n",
      "   0    1 \n",
      "1111  183 \n",
      "\n",
      "[[30]]\n",
      "has_magic\n",
      "   0    1 \n",
      "1177  117 \n",
      "\n",
      "[[31]]\n",
      "has_telekinesis\n",
      "   0    1 \n",
      "1171  123 \n",
      "\n",
      "[[32]]\n",
      "has_toxin_and_disease_resistance\n",
      "   0    1 \n",
      "1109  185 \n",
      "\n",
      "[[33]]\n",
      "has_telepathy\n",
      "   0    1 \n",
      "1134  160 \n",
      "\n",
      "[[34]]\n",
      "has_regeneration\n",
      "   0    1 \n",
      "1110  184 \n",
      "\n",
      "[[35]]\n",
      "has_immortality\n",
      "   0    1 \n",
      "1129  165 \n",
      "\n",
      "[[36]]\n",
      "has_teleportation\n",
      "   0    1 \n",
      "1135  159 \n",
      "\n",
      "[[37]]\n",
      "has_force_fields\n",
      "   0    1 \n",
      "1132  162 \n",
      "\n",
      "[[38]]\n",
      "has_energy_manipulation\n",
      "   0    1 \n",
      "1132  162 \n",
      "\n",
      "[[39]]\n",
      "has_endurance\n",
      "   0    1 \n",
      "1004  290 \n",
      "\n",
      "[[40]]\n",
      "has_longevity\n",
      "   0    1 \n",
      "1034  260 \n",
      "\n",
      "[[41]]\n",
      "has_weapon based_powers\n",
      "  0   1 \n",
      "972 322 \n",
      "\n",
      "[[42]]\n",
      "has_energy_blasts\n",
      "   0    1 \n",
      "1046  248 \n",
      "\n",
      "[[43]]\n",
      "has_enhanced_senses\n",
      "   0    1 \n",
      "1005  289 \n",
      "\n",
      "[[44]]\n",
      "has_invulnerability\n",
      "  0   1 \n",
      "986 308 \n",
      "\n",
      "[[45]]\n",
      "has_stealth\n",
      "  0   1 \n",
      "913 381 \n",
      "\n",
      "[[46]]\n",
      "has_marksmanship\n",
      "  0   1 \n",
      "874 420 \n",
      "\n",
      "[[47]]\n",
      "has_flight\n",
      "  0   1 \n",
      "963 331 \n",
      "\n",
      "[[48]]\n",
      "has_accelerated_healing\n",
      "  0   1 \n",
      "926 368 \n",
      "\n",
      "[[49]]\n",
      "has_weapons_master\n",
      "  0   1 \n",
      "800 494 \n",
      "\n",
      "[[50]]\n",
      "has_intelligence\n",
      "  0   1 \n",
      "783 511 \n",
      "\n",
      "[[51]]\n",
      "has_reflexes\n",
      "  0   1 \n",
      "772 522 \n",
      "\n",
      "[[52]]\n",
      "has_super_speed\n",
      "  0   1 \n",
      "819 475 \n",
      "\n",
      "[[53]]\n",
      "has_durability\n",
      "  0   1 \n",
      "595 699 \n",
      "\n",
      "[[54]]\n",
      "has_stamina\n",
      "  0   1 \n",
      "580 714 \n",
      "\n",
      "[[55]]\n",
      "has_agility\n",
      "  0   1 \n",
      "530 764 \n",
      "\n",
      "[[56]]\n",
      "has_super_strength\n",
      "  0   1 \n",
      "560 734 \n",
      "\n"
     ]
    }
   ],
   "source": [
    "%%R -o summaryTable\n",
    "summaryTable;"
   ]
  },
  {
   "cell_type": "code",
   "execution_count": 63,
   "metadata": {
    "pycharm": {
     "name": "#%%\n"
    }
   },
   "outputs": [],
   "source": [
    "%%R -o SuperheroDataFilled\n",
    "\n",
    "SuperheroDataFilled = superheroDataFilled %>% subset(gender != 'None'  )"
   ]
  },
  {
   "cell_type": "code",
   "execution_count": null,
   "metadata": {
    "pycharm": {
     "name": "#%%\n",
     "is_executing": true
    }
   },
   "outputs": [],
   "source": [
    "ProfileReport(SuperheroDataFilled)"
   ]
  },
  {
   "cell_type": "code",
   "execution_count": null,
   "metadata": {
    "pycharm": {
     "name": "#%%\n"
    }
   },
   "outputs": [],
   "source": [
    "%%R -o raceNamesandCounts\n",
    "\n",
    "getNamesandCounts = function(df, variable, variable_name)\n",
    "{\n",
    "    if(missing(variable_name))\n",
    "    {\n",
    "        variable_name = paste0(variable)\n",
    "    }\n",
    "\n",
    "    Counts = df[paste0(variable)] %>% table() %>% as.vector()\n",
    "\n",
    "    Names = df[paste0(variable)] %>% unique() %>% unlist() %>% sort()\n",
    "\n",
    "    NamesandCounts = data.frame(Names, Counts) %>% setNames(c(paste0(variable_name, ' names'), paste0(variable_name, ' counts')))\n",
    "}\n",
    "\n",
    "raceNamesandCounts = getNamesandCounts(SuperheroDataFilled, 'type_race', 'race')\n",
    "\n",
    "eyeColorNameandCounts = getNamesandCounts(SuperheroDataFilled, 'eye_color', 'eye color')\n",
    "\n",
    "hairColorNameandCounts = getNamesandCounts(SuperheroDataFilled, 'hair_color', 'hair color')"
   ]
  },
  {
   "cell_type": "code",
   "execution_count": null,
   "metadata": {
    "pycharm": {
     "name": "#%%\n"
    }
   },
   "outputs": [],
   "source": [
    "%%R -o eyeColorNameandCounts\n",
    "eyeColorNameandCounts = getNamesandCounts(SuperheroDataFilled, 'eye_color', 'eye color')"
   ]
  },
  {
   "cell_type": "code",
   "execution_count": null,
   "metadata": {
    "pycharm": {
     "name": "#%%\n"
    }
   },
   "outputs": [],
   "source": [
    "%%R -o hairColorNameandCounts\n",
    "hairColorNameandCounts = getNamesandCounts(SuperheroDataFilled, 'hair_color', 'hair color')"
   ]
  },
  {
   "cell_type": "code",
   "execution_count": null,
   "metadata": {
    "pycharm": {
     "name": "#%%\n"
    }
   },
   "outputs": [],
   "source": [
    "px.bar(raceNamesandCounts, x ='race names', y ='race counts').show()\n",
    "px.bar(eyeColorNameandCounts, x ='eye color names', y ='eye color counts').show()\n",
    "px.bar(hairColorNameandCounts, x ='hair color names', y ='hair color counts').show()"
   ]
  },
  {
   "cell_type": "code",
   "execution_count": 78,
   "metadata": {
    "pycharm": {
     "name": "#%%\n"
    }
   },
   "outputs": [],
   "source": [
    "%%R -o SuperheroDataFilled\n",
    "\n",
    "SuperheroDataFilled =\n",
    "SuperheroDataFilled %>% filter(type_race %in% c('Human', 'Mutant', 'Metahuman', 'God/Eternal',\n",
    "                                              'Alien ', 'Animal', 'Asgardian', 'Android', 'Cyborg','Human/Radiation')) %>%\n",
    "                        filter(eye_color %in% c('Blue', 'Black', 'Brown', 'Green', 'Red', 'White', 'Yellow')) %>%\n",
    "                        filter(hair_color %in% c('Black', 'Blond', 'Brown', 'No Hair', 'Red', 'White', 'Grey', 'Green',\n",
    "                                                'Strawberry', 'Auburn'))\n"
   ]
  },
  {
   "cell_type": "code",
   "execution_count": null,
   "metadata": {
    "pycharm": {
     "name": "#%%\n"
    }
   },
   "outputs": [],
   "source": [
    "ProfileReport(SuperheroDataFilled)"
   ]
  },
  {
   "cell_type": "code",
   "execution_count": null,
   "metadata": {
    "pycharm": {
     "name": "#%%\n"
    }
   },
   "outputs": [],
   "source": [
    "quantitativeVariables = superheroDataFilled.iloc[:, range(59,67)]\n",
    "\n",
    "quantitativeVariables.corr()"
   ]
  },
  {
   "cell_type": "code",
   "execution_count": null,
   "metadata": {
    "pycharm": {
     "name": "#%%\n"
    }
   },
   "outputs": [],
   "source": [
    "quantitativeVariables = SuperheroDataFilled.iloc[:, range(59,67)]\n",
    "\n",
    "quantitativeVariables.corr()"
   ]
  },
  {
   "cell_type": "code",
   "execution_count": null,
   "metadata": {
    "pycharm": {
     "name": "#%%\n"
    }
   },
   "outputs": [],
   "source": [
    "encodedVariables = superheroDataFilled.iloc[:, range(11,59)]\n",
    "\n",
    "encodedVariables.corr()"
   ]
  },
  {
   "cell_type": "code",
   "execution_count": null,
   "metadata": {
    "pycharm": {
     "name": "#%%\n"
    }
   },
   "outputs": [],
   "source": [
    "encodedVariables = SuperheroDataFilled.iloc[:, range(11,59)]\n",
    "\n",
    "encodedVariables.corr()"
   ]
  },
  {
   "cell_type": "markdown",
   "metadata": {
    "pycharm": {
     "name": "#%% md\n"
    }
   },
   "source": [
    "KNN Analysis"
   ]
  },
  {
   "cell_type": "code",
   "execution_count": 89,
   "metadata": {
    "pycharm": {
     "name": "#%%\n"
    }
   },
   "outputs": [],
   "source": [
    "%%R\n",
    "\n",
    "ifmissing = function(x = NULL, value)\n",
    "{\n",
    "    if(is.null(x))\n",
    "      return(value)\n",
    "    else\n",
    "        return(x)\n",
    "}\n",
    "\n",
    "KNN_SetUp = function(df, category, splitRatio, quantitativeVariableColumns)\n",
    "{\n",
    "    #do train/test split for initial model\n",
    "    split = sample.split(df[category], SplitRatio = splitRatio)\n",
    "\n",
    "    training_set = subset(df, split == TRUE)\n",
    "\n",
    "    test_set = subset(df, split == FALSE)\n",
    "\n",
    "    #scale quantitative variables to similar ranges\n",
    "    train_scale <- scale(training_set[, quantitativeVariableColumns])\n",
    "    test_scale <- scale(test_set[, quantitativeVariableColumns])\n",
    "\n",
    "    return(list(train_scale, test_scale))\n",
    "}\n",
    "\n",
    "KNN_Analysis = function(df, category, initialSplitRatio, quantitativeVariableColumns, starting_k)\n",
    "{\n",
    "    initialSplitRatio = ifmissing(initialSplitRatio, 0.75)\n",
    "\n",
    "    quantitativeVariableColumns = ifmissing(quantitativeVariableColumns, 10:67)\n",
    "\n",
    "    starting_k = ifmissing(starting_k, 5)\n",
    "\n",
    "    set.seed(123)\n",
    "\n",
    "    temp = KNN_SetUp(df, category, initialSplitRatio, quantitativeVariableColumns)\n",
    "    train_scale = temp[[1]]\n",
    "    test_scale = temp[[2]]\n",
    "\n",
    "    #find best k\n",
    "    error_k = c()\n",
    "\n",
    "    knnModels_VaryingK = vector(mode = 'list', length = 67)\n",
    "\n",
    "    for(k in c(1:67))\n",
    "    {\n",
    "        classifier_knn <- knn(train = train_scale,\n",
    "                              test = test_scale,\n",
    "                              cl = training_set[category],\n",
    "                              k = k)\n",
    "        error_k[k] = mean(classifier_knn != test_set[category])\n",
    "        knnModels_VaryingK[[i]] = classifier_knn\n",
    "    }\n",
    "\n",
    "    best_k = which.min(error_k)\n",
    "\n",
    "    #find best split ratio\n",
    "    errorSplitRatio = c()\n",
    "\n",
    "    knnModels_VarySplitRatio = vector(mode = 'list', length = 99)\n",
    "\n",
    "    for(i in 1:99)\n",
    "    {\n",
    "        temp = KNN_SetUp(df = df, category = category, splitRatio = i/100, quantitativeVariableColumns = quantitativeVariableColumns)\n",
    "        train_scale = temp[[1]]\n",
    "        test_scale = temp[[2]]\n",
    "\n",
    "        if(train_scale %>% is.na %>% sum == 0 & test_scale %>% is.na %>% sum == 0)\n",
    "        {\n",
    "        classifier_knn <- knn(train = train_scale,\n",
    "                                   test = test_scale,\n",
    "                                   cl = training_set[category],\n",
    "                                   k = best_k)\n",
    "\n",
    "        errorSplitRatio[i] = mean(classifier_knn != test_set[category])\n",
    "        knnModels_VarySplitRatio[[i]] = classifier_knn\n",
    "        }\n",
    "    }\n",
    "\n",
    "    bestSplitRatio = which.min(errorSplitRatio)/100\n",
    "\n",
    "    best_model = knnModels_VarySplitRatio[[bestSplitRatio*100]]\n",
    "\n",
    "    confusionMatrix_bestModel <- table(df[category], best_model)\n",
    "\n",
    "    return(list(error_k, knnModels_VaryingK, best_k, errorSplitRatio, knnModels_VarySplitRatio, bestSplitRatio, best_model, confusionMatrix_bestModel))\n",
    "}\n"
   ]
  },
  {
   "cell_type": "code",
   "execution_count": 90,
   "outputs": [
    {
     "name": "stderr",
     "output_type": "stream",
     "text": [
      "R[write to console]: Error in knn(train = train_scale, test = test_scale, cl = training_set[category],  : \n",
      "  'train' and 'class' have different lengths\n",
      "\n"
     ]
    },
    {
     "name": "stdout",
     "output_type": "stream",
     "text": [
      "\n",
      "Error in knn(train = train_scale, test = test_scale, cl = training_set[category],  : \n",
      "  'train' and 'class' have different lengths\n"
     ]
    },
    {
     "ename": "RInterpreterError",
     "evalue": "Failed to parse and evaluate line \"KNN_Analysis(superheroDataFilled, category = 'creator', initialSplitRatio = 0.5, quantitativeVariableColumns = 10:67, starting_k = 3)\\n\\n\".\nR error message: \"Error in knn(train = train_scale, test = test_scale, cl = training_set[category],  : \\n  'train' and 'class' have different lengths\"",
     "output_type": "error",
     "traceback": [
      "\u001B[1;31m---------------------------------------------------------------------------\u001B[0m",
      "\u001B[1;31mRRuntimeError\u001B[0m                             Traceback (most recent call last)",
      "File \u001B[1;32m~\\PycharmProjects\\pythonProject1\\lib\\site-packages\\rpy2\\ipython\\rmagic.py:331\u001B[0m, in \u001B[0;36mRMagics.eval\u001B[1;34m(self, code)\u001B[0m\n\u001B[0;32m    329\u001B[0m \u001B[38;5;28;01mtry\u001B[39;00m:\n\u001B[0;32m    330\u001B[0m     \u001B[38;5;66;03m# Need the newline in case the last line in code is a comment.\u001B[39;00m\n\u001B[1;32m--> 331\u001B[0m     value, visible \u001B[38;5;241m=\u001B[39m \u001B[43mro\u001B[49m\u001B[38;5;241;43m.\u001B[39;49m\u001B[43mr\u001B[49m\u001B[43m(\u001B[49m\u001B[38;5;124;43m\"\u001B[39;49m\u001B[38;5;124;43mwithVisible(\u001B[39;49m\u001B[38;5;124;43m{\u001B[39;49m\u001B[38;5;132;43;01m%s\u001B[39;49;00m\u001B[38;5;130;43;01m\\n\u001B[39;49;00m\u001B[38;5;124;43m})\u001B[39;49m\u001B[38;5;124;43m\"\u001B[39;49m\u001B[43m \u001B[49m\u001B[38;5;241;43m%\u001B[39;49m\u001B[43m \u001B[49m\u001B[43mcode\u001B[49m\u001B[43m)\u001B[49m\n\u001B[0;32m    332\u001B[0m \u001B[38;5;28;01mexcept\u001B[39;00m (ri\u001B[38;5;241m.\u001B[39membedded\u001B[38;5;241m.\u001B[39mRRuntimeError, \u001B[38;5;167;01mValueError\u001B[39;00m) \u001B[38;5;28;01mas\u001B[39;00m exception:\n\u001B[0;32m    333\u001B[0m     \u001B[38;5;66;03m# Otherwise next return seems to have copy of error.\u001B[39;00m\n",
      "File \u001B[1;32m~\\PycharmProjects\\pythonProject1\\lib\\site-packages\\rpy2\\robjects\\__init__.py:459\u001B[0m, in \u001B[0;36mR.__call__\u001B[1;34m(self, string)\u001B[0m\n\u001B[0;32m    458\u001B[0m p \u001B[38;5;241m=\u001B[39m rinterface\u001B[38;5;241m.\u001B[39mparse(string)\n\u001B[1;32m--> 459\u001B[0m res \u001B[38;5;241m=\u001B[39m \u001B[38;5;28;43mself\u001B[39;49m\u001B[38;5;241;43m.\u001B[39;49m\u001B[43meval\u001B[49m\u001B[43m(\u001B[49m\u001B[43mp\u001B[49m\u001B[43m)\u001B[49m\n\u001B[0;32m    460\u001B[0m \u001B[38;5;28;01mreturn\u001B[39;00m conversion\u001B[38;5;241m.\u001B[39mget_conversion()\u001B[38;5;241m.\u001B[39mrpy2py(res)\n",
      "File \u001B[1;32m~\\PycharmProjects\\pythonProject1\\lib\\site-packages\\rpy2\\robjects\\functions.py:203\u001B[0m, in \u001B[0;36mSignatureTranslatedFunction.__call__\u001B[1;34m(self, *args, **kwargs)\u001B[0m\n\u001B[0;32m    202\u001B[0m         kwargs[r_k] \u001B[38;5;241m=\u001B[39m v\n\u001B[1;32m--> 203\u001B[0m \u001B[38;5;28;01mreturn\u001B[39;00m (\u001B[38;5;28msuper\u001B[39m(SignatureTranslatedFunction, \u001B[38;5;28mself\u001B[39m)\n\u001B[0;32m    204\u001B[0m         \u001B[38;5;241m.\u001B[39m\u001B[38;5;21m__call__\u001B[39m(\u001B[38;5;241m*\u001B[39margs, \u001B[38;5;241m*\u001B[39m\u001B[38;5;241m*\u001B[39mkwargs))\n",
      "File \u001B[1;32m~\\PycharmProjects\\pythonProject1\\lib\\site-packages\\rpy2\\robjects\\functions.py:126\u001B[0m, in \u001B[0;36mFunction.__call__\u001B[1;34m(self, *args, **kwargs)\u001B[0m\n\u001B[0;32m    125\u001B[0m         new_kwargs[k] \u001B[38;5;241m=\u001B[39m cv\u001B[38;5;241m.\u001B[39mpy2rpy(v)\n\u001B[1;32m--> 126\u001B[0m res \u001B[38;5;241m=\u001B[39m \u001B[38;5;28msuper\u001B[39m(Function, \u001B[38;5;28mself\u001B[39m)\u001B[38;5;241m.\u001B[39m\u001B[38;5;21m__call__\u001B[39m(\u001B[38;5;241m*\u001B[39mnew_args, \u001B[38;5;241m*\u001B[39m\u001B[38;5;241m*\u001B[39mnew_kwargs)\n\u001B[0;32m    127\u001B[0m res \u001B[38;5;241m=\u001B[39m cv\u001B[38;5;241m.\u001B[39mrpy2py(res)\n",
      "File \u001B[1;32m~\\PycharmProjects\\pythonProject1\\lib\\site-packages\\rpy2\\rinterface_lib\\conversion.py:45\u001B[0m, in \u001B[0;36m_cdata_res_to_rinterface.<locals>._\u001B[1;34m(*args, **kwargs)\u001B[0m\n\u001B[0;32m     44\u001B[0m \u001B[38;5;28;01mdef\u001B[39;00m \u001B[38;5;21m_\u001B[39m(\u001B[38;5;241m*\u001B[39margs, \u001B[38;5;241m*\u001B[39m\u001B[38;5;241m*\u001B[39mkwargs):\n\u001B[1;32m---> 45\u001B[0m     cdata \u001B[38;5;241m=\u001B[39m function(\u001B[38;5;241m*\u001B[39margs, \u001B[38;5;241m*\u001B[39m\u001B[38;5;241m*\u001B[39mkwargs)\n\u001B[0;32m     46\u001B[0m     \u001B[38;5;66;03m# TODO: test cdata is of the expected CType\u001B[39;00m\n",
      "File \u001B[1;32m~\\PycharmProjects\\pythonProject1\\lib\\site-packages\\rpy2\\rinterface.py:815\u001B[0m, in \u001B[0;36mSexpClosure.__call__\u001B[1;34m(self, *args, **kwargs)\u001B[0m\n\u001B[0;32m    814\u001B[0m     \u001B[38;5;28;01mif\u001B[39;00m error_occured[\u001B[38;5;241m0\u001B[39m]:\n\u001B[1;32m--> 815\u001B[0m         \u001B[38;5;28;01mraise\u001B[39;00m embedded\u001B[38;5;241m.\u001B[39mRRuntimeError(_rinterface\u001B[38;5;241m.\u001B[39m_geterrmessage())\n\u001B[0;32m    816\u001B[0m \u001B[38;5;28;01mreturn\u001B[39;00m res\n",
      "\u001B[1;31mRRuntimeError\u001B[0m: Error in knn(train = train_scale, test = test_scale, cl = training_set[category],  : \n  'train' and 'class' have different lengths\n",
      "\nDuring handling of the above exception, another exception occurred:\n",
      "\u001B[1;31mRInterpreterError\u001B[0m                         Traceback (most recent call last)",
      "Cell \u001B[1;32mIn [90], line 1\u001B[0m\n\u001B[1;32m----> 1\u001B[0m \u001B[43mget_ipython\u001B[49m\u001B[43m(\u001B[49m\u001B[43m)\u001B[49m\u001B[38;5;241;43m.\u001B[39;49m\u001B[43mrun_cell_magic\u001B[49m\u001B[43m(\u001B[49m\u001B[38;5;124;43m'\u001B[39;49m\u001B[38;5;124;43mR\u001B[39;49m\u001B[38;5;124;43m'\u001B[39;49m\u001B[43m,\u001B[49m\u001B[43m \u001B[49m\u001B[38;5;124;43m'\u001B[39;49m\u001B[38;5;124;43m'\u001B[39;49m\u001B[43m,\u001B[49m\u001B[43m \u001B[49m\u001B[38;5;124;43m\"\u001B[39;49m\u001B[38;5;124;43mKNN_Analysis(superheroDataFilled, category = \u001B[39;49m\u001B[38;5;124;43m'\u001B[39;49m\u001B[38;5;124;43mcreator\u001B[39;49m\u001B[38;5;124;43m'\u001B[39;49m\u001B[38;5;124;43m, initialSplitRatio = 0.5, quantitativeVariableColumns = 10:67, starting_k = 3)\u001B[39;49m\u001B[38;5;130;43;01m\\n\u001B[39;49;00m\u001B[38;5;130;43;01m\\n\u001B[39;49;00m\u001B[38;5;124;43m\"\u001B[39;49m\u001B[43m)\u001B[49m\n",
      "File \u001B[1;32m~\\PycharmProjects\\pythonProject1\\lib\\site-packages\\IPython\\core\\interactiveshell.py:2417\u001B[0m, in \u001B[0;36mInteractiveShell.run_cell_magic\u001B[1;34m(self, magic_name, line, cell)\u001B[0m\n\u001B[0;32m   2415\u001B[0m \u001B[38;5;28;01mwith\u001B[39;00m \u001B[38;5;28mself\u001B[39m\u001B[38;5;241m.\u001B[39mbuiltin_trap:\n\u001B[0;32m   2416\u001B[0m     args \u001B[38;5;241m=\u001B[39m (magic_arg_s, cell)\n\u001B[1;32m-> 2417\u001B[0m     result \u001B[38;5;241m=\u001B[39m fn(\u001B[38;5;241m*\u001B[39margs, \u001B[38;5;241m*\u001B[39m\u001B[38;5;241m*\u001B[39mkwargs)\n\u001B[0;32m   2418\u001B[0m \u001B[38;5;28;01mreturn\u001B[39;00m result\n",
      "File \u001B[1;32m~\\PycharmProjects\\pythonProject1\\lib\\site-packages\\rpy2\\ipython\\rmagic.py:868\u001B[0m, in \u001B[0;36mRMagics.R\u001B[1;34m(self, line, cell, local_ns)\u001B[0m\n\u001B[0;32m    866\u001B[0m     \u001B[38;5;28;01mif\u001B[39;00m \u001B[38;5;129;01mnot\u001B[39;00m e\u001B[38;5;241m.\u001B[39mstdout\u001B[38;5;241m.\u001B[39mendswith(e\u001B[38;5;241m.\u001B[39merr):\n\u001B[0;32m    867\u001B[0m         \u001B[38;5;28mprint\u001B[39m(e\u001B[38;5;241m.\u001B[39merr)\n\u001B[1;32m--> 868\u001B[0m     \u001B[38;5;28;01mraise\u001B[39;00m e\n\u001B[0;32m    869\u001B[0m \u001B[38;5;28;01mfinally\u001B[39;00m:\n\u001B[0;32m    870\u001B[0m     \u001B[38;5;28;01mif\u001B[39;00m \u001B[38;5;28mself\u001B[39m\u001B[38;5;241m.\u001B[39mdevice \u001B[38;5;129;01min\u001B[39;00m [\u001B[38;5;124m'\u001B[39m\u001B[38;5;124mpng\u001B[39m\u001B[38;5;124m'\u001B[39m, \u001B[38;5;124m'\u001B[39m\u001B[38;5;124msvg\u001B[39m\u001B[38;5;124m'\u001B[39m]:\n",
      "File \u001B[1;32m~\\PycharmProjects\\pythonProject1\\lib\\site-packages\\rpy2\\ipython\\rmagic.py:848\u001B[0m, in \u001B[0;36mRMagics.R\u001B[1;34m(self, line, cell, local_ns)\u001B[0m\n\u001B[0;32m    846\u001B[0m         return_output \u001B[38;5;241m=\u001B[39m \u001B[38;5;28;01mFalse\u001B[39;00m\n\u001B[0;32m    847\u001B[0m \u001B[38;5;28;01melse\u001B[39;00m:\n\u001B[1;32m--> 848\u001B[0m     text_result, result, visible \u001B[38;5;241m=\u001B[39m \u001B[38;5;28;43mself\u001B[39;49m\u001B[38;5;241;43m.\u001B[39;49m\u001B[43meval\u001B[49m\u001B[43m(\u001B[49m\u001B[43mcode\u001B[49m\u001B[43m)\u001B[49m\n\u001B[0;32m    849\u001B[0m     text_output \u001B[38;5;241m+\u001B[39m\u001B[38;5;241m=\u001B[39m text_result\n\u001B[0;32m    850\u001B[0m     \u001B[38;5;28;01mif\u001B[39;00m visible:\n",
      "File \u001B[1;32m~\\PycharmProjects\\pythonProject1\\lib\\site-packages\\rpy2\\ipython\\rmagic.py:335\u001B[0m, in \u001B[0;36mRMagics.eval\u001B[1;34m(self, code)\u001B[0m\n\u001B[0;32m    332\u001B[0m \u001B[38;5;28;01mexcept\u001B[39;00m (ri\u001B[38;5;241m.\u001B[39membedded\u001B[38;5;241m.\u001B[39mRRuntimeError, \u001B[38;5;167;01mValueError\u001B[39;00m) \u001B[38;5;28;01mas\u001B[39;00m exception:\n\u001B[0;32m    333\u001B[0m     \u001B[38;5;66;03m# Otherwise next return seems to have copy of error.\u001B[39;00m\n\u001B[0;32m    334\u001B[0m     warning_or_other_msg \u001B[38;5;241m=\u001B[39m \u001B[38;5;28mself\u001B[39m\u001B[38;5;241m.\u001B[39mflush()\n\u001B[1;32m--> 335\u001B[0m     \u001B[38;5;28;01mraise\u001B[39;00m RInterpreterError(code, \u001B[38;5;28mstr\u001B[39m(exception),\n\u001B[0;32m    336\u001B[0m                             warning_or_other_msg)\n\u001B[0;32m    337\u001B[0m text_output \u001B[38;5;241m=\u001B[39m \u001B[38;5;28mself\u001B[39m\u001B[38;5;241m.\u001B[39mflush()\n\u001B[0;32m    338\u001B[0m \u001B[38;5;28;01mreturn\u001B[39;00m text_output, value, visible[\u001B[38;5;241m0\u001B[39m]\n",
      "\u001B[1;31mRInterpreterError\u001B[0m: Failed to parse and evaluate line \"KNN_Analysis(superheroDataFilled, category = 'creator', initialSplitRatio = 0.5, quantitativeVariableColumns = 10:67, starting_k = 3)\\n\\n\".\nR error message: \"Error in knn(train = train_scale, test = test_scale, cl = training_set[category],  : \\n  'train' and 'class' have different lengths\""
     ]
    }
   ],
   "source": [
    "%%R\n",
    "KNN_Analysis(superheroDataFilled, category = 'creator', initialSplitRatio = 0.5, quantitativeVariableColumns = 10:67, starting_k = 3)\n"
   ],
   "metadata": {
    "collapsed": false,
    "pycharm": {
     "name": "#%%\n"
    }
   }
  },
  {
   "cell_type": "code",
   "execution_count": null,
   "metadata": {
    "pycharm": {
     "name": "#%%\n"
    }
   },
   "outputs": [],
   "source": [
    "%%R\n",
    "confusionMatrix <- table(test_set$creator, classifier_knn)\n",
    "confusionMatrix"
   ]
  },
  {
   "cell_type": "markdown",
   "metadata": {
    "pycharm": {
     "name": "#%% md\n"
    }
   },
   "source": [
    "Cross-Validation"
   ]
  },
  {
   "cell_type": "markdown",
   "metadata": {
    "pycharm": {
     "name": "#%% md\n"
    }
   },
   "source": [
    "find best k value"
   ]
  },
  {
   "cell_type": "code",
   "execution_count": null,
   "metadata": {
    "pycharm": {
     "name": "#%%\n"
    }
   },
   "outputs": [],
   "source": [
    "%%R -o error\n",
    "\n",
    "error = c()\n",
    "\n",
    "set.seed(123)\n",
    "\n",
    "for(k in c(1:67))\n",
    "{\n",
    "    classifier_knn <- knn(train = train_scale,\n",
    "                          test = test_scale,\n",
    "                          cl = training_set$creator,\n",
    "                          k = k)\n",
    "    error[k] = mean(classifier_knn != test_set$creator)\n",
    "}\n",
    "\n",
    "error = error %>% as.data.frame %>% rename(\"error\" = '.')"
   ]
  },
  {
   "cell_type": "code",
   "execution_count": null,
   "metadata": {
    "pycharm": {
     "name": "#%%\n"
    }
   },
   "outputs": [],
   "source": [
    "error"
   ]
  },
  {
   "cell_type": "markdown",
   "metadata": {
    "pycharm": {
     "name": "#%% md\n"
    }
   },
   "source": [
    "find best split"
   ]
  },
  {
   "cell_type": "code",
   "execution_count": null,
   "outputs": [],
   "source": [
    "%%R -o error\n",
    "\n",
    "set.seed(123)\n",
    "\n",
    "error = c()\n",
    "\n",
    "for(i in 1:99)\n",
    "{\n",
    "    split = sample.split(superheroDataFilled$creator, SplitRatio = i/100)\n",
    "\n",
    "    training_set = subset(superheroDataFilled, split == TRUE)\n",
    "\n",
    "    test_set = subset(superheroDataFilled, split == FALSE)\n",
    "\n",
    "    #scale quantitative variables to similar ranges\n",
    "    train_scale <- scale(training_set[, 10:67])\n",
    "    test_scale <- scale(test_set[, 10:67])\n",
    "\n",
    "    #create KNN model\n",
    "    # noinspection PyRedundantParentheses\n",
    "\n",
    "    if(train_scale %>% is.na %>% sum == 0 & test_scale %>% is.na %>% sum == 0)\n",
    "    {\n",
    "    classifier_knn <- knn(train = train_scale,\n",
    "                               test = test_scale,\n",
    "                               cl = training_set$creator,\n",
    "                               k = 6)\n",
    "\n",
    "    error[i] = mean(classifier_knn != test_set$creator)\n",
    "    }\n",
    "}\n",
    "\n",
    "error = error\n",
    " %>% sort()\n",
    "error"
   ],
   "metadata": {
    "collapsed": false,
    "pycharm": {
     "name": "#%%\n"
    }
   }
  },
  {
   "cell_type": "code",
   "execution_count": null,
   "outputs": [],
   "source": [
    "type(error)"
   ],
   "metadata": {
    "collapsed": false,
    "pycharm": {
     "name": "#%%\n"
    }
   }
  }
 ],
 "metadata": {
  "kernelspec": {
   "display_name": "Python 3 (ipykernel)",
   "language": "python",
   "name": "python3"
  },
  "language_info": {
   "codemirror_mode": {
    "name": "ipython",
    "version": 3
   },
   "file_extension": ".py",
   "mimetype": "text/x-python",
   "name": "python",
   "nbconvert_exporter": "python",
   "pygments_lexer": "ipython3",
   "version": "3.10.0"
  }
 },
 "nbformat": 4,
 "nbformat_minor": 1
}