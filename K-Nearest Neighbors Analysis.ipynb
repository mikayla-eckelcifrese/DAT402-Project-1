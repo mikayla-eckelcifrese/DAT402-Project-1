{
 "cells": [
  {
   "cell_type": "markdown",
   "metadata": {
    "pycharm": {
     "name": "#%% md\n"
    }
   },
   "source": [
    "Data source: https://www.kaggle.com/datasets/jonathanbesomi/superheroes-nlp-dataset\n",
    "\n",
    "Note that I did some of the data cleaning in Excel before importing the file into the Python project, so you need to load the Excel file provided, as the one downloaded directly from Kaggle won't be properly cleaned by the code below, as I wrote the code specifically for the already partially cleaned version of the data.\n",
    "\n",
    "To be specific as to how I modified the Excel file prior to importing it:\n",
    "In no particular order,\n",
    "1. I filled in many of the missing values in the gender column, specifically the ones where the name made the gender\n",
    "   obvious and/or I was familiar with the character\n",
    "2. I filled in some of the missing values for race and alignment, going by either personal knowledge of particular\n",
    "   characters, or by Googling the character\n",
    "3. Similarly for the creator column\n",
    "4. I replaced both the cells containing only \"-\" and the empty cells with cells containing \"NaN\".\n",
    "5. I put both the weight and height data into common units, i.e. I converted any meter measurements to cm and any ton measurements to kg.\n",
    "6. I deleted several of the rows that randomly contained character descriptions and no variable values, as well as empty\n",
    "   rows\n",
    "7. I deleted a few rows that contained very little information (i.e. most of the cells were blank)"
   ]
  },
  {
   "cell_type": "code",
   "execution_count": null,
   "outputs": [],
   "source": [
    "import pandas as pd\n",
    "pd.options.mode.chained_assignment = None\n",
    "\n",
    "from pandas_profiling import ProfileReport\n",
    "\n",
    "import numpy as np\n",
    "import sklearn as sk\n",
    "from sklearn.impute import KNNImputer\n",
    "from sklearn.impute import SimpleImputer\n",
    "from sklearn.decomposition import PCA\n",
    "import matplotlib.pyplot as plt\n",
    "import seaborn as sns\n",
    "import plotly.express as px\n",
    "\n",
    "%load_ext rpy2.ipython"
   ],
   "metadata": {
    "collapsed": false,
    "pycharm": {
     "name": "#%%\n",
     "is_executing": true
    }
   }
  },
  {
   "cell_type": "code",
   "execution_count": 4,
   "outputs": [],
   "source": [
    "%%R\n",
    "library(dplyr)\n",
    "library(ggplot2)\n",
    "\n",
    "library(e1071)\n",
    "library(caTools)\n",
    "library(class)"
   ],
   "metadata": {
    "collapsed": false,
    "pycharm": {
     "name": "#%%\n"
    }
   }
  },
  {
   "cell_type": "markdown",
   "source": [
    "Read in and clean data"
   ],
   "metadata": {
    "collapsed": false,
    "pycharm": {
     "name": "#%% md\n"
    }
   }
  },
  {
   "cell_type": "code",
   "execution_count": 5,
   "outputs": [],
   "source": [
    "dropRows = [55, 76, 78, 81, 410, 481, 486, 490, 645, 653, 657, 693,\n",
    "            697, 840, 827, 830, 842, 844, 949, 950, 1059, 1063, 1077, 1079, 1081]\n",
    "#original data set had nonsense rows\n",
    "\n",
    "superheroData = \\\n",
    "    pd.read_excel(\"Superhero data.xlsx\").\\\n",
    "    drop(dropRows).\\\n",
    "    drop([\"full_name\"], axis = 1).\\\n",
    "    dropna(how = \"all\").\\\n",
    "    reset_index()#.\\\n",
    "    #drop([\"index\"], axis = 1)\n",
    "\n",
    "#Fix format of height and weight variables:\n",
    "columnLength = 1408\n",
    "\n",
    "for i in range(0, columnLength-1): #final row already has data in the correct form\n",
    "        #height data is of the form \"6'8 â€¢ 203 cm\" which would be very difficult to work with\n",
    "        #hence I'm extracting just the value in centimeters and converting to a float\n",
    "        #similar for weight\n",
    "\n",
    "        if not(str(superheroData[\"height\"][i]) == \"nan\"):\n",
    "            try:\n",
    "                superheroData[\"height\"][i] = float(str(superheroData[\"height\"][i]).split()[2]) #noqa\n",
    "            except:\n",
    "                superheroData[\"height\"][i] = \\\n",
    "                    str(superheroData.iloc[:,(\"height\", i)]).replace(',', '') #noqa\n",
    "                superheroData[\"height\"][i] = float(superheroData[\"height\"][i].split()[2]) #noqa\n",
    "\n",
    "        if not(str(superheroData[\"weight\"][i]) == \"nan\"):\n",
    "            try:\n",
    "                superheroData[\"weight\"][i] = float(str(superheroData[\"weight\"][i]).split()[3]) #noqa\n",
    "            except:\n",
    "                superheroData[\"weight\"][i] = str(superheroData[\"weight\"][i]).replace(',', '') #noqa\n",
    "                superheroData[\"weight\"][i] = float(superheroData[\"weight\"][i].split()[3]) #noqa\n",
    "\n",
    "superheroData;"
   ],
   "metadata": {
    "collapsed": false,
    "pycharm": {
     "name": "#%%\n"
    }
   }
  },
  {
   "cell_type": "markdown",
   "source": [
    "Check for and impute missing data values:"
   ],
   "metadata": {
    "collapsed": false,
    "pycharm": {
     "name": "#%% md\n"
    }
   }
  },
  {
   "cell_type": "code",
   "execution_count": 6,
   "outputs": [],
   "source": [
    "superheroData.isnull().sum();"
   ],
   "metadata": {
    "collapsed": false,
    "pycharm": {
     "name": "#%%\n"
    }
   }
  },
  {
   "cell_type": "code",
   "execution_count": 7,
   "outputs": [],
   "source": [
    "quantitativeVariables = superheroData.iloc[:, [3, 4, 5, 6, 7, 8, 14, 15]]\n",
    "\n",
    "knnImputer = KNNImputer(n_neighbors = 10)\n",
    "\n",
    "quantitativeVariablesFilled = \\\n",
    "    pd.DataFrame(knnImputer.fit_transform(quantitativeVariables)).\\\n",
    "    rename(columns = {0:\"intelligence score\", 1:\"strength score\",\n",
    "                      2:\"speed score\", 3:\"durability score\",\n",
    "                      4:\"power score\", 5: \"combat score\",\n",
    "                      6:\"height (cm)\", 7:\"weight (kg)\" })\n",
    "\n",
    "quantitativeVariablesFilled;"
   ],
   "metadata": {
    "collapsed": false,
    "pycharm": {
     "name": "#%%\n"
    }
   }
  },
  {
   "cell_type": "code",
   "execution_count": 8,
   "outputs": [],
   "source": [
    "categoricalVariableNames = [i for i in range(16, 68)]\n",
    "\n",
    "categoricalVariables = superheroData.iloc[:, [1, 2, 9, 10, 11, 12, 13] + categoricalVariableNames]\n",
    "\n",
    "simpleImputer = SimpleImputer(strategy = \"most_frequent\")\n",
    "\n",
    "categoricalVariablesFilled = pd.DataFrame(simpleImputer.fit_transform(categoricalVariables))\n",
    "\n",
    "categoricalVariablesFilled.columns = categoricalVariables.columns\n",
    "\n",
    "categoricalVariablesFilled;"
   ],
   "metadata": {
    "collapsed": false,
    "pycharm": {
     "name": "#%%\n"
    }
   }
  },
  {
   "cell_type": "code",
   "execution_count": 9,
   "outputs": [],
   "source": [
    "superheroDataFilled = pd.concat([categoricalVariablesFilled, quantitativeVariablesFilled], axis = 1)\n",
    "superheroDataFilled.head();"
   ],
   "metadata": {
    "collapsed": false,
    "pycharm": {
     "name": "#%%\n"
    }
   }
  },
  {
   "cell_type": "markdown",
   "source": [
    "Explore data:"
   ],
   "metadata": {
    "collapsed": false,
    "pycharm": {
     "name": "#%% md\n"
    }
   }
  },
  {
   "cell_type": "code",
   "execution_count": 10,
   "outputs": [],
   "source": [
    "%%R -i superheroDataFilled -o creatorNamesandCounts\n",
    "\n",
    "# noinspection PyUnreachableCode\n",
    "GetNamesandCounts = function(x)\n",
    "{\n",
    "    creatorCounts = x %>% table() %>% as.vector()\n",
    "\n",
    "    creatorNames = x %>% unique() %>% unlist() %>% sort()\n",
    "\n",
    "    Temp = data.frame(creatorNames, creatorCounts) %>% setNames(c('creator names', 'creator counts'))\n",
    "\n",
    "    return(Temp)\n",
    "}\n",
    "\n",
    "creatorNamesandCounts = GetNamesandCounts(superheroDataFilled['creator'])"
   ],
   "metadata": {
    "collapsed": false,
    "pycharm": {
     "name": "#%%\n"
    }
   }
  },
  {
   "cell_type": "code",
   "execution_count": 11,
   "outputs": [],
   "source": [
    "creatorsBarChart = px.bar(creatorNamesandCounts, x = 'creator names', y = 'creator counts')\n",
    "creatorsBarChart;"
   ],
   "metadata": {
    "collapsed": false,
    "pycharm": {
     "name": "#%%\n"
    }
   }
  },
  {
   "cell_type": "markdown",
   "source": [
    "Since, as the above bar graph shows, the vast majority characters in the data set are from the top 6 creators, the others are unlikely to contribute\n",
    "meaningfully to the overall patterns and will only complicate the analysis, hence I'll remove them and create a new graph:"
   ],
   "metadata": {
    "collapsed": false,
    "pycharm": {
     "name": "#%% md\n"
    }
   }
  },
  {
   "cell_type": "code",
   "execution_count": 12,
   "outputs": [
    {
     "data": {
      "image/png": "[encoded data removed]"
     },
     "metadata": {},
     "output_type": "display_data"
    }
   ],
   "source": [
    "%%R -o superheroDataFilled\n",
    "\n",
    "superheroDataFilled =\n",
    "superheroDataFilled %>% filter(creator %in% c('Marvel Comics','DC Comics', 'Shueisha', 'Lego', 'Image Comics',\n",
    "                                              'George Lucas', 'Dark Horse Comics', 'NBC - Heroes'))\n",
    "\n",
    "creatorNamesandCounts = GetNamesandCounts(superheroDataFilled['creator'])\n",
    "\n",
    "\n",
    "#create labels for new graph\n",
    "labels = function(x)\n",
    "{\n",
    "    labels = unlist(round((x/sum(x))*100, 1)) %>% as.vector\n",
    "\n",
    "    for(i in 1:length(labels))\n",
    "    {\n",
    "      labels[i] = paste0(toString(unlist(x)[i]), '\\n(', labels[i], '%', ')' )\n",
    "    }\n",
    "\n",
    "    labels\n",
    "}\n",
    "\n",
    "labels = labels(creatorNamesandCounts['creator counts'])\n",
    "\n",
    "ggplot(creatorNamesandCounts, aes(`creator names`, `creator counts`, label = labels)) +\n",
    "       geom_bar(stat = \"identity\", fill = 'pink', color = \"purple\", width = 0.75) +\n",
    "       theme(text = element_text(size=15), axis.text.x = element_text(angle = 90), panel.background = element_rect(fill = 'grey', color = 'grey')) +\n",
    "       geom_text( vjust = -0.5, label.size = 0.15) +\n",
    "       scale_y_continuous(limits = c(0, 825))\n",
    "\n"
   ],
   "metadata": {
    "collapsed": false,
    "pycharm": {
     "name": "#%%\n"
    }
   }
  },
  {
   "cell_type": "code",
   "execution_count": 16,
   "outputs": [],
   "source": [
    "%%R -i categoricalVariablesFilled -o categoricalVariableNames\n",
    "\n",
    "summaryTable = list()\n",
    "\n",
    "categoricalVariableNames = categoricalVariablesFilled %>% colnames\n",
    "\n",
    "for(i in 4:length(categoricalVariableNames))\n",
    "{\n",
    "    summaryTable[[i-3]] = superheroDataFilled[paste0(categoricalVariableNames[i])] %>% table\n",
    "}\n"
   ],
   "metadata": {
    "collapsed": false,
    "pycharm": {
     "name": "#%%\n"
    }
   }
  },
  {
   "cell_type": "code",
   "execution_count": null,
   "outputs": [],
   "source": [
    "%%R -o summaryTable\n"
   ],
   "metadata": {
    "collapsed": false,
    "pycharm": {
     "name": "#%%\n",
     "is_executing": true
    }
   }
  },
  {
   "cell_type": "code",
   "execution_count": 17,
   "outputs": [],
   "source": [
    "%%R -o superheroDataFiltered\n",
    "\n",
    "superheroDataFiltered = superheroDataFilled %>% subset(gender != 'None'  )"
   ],
   "metadata": {
    "collapsed": false,
    "pycharm": {
     "name": "#%%\n"
    }
   }
  },
  {
   "cell_type": "code",
   "execution_count": null,
   "outputs": [],
   "source": [
    "ProfileReport(superheroDataFiltered)"
   ],
   "metadata": {
    "collapsed": false,
    "pycharm": {
     "name": "#%%\n"
    }
   }
  },
  {
   "cell_type": "code",
   "execution_count": 18,
   "outputs": [],
   "source": [
    "%%R -o raceNamesandCounts\n",
    "\n",
    "getNamesandCounts = function(df, variable, variable_name)\n",
    "{\n",
    "    if(missing(variable_name))\n",
    "    {\n",
    "        variable_name = paste0(variable)\n",
    "    }\n",
    "\n",
    "    Counts = df[paste0(variable)] %>% table() %>% as.vector()\n",
    "\n",
    "    Names = df[paste0(variable)] %>% unique() %>% unlist() %>% sort()\n",
    "\n",
    "    NamesandCounts = data.frame(Names, Counts) %>% setNames(c(paste0(variable_name, ' names'), paste0(variable_name, ' counts')))\n",
    "}\n",
    "\n",
    "raceNamesandCounts = getNamesandCounts(superheroDataFiltered, 'type_race', 'race')\n",
    "\n",
    "eyeColorNameandCounts = getNamesandCounts(superheroDataFiltered, 'eye_color', 'eye color')\n",
    "\n",
    "hairColorNameandCounts = getNamesandCounts(superheroDataFiltered, 'hair_color', 'hair color')"
   ],
   "metadata": {
    "collapsed": false,
    "pycharm": {
     "name": "#%%\n"
    }
   }
  },
  {
   "cell_type": "code",
   "execution_count": 19,
   "outputs": [],
   "source": [
    "%%R -o eyeColorNameandCounts\n",
    "eyeColorNameandCounts = getNamesandCounts(superheroDataFiltered, 'eye_color', 'eye color')"
   ],
   "metadata": {
    "collapsed": false,
    "pycharm": {
     "name": "#%%\n"
    }
   }
  },
  {
   "cell_type": "code",
   "execution_count": 20,
   "outputs": [],
   "source": [
    "%%R -o hairColorNameandCounts\n",
    "hairColorNameandCounts = getNamesandCounts(superheroDataFiltered, 'hair_color', 'hair color')"
   ],
   "metadata": {
    "collapsed": false,
    "pycharm": {
     "name": "#%%\n"
    }
   }
  },
  {
   "cell_type": "code",
   "execution_count": null,
   "outputs": [],
   "source": [
    "px.bar(raceNamesandCounts, x ='race names', y ='race counts').show();\n",
    "px.bar(eyeColorNameandCounts, x ='eye color names', y ='eye color counts').show();\n",
    "px.bar(hairColorNameandCounts, x ='hair color names', y ='hair color counts').show();"
   ],
   "metadata": {
    "collapsed": false,
    "pycharm": {
     "name": "#%%\n",
     "is_executing": true
    }
   }
  },
  {
   "cell_type": "code",
   "execution_count": 23,
   "outputs": [],
   "source": [
    "%%R -o superheroDataFiltered\n",
    "\n",
    "superheroDataFiltered =\n",
    "superheroDataFiltered %>% filter(type_race %in% c('Human', 'Mutant', 'Metahuman', 'God/Eternal',\n",
    "                                              'Alien ', 'Animal', 'Asgardian', 'Android', 'Cyborg','Human/Radiation')) %>%\n",
    "                        filter(eye_color %in% c('Blue', 'Black', 'Brown', 'Green', 'Red', 'White', 'Yellow')) %>%\n",
    "                        filter(hair_color %in% c('Black', 'Blond', 'Brown', 'No Hair', 'Red', 'White', 'Grey', 'Green',\n",
    "                                                'Strawberry', 'Auburn'))\n"
   ],
   "metadata": {
    "collapsed": false,
    "pycharm": {
     "name": "#%%\n"
    }
   }
  },
  {
   "cell_type": "code",
   "execution_count": null,
   "outputs": [],
   "source": [
    "ProfileReport(superheroDataFiltered)"
   ],
   "metadata": {
    "collapsed": false,
    "pycharm": {
     "name": "#%%\n"
    }
   }
  },
  {
   "cell_type": "code",
   "execution_count": 24,
   "outputs": [],
   "source": [
    "quantitativeVariables = superheroDataFiltered.iloc[:, range(59,67)]\n",
    "\n",
    "quantitativeVariables.corr();"
   ],
   "metadata": {
    "collapsed": false,
    "pycharm": {
     "name": "#%%\n"
    }
   }
  },
  {
   "cell_type": "code",
   "execution_count": 25,
   "outputs": [],
   "source": [
    "quantitativeVariables = superheroDataFiltered.iloc[:, range(59,67)]\n",
    "\n",
    "quantitativeVariables.corr();"
   ],
   "metadata": {
    "collapsed": false,
    "pycharm": {
     "name": "#%%\n"
    }
   }
  },
  {
   "cell_type": "code",
   "execution_count": 26,
   "outputs": [],
   "source": [
    "encodedVariables = superheroDataFiltered.iloc[:, range(11,59)]\n",
    "\n",
    "encodedVariables.corr();"
   ],
   "metadata": {
    "collapsed": false,
    "pycharm": {
     "name": "#%%\n"
    }
   }
  },
  {
   "cell_type": "code",
   "execution_count": 27,
   "outputs": [],
   "source": [
    "encodedVariables = superheroDataFiltered.iloc[:, range(11,59)]\n",
    "\n",
    "encodedVariables.corr();"
   ],
   "metadata": {
    "collapsed": false,
    "pycharm": {
     "name": "#%%\n"
    }
   }
  },
  {
   "cell_type": "markdown",
   "source": [
    "KNN Analysis"
   ],
   "metadata": {
    "collapsed": false,
    "pycharm": {
     "name": "#%% md\n"
    }
   }
  },
  {
   "cell_type": "markdown",
   "source": [
    "Helper functions:"
   ],
   "metadata": {
    "collapsed": false,
    "pycharm": {
     "name": "#%% md\n"
    }
   }
  },
  {
   "cell_type": "code",
   "execution_count": 28,
   "outputs": [],
   "source": [
    "%%R -o test\n",
    "\n",
    "ifmissing = function(x, value)\n",
    "{\n",
    "    if(missing(x))\n",
    "      return(value)\n",
    "    else\n",
    "        return(x)\n",
    "}\n",
    "\n",
    "KNN_SetUp = function(df, categoryColumn, splitRatio, quantitativeVariableColumns)\n",
    "{\n",
    "  #do train/test split for initial model\n",
    "  split = sample.split(categoryColumn, SplitRatio = 0.7)\n",
    "\n",
    "  training_set = subset(df, split == TRUE)\n",
    "  test_set = subset(df, split == FALSE)\n",
    "\n",
    "  #scale quantitative variables to similar ranges\n",
    "  train_scale = scale(training_set[, quantitativeVariableColumns])\n",
    "  test_scale = scale(test_set[, quantitativeVariableColumns])\n",
    "\n",
    "  return(list(train_scale, test_scale, training_set, test_set, split))\n",
    "}\n",
    "\n",
    "test = KNN_SetUp(df = superheroDataFilled, categoryColumn = superheroDataFilled$creator,\n",
    "                 splitRatio = 0.7, quantitativeVariableColumns = 10:67)[[3]] %>% as.data.frame\n"
   ],
   "metadata": {
    "collapsed": false,
    "pycharm": {
     "name": "#%%\n"
    }
   }
  },
  {
   "cell_type": "markdown",
   "source": [
    "Main function"
   ],
   "metadata": {
    "collapsed": false,
    "pycharm": {
     "name": "#%% md\n"
    }
   }
  },
  {
   "cell_type": "code",
   "execution_count": 29,
   "outputs": [],
   "source": [
    "%%R -o test\n",
    "\n",
    "KNN_Analysis = function(df, category, categoryColumn, initialSplitRatio, quantitativeVariableColumns, starting_k)\n",
    "{\n",
    "\n",
    "  initialSplitRatio = ifmissing(initialSplitRatio, 0.75)\n",
    "\n",
    "  quantitativeVariableColumns = ifmissing(quantitativeVariableColumns, 10:67)\n",
    "\n",
    "  starting_k = ifmissing(starting_k, 5)\n",
    "\n",
    "  set.seed(123)\n",
    "\n",
    "  temp = KNN_SetUp(df = df, categoryColumn = categoryColumn, splitRatio = initialSplitRatio,\n",
    "                   quantitativeVariableColumns = quantitativeVariableColumns)\n",
    "  train_scale <- temp[[1]]\n",
    "  test_scale = temp[[2]]\n",
    "  training_set <- temp[[3]]\n",
    "  test_set = temp[[4]]\n",
    "\n",
    "  #find best k\n",
    "  error_k = c()\n",
    "\n",
    "  knnModels_VaryingK = vector(mode = 'list', length = 67)\n",
    "\n",
    "  for(k in c(1:67))\n",
    "  {\n",
    "    classifier_knn <- knn(train = train_scale,\n",
    "                          test = test_scale,\n",
    "                          cl <- training_set$creator,\n",
    "                          k = k)\n",
    "    error_k[k] = mean(classifier_knn != test_set$creator)\n",
    "    knnModels_VaryingK[[k]] = classifier_knn\n",
    "  }\n",
    "\n",
    "  best_k = which.min(error_k)\n",
    "\n",
    "  #find best split ratio\n",
    "  errorSplitRatio = c()\n",
    "\n",
    "  knnModels_VarySplitRatio = vector(mode = 'list', length = 99)\n",
    "\n",
    "\n",
    "  for(i in 1:99)\n",
    "  {\n",
    "    temp = KNN_SetUp(df = df, categoryColumn = categoryColumn, splitRatio = i/100,\n",
    "                     quantitativeVariableColumns = quantitativeVariableColumns)\n",
    "    train_scale = temp[[1]]\n",
    "    test_scale = temp[[2]]\n",
    "    training_set <- temp[[3]]\n",
    "    test_set = temp[[4]]\n",
    "\n",
    "    if(train_scale %>% is.na %>% sum == 0 & test_scale %>% is.na %>% sum == 0)\n",
    "    {\n",
    "      classifier_knn <- knn(train <- train_scale,\n",
    "                            test = test_scale,\n",
    "                            cl <- training_set$creator,\n",
    "                            k = best_k)\n",
    "\n",
    "      errorSplitRatio[i] = mean(classifier_knn != test_set$creator)\n",
    "      knnModels_VarySplitRatio[[i]] = classifier_knn\n",
    "    }\n",
    "  }\n",
    "\n",
    "  bestSplitRatio = which.min(errorSplitRatio)/100\n",
    "\n",
    "  best_model = knnModels_VarySplitRatio[[bestSplitRatio*100]]\n",
    "\n",
    "  confusionMatrix_bestModel = table(test_set$creator, best_model)\n",
    "\n",
    "  return(list(error_k, knnModels_VaryingK, best_k, errorSplitRatio,\n",
    "              knnModels_VarySplitRatio, bestSplitRatio, best_model, confusionMatrix_bestModel))\n",
    "\n",
    "}\n",
    "\n",
    "temp = KNN_Analysis(superheroDataFilled, categoryColumn = superheroDataFilled$creator, initialSplitRatio = 0.73, \n",
    "                    quantitativeVariableColumns = 10:67, starting_k = 24)\n"
   ],
   "metadata": {
    "collapsed": false,
    "pycharm": {
     "name": "#%%\n"
    }
   }
  },
  {
   "cell_type": "code",
   "execution_count": 30,
   "outputs": [],
   "source": [
    "%%R\n",
    "\n",
    "error_while_varying_k = temp[1] %>% unlist %>% as.data.frame %>% rename(\"error\" = '.')\n",
    "knnModels_VaryingK = temp[2]\n",
    "best_k = temp[3]\n",
    "error_while_varying_split_ratio = temp[4]%>% unlist %>% as.data.frame %>% rename(\"error\" = '.')\n",
    "knnModels_VarySplitRatio = temp[5]\n",
    "bestSplitRatio = temp[6]\n",
    "best_model = temp[7]\n",
    "confusionMatrix_bestModel = temp[8]"
   ],
   "metadata": {
    "collapsed": false,
    "pycharm": {
     "name": "#%%\n"
    }
   }
  },
  {
   "cell_type": "code",
   "execution_count": 32,
   "outputs": [
    {
     "name": "stdout",
     "output_type": "stream",
     "text": [
      "                   best_model\n",
      "                    Dark Horse Comics DC Comics George Lucas Image Comics Lego\n",
      "  Dark Horse Comics                 0         1            0            0    0\n",
      "  DC Comics                         0        24            0            0    0\n",
      "  George Lucas                      0         1            0            0    0\n",
      "  Image Comics                      0         0            0            0    0\n",
      "  Lego                              0         2            0            0    0\n",
      "  Marvel Comics                     0        40            0            0    0\n",
      "  NBC - Heroes                      0         1            0            0    0\n",
      "  Shueisha                          0         2            0            0    0\n",
      "                   best_model\n",
      "                    Marvel Comics NBC - Heroes Shueisha\n",
      "  Dark Horse Comics             7            0        0\n",
      "  DC Comics                   101            0        1\n",
      "  George Lucas                  4            0        0\n",
      "  Image Comics                  5            0        0\n",
      "  Lego                          5            0        0\n",
      "  Marvel Comics               182            0        0\n",
      "  NBC - Heroes                  4            0        0\n",
      "  Shueisha                      9            0        0\n"
     ]
    }
   ],
   "source": [
    "%%R\n",
    "bestSplitRatio\n",
    "best_k\n",
    "confusionMatrix_bestModel[[1]]"
   ],
   "metadata": {
    "collapsed": false,
    "pycharm": {
     "name": "#%%\n"
    }
   }
  },
  {
   "cell_type": "code",
   "execution_count": null,
   "metadata": {
    "pycharm": {
     "name": "#%%\n"
    }
   },
   "outputs": [],
   "source": []
  }
 ],
 "metadata": {
  "kernelspec": {
   "display_name": "Python 3 (ipykernel)",
   "language": "python",
   "name": "python3"
  },
  "language_info": {
   "codemirror_mode": {
    "name": "ipython",
    "version": 3
   },
   "file_extension": ".py",
   "mimetype": "text/x-python",
   "name": "python",
   "nbconvert_exporter": "python",
   "pygments_lexer": "ipython3",
   "version": "3.10.0"
  }
 },
 "nbformat": 4,
 "nbformat_minor": 1
}