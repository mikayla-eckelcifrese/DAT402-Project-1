{
 "cells": [
  {
   "cell_type": "code",
   "execution_count": 323,
   "metadata": {
    "collapsed": true,
    "pycharm": {
     "name": "#%%\n"
    }
   },
   "outputs": [],
   "source": [
    "import pandas as pd\n",
    "import numpy as np\n",
    "import sklearn as sk\n",
    "from sklearn.impute import KNNImputer\n",
    "from sklearn.impute import SimpleImputer"
   ]
  },
  {
   "cell_type": "markdown",
   "source": [
    "Data set source: https://www.kaggle.com/datasets/jonathanbesomi/superheroes-nlp-dataset\n",
    "Note that I did some of the data cleaning in Excel before importing the file into the Python project, so you need to load the Excel file provided, as the one downloaded directly from Kaggle won't be properly cleaned by the code below, as I wrote the code specifically for the already partially cleaned version of the data.\n",
    "\n",
    "To be specific as to how I modified the Excel file prior to importing it:\n",
    "In no particular order,\n",
    "1. I filled in many of the missing values in the gender column, specifically the ones where the name made the gender\n",
    "   obvious and/or I was familiar with the character\n",
    "2. I filled in some of the missing values for race and alignment, going by either personal knowledge of particular\n",
    "   characters, or by Googling the character\n",
    "3. Similarly for the creator column\n",
    "4. I replaced both the cells containing only \"-\" and the empty cells with cells containing \"NaN\".\n",
    "5. I put both the weight and height data into common units, i.e. I converted any meter measurements to cm and any ton measurements to kg.\n",
    "6. I deleted several of the rows that randomly contained character descriptions and no variable values, as well as empty\n",
    "   rows\n",
    "7. I deleted a few rows that contained very little information (i.e. most of the cells were blank)\n"
   ],
   "metadata": {
    "collapsed": false,
    "pycharm": {
     "name": "#%% md\n"
    }
   }
  },
  {
   "cell_type": "markdown",
   "source": [
    "Read in and clean data"
   ],
   "metadata": {
    "collapsed": false,
    "pycharm": {
     "name": "#%% md\n"
    }
   }
  },
  {
   "cell_type": "code",
   "execution_count": null,
   "outputs": [],
   "source": [
    "dropRows = [55, 76, 78, 81, 410, 481, 486, 490, 645, 653, 657, 693,\n",
    "            697, 840, 827, 830, 842, 844, 949, 950, 1059, 1063, 1077, 1079, 1081]\n",
    "#original data set had nonsense rows\n",
    "\n",
    "superheroData = \\\n",
    "    pd.read_excel(\"Superhero data.xlsx\").\\\n",
    "    drop(dropRows).\\\n",
    "    drop([\"full_name\"], axis = 1).\\\n",
    "    dropna(how = \"all\").\\\n",
    "    reset_index()#.\\\n",
    "    #drop([\"index\"], axis = 1)\n",
    "\n",
    "#Fix format of height and weight variables:\n",
    "columnLength = 1408\n",
    "\n",
    "for i in range(0, columnLength-1): #final row already has data in the correct form\n",
    "        #height data is of the form \"6'8 â€¢ 203 cm\" which would be very difficult to work with\n",
    "        #hence I'm extracting just the value in centimeters and converting to a float\n",
    "        #similar for weight\n",
    "\n",
    "        if not(str(superheroData[\"height\"][i]) == \"nan\"):\n",
    "            try:\n",
    "                superheroData[\"height\"][i] = float(str(superheroData[\"height\"][i]).split()[2])\n",
    "            except:\n",
    "                superheroData[\"height\"][i] = str(superheroData[\"height\"][i]).replace(',', '')\n",
    "                superheroData[\"height\"][i] = float(superheroData[\"height\"][i].split()[2])\n",
    "\n",
    "        if not(str(superheroData[\"weight\"][i]) == \"nan\"):\n",
    "            try:\n",
    "                superheroData[\"weight\"][i] = float(str(superheroData[\"weight\"][i]).split()[3])\n",
    "            except:\n",
    "                superheroData[\"weight\"][i] = str(superheroData[\"weight\"][i]).replace(',', '')\n",
    "                superheroData[\"weight\"][i] = float(superheroData[\"weight\"][i].split()[3])\n",
    "\n",
    "superheroData"
   ],
   "metadata": {
    "collapsed": false,
    "pycharm": {
     "name": "#%%\n",
     "is_executing": true
    }
   }
  },
  {
   "cell_type": "markdown",
   "source": [
    "Impute missing data values:"
   ],
   "metadata": {
    "collapsed": false,
    "pycharm": {
     "name": "#%% md\n"
    }
   }
  },
  {
   "cell_type": "code",
   "execution_count": null,
   "outputs": [],
   "source": [],
   "metadata": {
    "collapsed": false,
    "pycharm": {
     "name": "#%%\n"
    }
   }
  },
  {
   "cell_type": "code",
   "execution_count": 330,
   "outputs": [
    {
     "data": {
      "text/plain": "index                   0\nname                    0\nreal_name             137\nintelligence_score     16\nstrength_score         16\n                     ... \nhas_super_speed        78\nhas_durability         78\nhas_stamina            78\nhas_agility            78\nhas_super_strength     78\nLength: 68, dtype: int64"
     },
     "execution_count": 330,
     "metadata": {},
     "output_type": "execute_result"
    }
   ],
   "source": [
    "superheroData.isnull().sum()"
   ],
   "metadata": {
    "collapsed": false,
    "pycharm": {
     "name": "#%%\n"
    }
   }
  },
  {
   "cell_type": "code",
   "execution_count": null,
   "outputs": [],
   "source": [
    "quantitativeVariables = superheroData.iloc[:, [3, 4, 5, 6, 7, 8, 14, 15]]\n",
    "\n",
    "knnImputer = KNNImputer(n_neighbors = 10)\n",
    "\n",
    "quantitativeVariablesFilled = \\\n",
    "    pd.DataFrame(knnImputer.fit_transform(quantitativeVariables)).\\\n",
    "    rename(columns = {0:\"intelligence score\", 1:\"strength score\",\n",
    "                      2:\"speed score\", 3:\"durability score\",\n",
    "                      4:\"power score\", 5: \"combat score\",\n",
    "                      6:\"height (cm)\", 7:\"weight (kg)\" })\n",
    "\n",
    "quantitativeVariablesFilled"
   ],
   "metadata": {
    "collapsed": false,
    "pycharm": {
     "name": "#%%\n",
     "is_executing": true
    }
   }
  },
  {
   "cell_type": "code",
   "execution_count": 327,
   "outputs": [
    {
     "data": {
      "text/plain": "               name               real_name  \\\n0           3-D Man     Delroy Garrett, Jr.   \n1     514A (Gotham)             Bruce Wayne   \n2            A-Bomb  Richard Milhouse Jones   \n3                Aa                      Aa   \n4        Aaron Cash              Aaron Cash   \n...             ...                     ...   \n1403           Zane                    Zane   \n1404        Zatanna          Zatanna Zatara   \n1405  Zoom (New 52)          Hunter Zolomon   \n1406           Zoom          Hunter Zolomon   \n1407          Zzzax                 Unknown   \n\n                                            superpowers        creator  \\\n0                     ['Super Speed', 'Super Strength']  Marvel Comics   \n1          ['Durability', 'Reflexes', 'Super Strength']      DC Comics   \n2     ['Accelerated Healing', 'Agility', 'Berserk Mo...  Marvel Comics   \n3     ['Energy Absorption', 'Energy Armor', 'Energy ...      DC Comics   \n4             ['weapon based Powers', 'Weapons Master']      DC Comics   \n...                                                 ...            ...   \n1403  ['Agility', 'Animal Control', 'Cold Resistance...  Marvel Comics   \n1404  ['Cryokinesis', 'Fire Control', 'Magic', 'Prob...      DC Comics   \n1405  ['Accelerated Healing', 'Agility', 'Durability...      DC Comics   \n1406  ['Intangibility', 'Super Speed', 'Time Manipul...      DC Comics   \n1407  ['Absorption', 'Agility', 'Electrokinesis', 'E...  Marvel Comics   \n\n     alignment  gender  type_race eye_color hair_color has_electrokinesis  \\\n0         Good    Male      Human      Blue      Black                  0   \n1         Good    Male      Human      Blue      Black                  0   \n2         Good    Male      Human    Yellow    No Hair                  0   \n3         Good    Male      Human      Blue      Black                  0   \n4         Good    Male      Human      Blue      Black                  0   \n...        ...     ...        ...       ...        ...                ...   \n1403      Good    Male    Android      Blue      White                  0   \n1404      Good  Female      Human      Blue      Black                  0   \n1405       Bad    Male  Metahuman       Red      Brown                  1   \n1406       Bad    Male  Metahuman       Red      Brown                  0   \n1407       Bad    Male   Humanoid   No eyes    No Hair                  1   \n\n      ... has_flight has_accelerated_healing has_weapons_master  \\\n0     ...          0                       0                  0   \n1     ...          0                       0                  0   \n2     ...          0                       1                  0   \n3     ...          0                       0                  0   \n4     ...          0                       0                  1   \n...   ...        ...                     ...                ...   \n1403  ...          1                       0                  1   \n1404  ...          0                       0                  0   \n1405  ...          0                       1                  0   \n1406  ...          0                       0                  0   \n1407  ...          1                       0                  0   \n\n     has_intelligence has_reflexes has_super_speed has_durability has_stamina  \\\n0                   0            0               1              0           0   \n1                   0            1               0              1           0   \n2                   0            1               1              1           1   \n3                   0            0               0              0           0   \n4                   0            0               0              0           0   \n...               ...          ...             ...            ...         ...   \n1403                1            1               0              1           1   \n1404                0            0               0              0           0   \n1405                1            1               1              1           1   \n1406                0            0               1              0           0   \n1407                0            0               1              0           0   \n\n     has_agility has_super_strength  \n0              0                  1  \n1              0                  1  \n2              1                  1  \n3              0                  0  \n4              0                  0  \n...          ...                ...  \n1403           1                  1  \n1404           0                  0  \n1405           1                  1  \n1406           0                  0  \n1407           1                  1  \n\n[1408 rows x 59 columns]",
      "text/html": "<div>\n<style scoped>\n    .dataframe tbody tr th:only-of-type {\n        vertical-align: middle;\n    }\n\n    .dataframe tbody tr th {\n        vertical-align: top;\n    }\n\n    .dataframe thead th {\n        text-align: right;\n    }\n</style>\n<table border=\"1\" class=\"dataframe\">\n  <thead>\n    <tr style=\"text-align: right;\">\n      <th></th>\n      <th>name</th>\n      <th>real_name</th>\n      <th>superpowers</th>\n      <th>creator</th>\n      <th>alignment</th>\n      <th>gender</th>\n      <th>type_race</th>\n      <th>eye_color</th>\n      <th>hair_color</th>\n      <th>has_electrokinesis</th>\n      <th>...</th>\n      <th>has_flight</th>\n      <th>has_accelerated_healing</th>\n      <th>has_weapons_master</th>\n      <th>has_intelligence</th>\n      <th>has_reflexes</th>\n      <th>has_super_speed</th>\n      <th>has_durability</th>\n      <th>has_stamina</th>\n      <th>has_agility</th>\n      <th>has_super_strength</th>\n    </tr>\n  </thead>\n  <tbody>\n    <tr>\n      <th>0</th>\n      <td>3-D Man</td>\n      <td>Delroy Garrett, Jr.</td>\n      <td>['Super Speed', 'Super Strength']</td>\n      <td>Marvel Comics</td>\n      <td>Good</td>\n      <td>Male</td>\n      <td>Human</td>\n      <td>Blue</td>\n      <td>Black</td>\n      <td>0</td>\n      <td>...</td>\n      <td>0</td>\n      <td>0</td>\n      <td>0</td>\n      <td>0</td>\n      <td>0</td>\n      <td>1</td>\n      <td>0</td>\n      <td>0</td>\n      <td>0</td>\n      <td>1</td>\n    </tr>\n    <tr>\n      <th>1</th>\n      <td>514A (Gotham)</td>\n      <td>Bruce Wayne</td>\n      <td>['Durability', 'Reflexes', 'Super Strength']</td>\n      <td>DC Comics</td>\n      <td>Good</td>\n      <td>Male</td>\n      <td>Human</td>\n      <td>Blue</td>\n      <td>Black</td>\n      <td>0</td>\n      <td>...</td>\n      <td>0</td>\n      <td>0</td>\n      <td>0</td>\n      <td>0</td>\n      <td>1</td>\n      <td>0</td>\n      <td>1</td>\n      <td>0</td>\n      <td>0</td>\n      <td>1</td>\n    </tr>\n    <tr>\n      <th>2</th>\n      <td>A-Bomb</td>\n      <td>Richard Milhouse Jones</td>\n      <td>['Accelerated Healing', 'Agility', 'Berserk Mo...</td>\n      <td>Marvel Comics</td>\n      <td>Good</td>\n      <td>Male</td>\n      <td>Human</td>\n      <td>Yellow</td>\n      <td>No Hair</td>\n      <td>0</td>\n      <td>...</td>\n      <td>0</td>\n      <td>1</td>\n      <td>0</td>\n      <td>0</td>\n      <td>1</td>\n      <td>1</td>\n      <td>1</td>\n      <td>1</td>\n      <td>1</td>\n      <td>1</td>\n    </tr>\n    <tr>\n      <th>3</th>\n      <td>Aa</td>\n      <td>Aa</td>\n      <td>['Energy Absorption', 'Energy Armor', 'Energy ...</td>\n      <td>DC Comics</td>\n      <td>Good</td>\n      <td>Male</td>\n      <td>Human</td>\n      <td>Blue</td>\n      <td>Black</td>\n      <td>0</td>\n      <td>...</td>\n      <td>0</td>\n      <td>0</td>\n      <td>0</td>\n      <td>0</td>\n      <td>0</td>\n      <td>0</td>\n      <td>0</td>\n      <td>0</td>\n      <td>0</td>\n      <td>0</td>\n    </tr>\n    <tr>\n      <th>4</th>\n      <td>Aaron Cash</td>\n      <td>Aaron Cash</td>\n      <td>['weapon based Powers', 'Weapons Master']</td>\n      <td>DC Comics</td>\n      <td>Good</td>\n      <td>Male</td>\n      <td>Human</td>\n      <td>Blue</td>\n      <td>Black</td>\n      <td>0</td>\n      <td>...</td>\n      <td>0</td>\n      <td>0</td>\n      <td>1</td>\n      <td>0</td>\n      <td>0</td>\n      <td>0</td>\n      <td>0</td>\n      <td>0</td>\n      <td>0</td>\n      <td>0</td>\n    </tr>\n    <tr>\n      <th>...</th>\n      <td>...</td>\n      <td>...</td>\n      <td>...</td>\n      <td>...</td>\n      <td>...</td>\n      <td>...</td>\n      <td>...</td>\n      <td>...</td>\n      <td>...</td>\n      <td>...</td>\n      <td>...</td>\n      <td>...</td>\n      <td>...</td>\n      <td>...</td>\n      <td>...</td>\n      <td>...</td>\n      <td>...</td>\n      <td>...</td>\n      <td>...</td>\n      <td>...</td>\n      <td>...</td>\n    </tr>\n    <tr>\n      <th>1403</th>\n      <td>Zane</td>\n      <td>Zane</td>\n      <td>['Agility', 'Animal Control', 'Cold Resistance...</td>\n      <td>Marvel Comics</td>\n      <td>Good</td>\n      <td>Male</td>\n      <td>Android</td>\n      <td>Blue</td>\n      <td>White</td>\n      <td>0</td>\n      <td>...</td>\n      <td>1</td>\n      <td>0</td>\n      <td>1</td>\n      <td>1</td>\n      <td>1</td>\n      <td>0</td>\n      <td>1</td>\n      <td>1</td>\n      <td>1</td>\n      <td>1</td>\n    </tr>\n    <tr>\n      <th>1404</th>\n      <td>Zatanna</td>\n      <td>Zatanna Zatara</td>\n      <td>['Cryokinesis', 'Fire Control', 'Magic', 'Prob...</td>\n      <td>DC Comics</td>\n      <td>Good</td>\n      <td>Female</td>\n      <td>Human</td>\n      <td>Blue</td>\n      <td>Black</td>\n      <td>0</td>\n      <td>...</td>\n      <td>0</td>\n      <td>0</td>\n      <td>0</td>\n      <td>0</td>\n      <td>0</td>\n      <td>0</td>\n      <td>0</td>\n      <td>0</td>\n      <td>0</td>\n      <td>0</td>\n    </tr>\n    <tr>\n      <th>1405</th>\n      <td>Zoom (New 52)</td>\n      <td>Hunter Zolomon</td>\n      <td>['Accelerated Healing', 'Agility', 'Durability...</td>\n      <td>DC Comics</td>\n      <td>Bad</td>\n      <td>Male</td>\n      <td>Metahuman</td>\n      <td>Red</td>\n      <td>Brown</td>\n      <td>1</td>\n      <td>...</td>\n      <td>0</td>\n      <td>1</td>\n      <td>0</td>\n      <td>1</td>\n      <td>1</td>\n      <td>1</td>\n      <td>1</td>\n      <td>1</td>\n      <td>1</td>\n      <td>1</td>\n    </tr>\n    <tr>\n      <th>1406</th>\n      <td>Zoom</td>\n      <td>Hunter Zolomon</td>\n      <td>['Intangibility', 'Super Speed', 'Time Manipul...</td>\n      <td>DC Comics</td>\n      <td>Bad</td>\n      <td>Male</td>\n      <td>Metahuman</td>\n      <td>Red</td>\n      <td>Brown</td>\n      <td>0</td>\n      <td>...</td>\n      <td>0</td>\n      <td>0</td>\n      <td>0</td>\n      <td>0</td>\n      <td>0</td>\n      <td>1</td>\n      <td>0</td>\n      <td>0</td>\n      <td>0</td>\n      <td>0</td>\n    </tr>\n    <tr>\n      <th>1407</th>\n      <td>Zzzax</td>\n      <td>Unknown</td>\n      <td>['Absorption', 'Agility', 'Electrokinesis', 'E...</td>\n      <td>Marvel Comics</td>\n      <td>Bad</td>\n      <td>Male</td>\n      <td>Humanoid</td>\n      <td>No eyes</td>\n      <td>No Hair</td>\n      <td>1</td>\n      <td>...</td>\n      <td>1</td>\n      <td>0</td>\n      <td>0</td>\n      <td>0</td>\n      <td>0</td>\n      <td>1</td>\n      <td>0</td>\n      <td>0</td>\n      <td>1</td>\n      <td>1</td>\n    </tr>\n  </tbody>\n</table>\n<p>1408 rows × 59 columns</p>\n</div>"
     },
     "execution_count": 327,
     "metadata": {},
     "output_type": "execute_result"
    }
   ],
   "source": [
    "temp = [i for i in range(16, 68)]\n",
    "\n",
    "categoricalVariables = superheroData.iloc[:, [1, 2, 9, 10, 11, 12, 13] + temp]\n",
    "\n",
    "simpleImputer = SimpleImputer(strategy = \"most_frequent\")\n",
    "\n",
    "categoricalVariablesFilled = pd.DataFrame(simpleImputer.fit_transform(categoricalVariables))\n",
    "\n",
    "categoricalVariablesFilled.columns = categoricalVariables.columns\n",
    "\n",
    "categoricalVariablesFilled"
   ],
   "metadata": {
    "collapsed": false,
    "pycharm": {
     "name": "#%%\n"
    }
   }
  },
  {
   "cell_type": "code",
   "execution_count": 329,
   "outputs": [
    {
     "data": {
      "text/plain": "               name               real_name  \\\n0           3-D Man     Delroy Garrett, Jr.   \n1     514A (Gotham)             Bruce Wayne   \n2            A-Bomb  Richard Milhouse Jones   \n3                Aa                      Aa   \n4        Aaron Cash              Aaron Cash   \n...             ...                     ...   \n1403           Zane                    Zane   \n1404        Zatanna          Zatanna Zatara   \n1405  Zoom (New 52)          Hunter Zolomon   \n1406           Zoom          Hunter Zolomon   \n1407          Zzzax                 Unknown   \n\n                                            superpowers        creator  \\\n0                     ['Super Speed', 'Super Strength']  Marvel Comics   \n1          ['Durability', 'Reflexes', 'Super Strength']      DC Comics   \n2     ['Accelerated Healing', 'Agility', 'Berserk Mo...  Marvel Comics   \n3     ['Energy Absorption', 'Energy Armor', 'Energy ...      DC Comics   \n4             ['weapon based Powers', 'Weapons Master']      DC Comics   \n...                                                 ...            ...   \n1403  ['Agility', 'Animal Control', 'Cold Resistance...  Marvel Comics   \n1404  ['Cryokinesis', 'Fire Control', 'Magic', 'Prob...      DC Comics   \n1405  ['Accelerated Healing', 'Agility', 'Durability...      DC Comics   \n1406  ['Intangibility', 'Super Speed', 'Time Manipul...      DC Comics   \n1407  ['Absorption', 'Agility', 'Electrokinesis', 'E...  Marvel Comics   \n\n     alignment  gender  type_race eye_color hair_color has_electrokinesis  \\\n0         Good    Male      Human      Blue      Black                  0   \n1         Good    Male      Human      Blue      Black                  0   \n2         Good    Male      Human    Yellow    No Hair                  0   \n3         Good    Male      Human      Blue      Black                  0   \n4         Good    Male      Human      Blue      Black                  0   \n...        ...     ...        ...       ...        ...                ...   \n1403      Good    Male    Android      Blue      White                  0   \n1404      Good  Female      Human      Blue      Black                  0   \n1405       Bad    Male  Metahuman       Red      Brown                  1   \n1406       Bad    Male  Metahuman       Red      Brown                  0   \n1407       Bad    Male   Humanoid   No eyes    No Hair                  1   \n\n      ... has_agility has_super_strength intelligence_score strength_score  \\\n0     ...           0                  1                 85             30   \n1     ...           0                  1                100             20   \n2     ...           1                  1                 80            100   \n3     ...           0                  0                 80             50   \n4     ...           0                  0                 80             10   \n...   ...         ...                ...                ...            ...   \n1403  ...           1                  1                100             35   \n1404  ...           0                  0                 90             10   \n1405  ...           1                  1                 95             50   \n1406  ...           0                  0                 75             10   \n1407  ...           1                  1                 45             80   \n\n     speed_score durability_score power_score combat_score height weight  \n0             60               60          40           70    NaN    NaN  \n1             30               50          35          100    NaN    NaN  \n2             80              100         100           80  203.0  441.0  \n3             55               45         100           55    NaN    NaN  \n4             25               40          30           50    NaN    NaN  \n...          ...              ...         ...          ...    ...    ...  \n1403          50               60         100          100  168.0   45.0  \n1404          25               30         100           55  170.0   57.0  \n1405         100               75         100           80  185.0   81.0  \n1406         100               30         100           30  185.0   81.0  \n1407          75               95          80           50   1220      0  \n\n[1408 rows x 67 columns]",
      "text/html": "<div>\n<style scoped>\n    .dataframe tbody tr th:only-of-type {\n        vertical-align: middle;\n    }\n\n    .dataframe tbody tr th {\n        vertical-align: top;\n    }\n\n    .dataframe thead th {\n        text-align: right;\n    }\n</style>\n<table border=\"1\" class=\"dataframe\">\n  <thead>\n    <tr style=\"text-align: right;\">\n      <th></th>\n      <th>name</th>\n      <th>real_name</th>\n      <th>superpowers</th>\n      <th>creator</th>\n      <th>alignment</th>\n      <th>gender</th>\n      <th>type_race</th>\n      <th>eye_color</th>\n      <th>hair_color</th>\n      <th>has_electrokinesis</th>\n      <th>...</th>\n      <th>has_agility</th>\n      <th>has_super_strength</th>\n      <th>intelligence_score</th>\n      <th>strength_score</th>\n      <th>speed_score</th>\n      <th>durability_score</th>\n      <th>power_score</th>\n      <th>combat_score</th>\n      <th>height</th>\n      <th>weight</th>\n    </tr>\n  </thead>\n  <tbody>\n    <tr>\n      <th>0</th>\n      <td>3-D Man</td>\n      <td>Delroy Garrett, Jr.</td>\n      <td>['Super Speed', 'Super Strength']</td>\n      <td>Marvel Comics</td>\n      <td>Good</td>\n      <td>Male</td>\n      <td>Human</td>\n      <td>Blue</td>\n      <td>Black</td>\n      <td>0</td>\n      <td>...</td>\n      <td>0</td>\n      <td>1</td>\n      <td>85</td>\n      <td>30</td>\n      <td>60</td>\n      <td>60</td>\n      <td>40</td>\n      <td>70</td>\n      <td>NaN</td>\n      <td>NaN</td>\n    </tr>\n    <tr>\n      <th>1</th>\n      <td>514A (Gotham)</td>\n      <td>Bruce Wayne</td>\n      <td>['Durability', 'Reflexes', 'Super Strength']</td>\n      <td>DC Comics</td>\n      <td>Good</td>\n      <td>Male</td>\n      <td>Human</td>\n      <td>Blue</td>\n      <td>Black</td>\n      <td>0</td>\n      <td>...</td>\n      <td>0</td>\n      <td>1</td>\n      <td>100</td>\n      <td>20</td>\n      <td>30</td>\n      <td>50</td>\n      <td>35</td>\n      <td>100</td>\n      <td>NaN</td>\n      <td>NaN</td>\n    </tr>\n    <tr>\n      <th>2</th>\n      <td>A-Bomb</td>\n      <td>Richard Milhouse Jones</td>\n      <td>['Accelerated Healing', 'Agility', 'Berserk Mo...</td>\n      <td>Marvel Comics</td>\n      <td>Good</td>\n      <td>Male</td>\n      <td>Human</td>\n      <td>Yellow</td>\n      <td>No Hair</td>\n      <td>0</td>\n      <td>...</td>\n      <td>1</td>\n      <td>1</td>\n      <td>80</td>\n      <td>100</td>\n      <td>80</td>\n      <td>100</td>\n      <td>100</td>\n      <td>80</td>\n      <td>203.0</td>\n      <td>441.0</td>\n    </tr>\n    <tr>\n      <th>3</th>\n      <td>Aa</td>\n      <td>Aa</td>\n      <td>['Energy Absorption', 'Energy Armor', 'Energy ...</td>\n      <td>DC Comics</td>\n      <td>Good</td>\n      <td>Male</td>\n      <td>Human</td>\n      <td>Blue</td>\n      <td>Black</td>\n      <td>0</td>\n      <td>...</td>\n      <td>0</td>\n      <td>0</td>\n      <td>80</td>\n      <td>50</td>\n      <td>55</td>\n      <td>45</td>\n      <td>100</td>\n      <td>55</td>\n      <td>NaN</td>\n      <td>NaN</td>\n    </tr>\n    <tr>\n      <th>4</th>\n      <td>Aaron Cash</td>\n      <td>Aaron Cash</td>\n      <td>['weapon based Powers', 'Weapons Master']</td>\n      <td>DC Comics</td>\n      <td>Good</td>\n      <td>Male</td>\n      <td>Human</td>\n      <td>Blue</td>\n      <td>Black</td>\n      <td>0</td>\n      <td>...</td>\n      <td>0</td>\n      <td>0</td>\n      <td>80</td>\n      <td>10</td>\n      <td>25</td>\n      <td>40</td>\n      <td>30</td>\n      <td>50</td>\n      <td>NaN</td>\n      <td>NaN</td>\n    </tr>\n    <tr>\n      <th>...</th>\n      <td>...</td>\n      <td>...</td>\n      <td>...</td>\n      <td>...</td>\n      <td>...</td>\n      <td>...</td>\n      <td>...</td>\n      <td>...</td>\n      <td>...</td>\n      <td>...</td>\n      <td>...</td>\n      <td>...</td>\n      <td>...</td>\n      <td>...</td>\n      <td>...</td>\n      <td>...</td>\n      <td>...</td>\n      <td>...</td>\n      <td>...</td>\n      <td>...</td>\n      <td>...</td>\n    </tr>\n    <tr>\n      <th>1403</th>\n      <td>Zane</td>\n      <td>Zane</td>\n      <td>['Agility', 'Animal Control', 'Cold Resistance...</td>\n      <td>Marvel Comics</td>\n      <td>Good</td>\n      <td>Male</td>\n      <td>Android</td>\n      <td>Blue</td>\n      <td>White</td>\n      <td>0</td>\n      <td>...</td>\n      <td>1</td>\n      <td>1</td>\n      <td>100</td>\n      <td>35</td>\n      <td>50</td>\n      <td>60</td>\n      <td>100</td>\n      <td>100</td>\n      <td>168.0</td>\n      <td>45.0</td>\n    </tr>\n    <tr>\n      <th>1404</th>\n      <td>Zatanna</td>\n      <td>Zatanna Zatara</td>\n      <td>['Cryokinesis', 'Fire Control', 'Magic', 'Prob...</td>\n      <td>DC Comics</td>\n      <td>Good</td>\n      <td>Female</td>\n      <td>Human</td>\n      <td>Blue</td>\n      <td>Black</td>\n      <td>0</td>\n      <td>...</td>\n      <td>0</td>\n      <td>0</td>\n      <td>90</td>\n      <td>10</td>\n      <td>25</td>\n      <td>30</td>\n      <td>100</td>\n      <td>55</td>\n      <td>170.0</td>\n      <td>57.0</td>\n    </tr>\n    <tr>\n      <th>1405</th>\n      <td>Zoom (New 52)</td>\n      <td>Hunter Zolomon</td>\n      <td>['Accelerated Healing', 'Agility', 'Durability...</td>\n      <td>DC Comics</td>\n      <td>Bad</td>\n      <td>Male</td>\n      <td>Metahuman</td>\n      <td>Red</td>\n      <td>Brown</td>\n      <td>1</td>\n      <td>...</td>\n      <td>1</td>\n      <td>1</td>\n      <td>95</td>\n      <td>50</td>\n      <td>100</td>\n      <td>75</td>\n      <td>100</td>\n      <td>80</td>\n      <td>185.0</td>\n      <td>81.0</td>\n    </tr>\n    <tr>\n      <th>1406</th>\n      <td>Zoom</td>\n      <td>Hunter Zolomon</td>\n      <td>['Intangibility', 'Super Speed', 'Time Manipul...</td>\n      <td>DC Comics</td>\n      <td>Bad</td>\n      <td>Male</td>\n      <td>Metahuman</td>\n      <td>Red</td>\n      <td>Brown</td>\n      <td>0</td>\n      <td>...</td>\n      <td>0</td>\n      <td>0</td>\n      <td>75</td>\n      <td>10</td>\n      <td>100</td>\n      <td>30</td>\n      <td>100</td>\n      <td>30</td>\n      <td>185.0</td>\n      <td>81.0</td>\n    </tr>\n    <tr>\n      <th>1407</th>\n      <td>Zzzax</td>\n      <td>Unknown</td>\n      <td>['Absorption', 'Agility', 'Electrokinesis', 'E...</td>\n      <td>Marvel Comics</td>\n      <td>Bad</td>\n      <td>Male</td>\n      <td>Humanoid</td>\n      <td>No eyes</td>\n      <td>No Hair</td>\n      <td>1</td>\n      <td>...</td>\n      <td>1</td>\n      <td>1</td>\n      <td>45</td>\n      <td>80</td>\n      <td>75</td>\n      <td>95</td>\n      <td>80</td>\n      <td>50</td>\n      <td>1220</td>\n      <td>0</td>\n    </tr>\n  </tbody>\n</table>\n<p>1408 rows × 67 columns</p>\n</div>"
     },
     "execution_count": 329,
     "metadata": {},
     "output_type": "execute_result"
    }
   ],
   "source": [
    "superheroDataFilled = pd.concat([categoricalVariablesFilled, quantitativeVariables], axis = 1)\n",
    "superheroDataFilled"
   ],
   "metadata": {
    "collapsed": false,
    "pycharm": {
     "name": "#%%\n"
    }
   }
  },
  {
   "cell_type": "code",
   "execution_count": 334,
   "outputs": [
    {
     "data": {
      "text/plain": "['[',\n \"'\",\n 'D',\n 'u',\n 'r',\n 'a',\n 'b',\n 'i',\n 'l',\n 'i',\n 't',\n 'y',\n \"'\",\n ',',\n ' ',\n \"'\",\n 'R',\n 'e',\n 'f',\n 'l',\n 'e',\n 'x',\n 'e',\n 's',\n \"'\",\n ',',\n ' ',\n \"'\",\n 'S',\n 'u',\n 'p',\n 'e',\n 'r',\n ' ',\n 'S',\n 't',\n 'r',\n 'e',\n 'n',\n 'g',\n 't',\n 'h',\n \"'\",\n ']']"
     },
     "execution_count": 334,
     "metadata": {},
     "output_type": "execute_result"
    }
   ],
   "source": [
    "list(superheroDataFilled[\"superpowers\"][1])"
   ],
   "metadata": {
    "collapsed": false,
    "pycharm": {
     "name": "#%%\n"
    }
   }
  },
  {
   "cell_type": "code",
   "execution_count": null,
   "outputs": [],
   "source": [],
   "metadata": {
    "collapsed": false,
    "pycharm": {
     "name": "#%%\n"
    }
   }
  }
 ],
 "metadata": {
  "kernelspec": {
   "display_name": "Python 3",
   "language": "python",
   "name": "python3"
  },
  "language_info": {
   "codemirror_mode": {
    "name": "ipython",
    "version": 2
   },
   "file_extension": ".py",
   "mimetype": "text/x-python",
   "name": "python",
   "nbconvert_exporter": "python",
   "pygments_lexer": "ipython2",
   "version": "2.7.6"
  }
 },
 "nbformat": 4,
 "nbformat_minor": 0
}