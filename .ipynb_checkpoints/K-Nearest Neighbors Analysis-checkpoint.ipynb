{
 "cells": [
  {
   "cell_type": "markdown",
   "metadata": {
    "pycharm": {
     "name": "#%% md\n"
    }
   },
   "source": [
    "Data source: https://www.kaggle.com/datasets/jonathanbesomi/superheroes-nlp-dataset\n",
    "\n",
    "Note that I did some of the data cleaning in Excel before importing the file into the Python project, so you need to load the Excel file provided, as the one downloaded directly from Kaggle won't be properly cleaned by the code below, as I wrote the code specifically for the already partially cleaned version of the data.\n",
    "\n",
    "To be specific as to how I modified the Excel file prior to importing it:\n",
    "In no particular order,\n",
    "1. I filled in many of the missing values in the gender column, specifically the ones where the name made the gender\n",
    "   obvious and/or I was familiar with the character\n",
    "2. I filled in some of the missing values for race and alignment, going by either personal knowledge of particular\n",
    "   characters, or by Googling the character\n",
    "3. Similarly for the creator column\n",
    "4. I replaced both the cells containing only \"-\" and the empty cells with cells containing \"NaN\".\n",
    "5. I put both the weight and height data into common units, i.e. I converted any meter measurements to cm and any ton measurements to kg.\n",
    "6. I deleted several of the rows that randomly contained character descriptions and no variable values, as well as empty\n",
    "   rows\n",
    "7. I deleted a few rows that contained very little information (i.e. most of the cells were blank)"
   ]
  },
  {
   "cell_type": "code",
   "execution_count": null,
   "metadata": {
    "pycharm": {
     "name": "#%%\n",
     "is_executing": true
    }
   },
   "outputs": [],
   "source": [
    "import pandas as pd\n",
    "pd.options.mode.chained_assignment = None\n",
    "\n",
    "from pandas_profiling import ProfileReport\n",
    "\n",
    "import numpy as np\n",
    "import sklearn as sk\n",
    "from sklearn.impute import KNNImputer\n",
    "from sklearn.impute import SimpleImputer\n",
    "import matplotlib.pyplot as plt\n",
    "import seaborn as sns\n",
    "import plotly.express as px\n",
    "\n",
    "%load_ext rpy2.ipython"
   ]
  },
  {
   "cell_type": "code",
   "execution_count": 4,
   "metadata": {
    "pycharm": {
     "name": "#%%\n"
    }
   },
   "outputs": [],
   "source": [
    "%%R\n",
    "library(dplyr)\n",
    "library(ggplot2)\n",
    "\n",
    "library(e1071)\n",
    "library(caTools)\n",
    "library(class)"
   ]
  },
  {
   "cell_type": "markdown",
   "metadata": {
    "pycharm": {
     "name": "#%% md\n"
    }
   },
   "source": [
    "Read in and clean data"
   ]
  },
  {
   "cell_type": "code",
   "execution_count": 6,
   "metadata": {
    "pycharm": {
     "name": "#%%\n"
    }
   },
   "outputs": [
    {
     "ename": "FileNotFoundError",
     "evalue": "[Errno 2] No such file or directory: 'superhero data.xlsx'",
     "output_type": "error",
     "traceback": [
      "\u001B[1;31m---------------------------------------------------------------------------\u001B[0m",
      "\u001B[1;31mFileNotFoundError\u001B[0m                         Traceback (most recent call last)",
      "Cell \u001B[1;32mIn [6], line 6\u001B[0m\n\u001B[0;32m      1\u001B[0m dropRows \u001B[38;5;241m=\u001B[39m [\u001B[38;5;241m55\u001B[39m, \u001B[38;5;241m76\u001B[39m, \u001B[38;5;241m78\u001B[39m, \u001B[38;5;241m81\u001B[39m, \u001B[38;5;241m410\u001B[39m, \u001B[38;5;241m481\u001B[39m, \u001B[38;5;241m486\u001B[39m, \u001B[38;5;241m490\u001B[39m, \u001B[38;5;241m645\u001B[39m, \u001B[38;5;241m653\u001B[39m, \u001B[38;5;241m657\u001B[39m, \u001B[38;5;241m693\u001B[39m,\n\u001B[0;32m      2\u001B[0m             \u001B[38;5;241m697\u001B[39m, \u001B[38;5;241m840\u001B[39m, \u001B[38;5;241m827\u001B[39m, \u001B[38;5;241m830\u001B[39m, \u001B[38;5;241m842\u001B[39m, \u001B[38;5;241m844\u001B[39m, \u001B[38;5;241m949\u001B[39m, \u001B[38;5;241m950\u001B[39m, \u001B[38;5;241m1059\u001B[39m, \u001B[38;5;241m1063\u001B[39m, \u001B[38;5;241m1077\u001B[39m, \u001B[38;5;241m1079\u001B[39m, \u001B[38;5;241m1081\u001B[39m]\n\u001B[0;32m      3\u001B[0m \u001B[38;5;66;03m#original data set had nonsense rows\u001B[39;00m\n\u001B[0;32m      5\u001B[0m superheroData \u001B[38;5;241m=\u001B[39m \\\n\u001B[1;32m----> 6\u001B[0m     \u001B[43mpd\u001B[49m\u001B[38;5;241;43m.\u001B[39;49m\u001B[43mread_excel\u001B[49m\u001B[43m(\u001B[49m\u001B[38;5;124;43m'\u001B[39;49m\u001B[38;5;124;43msuperhero data.xlsx\u001B[39;49m\u001B[38;5;124;43m'\u001B[39;49m\u001B[43m)\u001B[49m\u001B[38;5;241m.\u001B[39m\\\n\u001B[0;32m      7\u001B[0m     drop(dropRows)\u001B[38;5;241m.\u001B[39m\\\n\u001B[0;32m      8\u001B[0m     drop([\u001B[38;5;124m\"\u001B[39m\u001B[38;5;124mfull_name\u001B[39m\u001B[38;5;124m\"\u001B[39m], axis \u001B[38;5;241m=\u001B[39m \u001B[38;5;241m1\u001B[39m)\u001B[38;5;241m.\u001B[39m\\\n\u001B[0;32m      9\u001B[0m     dropna(how \u001B[38;5;241m=\u001B[39m \u001B[38;5;124m\"\u001B[39m\u001B[38;5;124mall\u001B[39m\u001B[38;5;124m\"\u001B[39m)\u001B[38;5;241m.\u001B[39m\\\n\u001B[0;32m     10\u001B[0m     reset_index()\u001B[38;5;66;03m#.\\\u001B[39;00m\n\u001B[0;32m     11\u001B[0m     \u001B[38;5;66;03m#drop([\"index\"], axis = 1)\u001B[39;00m\n\u001B[0;32m     12\u001B[0m \n\u001B[0;32m     13\u001B[0m \u001B[38;5;66;03m#Fix format of height and weight variables:\u001B[39;00m\n\u001B[0;32m     14\u001B[0m columnLength \u001B[38;5;241m=\u001B[39m \u001B[38;5;241m1408\u001B[39m\n",
      "File \u001B[1;32m~\\PycharmProjects\\pythonProject1\\lib\\site-packages\\pandas\\util\\_decorators.py:211\u001B[0m, in \u001B[0;36mdeprecate_kwarg.<locals>._deprecate_kwarg.<locals>.wrapper\u001B[1;34m(*args, **kwargs)\u001B[0m\n\u001B[0;32m    209\u001B[0m     \u001B[38;5;28;01melse\u001B[39;00m:\n\u001B[0;32m    210\u001B[0m         kwargs[new_arg_name] \u001B[38;5;241m=\u001B[39m new_arg_value\n\u001B[1;32m--> 211\u001B[0m \u001B[38;5;28;01mreturn\u001B[39;00m func(\u001B[38;5;241m*\u001B[39margs, \u001B[38;5;241m*\u001B[39m\u001B[38;5;241m*\u001B[39mkwargs)\n",
      "File \u001B[1;32m~\\PycharmProjects\\pythonProject1\\lib\\site-packages\\pandas\\util\\_decorators.py:331\u001B[0m, in \u001B[0;36mdeprecate_nonkeyword_arguments.<locals>.decorate.<locals>.wrapper\u001B[1;34m(*args, **kwargs)\u001B[0m\n\u001B[0;32m    325\u001B[0m \u001B[38;5;28;01mif\u001B[39;00m \u001B[38;5;28mlen\u001B[39m(args) \u001B[38;5;241m>\u001B[39m num_allow_args:\n\u001B[0;32m    326\u001B[0m     warnings\u001B[38;5;241m.\u001B[39mwarn(\n\u001B[0;32m    327\u001B[0m         msg\u001B[38;5;241m.\u001B[39mformat(arguments\u001B[38;5;241m=\u001B[39m_format_argument_list(allow_args)),\n\u001B[0;32m    328\u001B[0m         \u001B[38;5;167;01mFutureWarning\u001B[39;00m,\n\u001B[0;32m    329\u001B[0m         stacklevel\u001B[38;5;241m=\u001B[39mfind_stack_level(),\n\u001B[0;32m    330\u001B[0m     )\n\u001B[1;32m--> 331\u001B[0m \u001B[38;5;28;01mreturn\u001B[39;00m func(\u001B[38;5;241m*\u001B[39margs, \u001B[38;5;241m*\u001B[39m\u001B[38;5;241m*\u001B[39mkwargs)\n",
      "File \u001B[1;32m~\\PycharmProjects\\pythonProject1\\lib\\site-packages\\pandas\\io\\excel\\_base.py:482\u001B[0m, in \u001B[0;36mread_excel\u001B[1;34m(io, sheet_name, header, names, index_col, usecols, squeeze, dtype, engine, converters, true_values, false_values, skiprows, nrows, na_values, keep_default_na, na_filter, verbose, parse_dates, date_parser, thousands, decimal, comment, skipfooter, convert_float, mangle_dupe_cols, storage_options)\u001B[0m\n\u001B[0;32m    480\u001B[0m \u001B[38;5;28;01mif\u001B[39;00m \u001B[38;5;129;01mnot\u001B[39;00m \u001B[38;5;28misinstance\u001B[39m(io, ExcelFile):\n\u001B[0;32m    481\u001B[0m     should_close \u001B[38;5;241m=\u001B[39m \u001B[38;5;28;01mTrue\u001B[39;00m\n\u001B[1;32m--> 482\u001B[0m     io \u001B[38;5;241m=\u001B[39m \u001B[43mExcelFile\u001B[49m\u001B[43m(\u001B[49m\u001B[43mio\u001B[49m\u001B[43m,\u001B[49m\u001B[43m \u001B[49m\u001B[43mstorage_options\u001B[49m\u001B[38;5;241;43m=\u001B[39;49m\u001B[43mstorage_options\u001B[49m\u001B[43m,\u001B[49m\u001B[43m \u001B[49m\u001B[43mengine\u001B[49m\u001B[38;5;241;43m=\u001B[39;49m\u001B[43mengine\u001B[49m\u001B[43m)\u001B[49m\n\u001B[0;32m    483\u001B[0m \u001B[38;5;28;01melif\u001B[39;00m engine \u001B[38;5;129;01mand\u001B[39;00m engine \u001B[38;5;241m!=\u001B[39m io\u001B[38;5;241m.\u001B[39mengine:\n\u001B[0;32m    484\u001B[0m     \u001B[38;5;28;01mraise\u001B[39;00m \u001B[38;5;167;01mValueError\u001B[39;00m(\n\u001B[0;32m    485\u001B[0m         \u001B[38;5;124m\"\u001B[39m\u001B[38;5;124mEngine should not be specified when passing \u001B[39m\u001B[38;5;124m\"\u001B[39m\n\u001B[0;32m    486\u001B[0m         \u001B[38;5;124m\"\u001B[39m\u001B[38;5;124man ExcelFile - ExcelFile already has the engine set\u001B[39m\u001B[38;5;124m\"\u001B[39m\n\u001B[0;32m    487\u001B[0m     )\n",
      "File \u001B[1;32m~\\PycharmProjects\\pythonProject1\\lib\\site-packages\\pandas\\io\\excel\\_base.py:1652\u001B[0m, in \u001B[0;36mExcelFile.__init__\u001B[1;34m(self, path_or_buffer, engine, storage_options)\u001B[0m\n\u001B[0;32m   1650\u001B[0m     ext \u001B[38;5;241m=\u001B[39m \u001B[38;5;124m\"\u001B[39m\u001B[38;5;124mxls\u001B[39m\u001B[38;5;124m\"\u001B[39m\n\u001B[0;32m   1651\u001B[0m \u001B[38;5;28;01melse\u001B[39;00m:\n\u001B[1;32m-> 1652\u001B[0m     ext \u001B[38;5;241m=\u001B[39m \u001B[43minspect_excel_format\u001B[49m\u001B[43m(\u001B[49m\n\u001B[0;32m   1653\u001B[0m \u001B[43m        \u001B[49m\u001B[43mcontent_or_path\u001B[49m\u001B[38;5;241;43m=\u001B[39;49m\u001B[43mpath_or_buffer\u001B[49m\u001B[43m,\u001B[49m\u001B[43m \u001B[49m\u001B[43mstorage_options\u001B[49m\u001B[38;5;241;43m=\u001B[39;49m\u001B[43mstorage_options\u001B[49m\n\u001B[0;32m   1654\u001B[0m \u001B[43m    \u001B[49m\u001B[43m)\u001B[49m\n\u001B[0;32m   1655\u001B[0m     \u001B[38;5;28;01mif\u001B[39;00m ext \u001B[38;5;129;01mis\u001B[39;00m \u001B[38;5;28;01mNone\u001B[39;00m:\n\u001B[0;32m   1656\u001B[0m         \u001B[38;5;28;01mraise\u001B[39;00m \u001B[38;5;167;01mValueError\u001B[39;00m(\n\u001B[0;32m   1657\u001B[0m             \u001B[38;5;124m\"\u001B[39m\u001B[38;5;124mExcel file format cannot be determined, you must specify \u001B[39m\u001B[38;5;124m\"\u001B[39m\n\u001B[0;32m   1658\u001B[0m             \u001B[38;5;124m\"\u001B[39m\u001B[38;5;124man engine manually.\u001B[39m\u001B[38;5;124m\"\u001B[39m\n\u001B[0;32m   1659\u001B[0m         )\n",
      "File \u001B[1;32m~\\PycharmProjects\\pythonProject1\\lib\\site-packages\\pandas\\io\\excel\\_base.py:1525\u001B[0m, in \u001B[0;36minspect_excel_format\u001B[1;34m(content_or_path, storage_options)\u001B[0m\n\u001B[0;32m   1522\u001B[0m \u001B[38;5;28;01mif\u001B[39;00m \u001B[38;5;28misinstance\u001B[39m(content_or_path, \u001B[38;5;28mbytes\u001B[39m):\n\u001B[0;32m   1523\u001B[0m     content_or_path \u001B[38;5;241m=\u001B[39m BytesIO(content_or_path)\n\u001B[1;32m-> 1525\u001B[0m \u001B[38;5;28;01mwith\u001B[39;00m \u001B[43mget_handle\u001B[49m\u001B[43m(\u001B[49m\n\u001B[0;32m   1526\u001B[0m \u001B[43m    \u001B[49m\u001B[43mcontent_or_path\u001B[49m\u001B[43m,\u001B[49m\u001B[43m \u001B[49m\u001B[38;5;124;43m\"\u001B[39;49m\u001B[38;5;124;43mrb\u001B[39;49m\u001B[38;5;124;43m\"\u001B[39;49m\u001B[43m,\u001B[49m\u001B[43m \u001B[49m\u001B[43mstorage_options\u001B[49m\u001B[38;5;241;43m=\u001B[39;49m\u001B[43mstorage_options\u001B[49m\u001B[43m,\u001B[49m\u001B[43m \u001B[49m\u001B[43mis_text\u001B[49m\u001B[38;5;241;43m=\u001B[39;49m\u001B[38;5;28;43;01mFalse\u001B[39;49;00m\n\u001B[0;32m   1527\u001B[0m \u001B[43m\u001B[49m\u001B[43m)\u001B[49m \u001B[38;5;28;01mas\u001B[39;00m handle:\n\u001B[0;32m   1528\u001B[0m     stream \u001B[38;5;241m=\u001B[39m handle\u001B[38;5;241m.\u001B[39mhandle\n\u001B[0;32m   1529\u001B[0m     stream\u001B[38;5;241m.\u001B[39mseek(\u001B[38;5;241m0\u001B[39m)\n",
      "File \u001B[1;32m~\\PycharmProjects\\pythonProject1\\lib\\site-packages\\pandas\\io\\common.py:865\u001B[0m, in \u001B[0;36mget_handle\u001B[1;34m(path_or_buf, mode, encoding, compression, memory_map, is_text, errors, storage_options)\u001B[0m\n\u001B[0;32m    856\u001B[0m         handle \u001B[38;5;241m=\u001B[39m \u001B[38;5;28mopen\u001B[39m(\n\u001B[0;32m    857\u001B[0m             handle,\n\u001B[0;32m    858\u001B[0m             ioargs\u001B[38;5;241m.\u001B[39mmode,\n\u001B[1;32m   (...)\u001B[0m\n\u001B[0;32m    861\u001B[0m             newline\u001B[38;5;241m=\u001B[39m\u001B[38;5;124m\"\u001B[39m\u001B[38;5;124m\"\u001B[39m,\n\u001B[0;32m    862\u001B[0m         )\n\u001B[0;32m    863\u001B[0m     \u001B[38;5;28;01melse\u001B[39;00m:\n\u001B[0;32m    864\u001B[0m         \u001B[38;5;66;03m# Binary mode\u001B[39;00m\n\u001B[1;32m--> 865\u001B[0m         handle \u001B[38;5;241m=\u001B[39m \u001B[38;5;28;43mopen\u001B[39;49m\u001B[43m(\u001B[49m\u001B[43mhandle\u001B[49m\u001B[43m,\u001B[49m\u001B[43m \u001B[49m\u001B[43mioargs\u001B[49m\u001B[38;5;241;43m.\u001B[39;49m\u001B[43mmode\u001B[49m\u001B[43m)\u001B[49m\n\u001B[0;32m    866\u001B[0m     handles\u001B[38;5;241m.\u001B[39mappend(handle)\n\u001B[0;32m    868\u001B[0m \u001B[38;5;66;03m# Convert BytesIO or file objects passed with an encoding\u001B[39;00m\n",
      "\u001B[1;31mFileNotFoundError\u001B[0m: [Errno 2] No such file or directory: 'superhero data.xlsx'"
     ]
    }
   ],
   "source": [
    "dropRows = [55, 76, 78, 81, 410, 481, 486, 490, 645, 653, 657, 693,\n",
    "            697, 840, 827, 830, 842, 844, 949, 950, 1059, 1063, 1077, 1079, 1081]\n",
    "#original data set had nonsense rows\n",
    "\n",
    "superheroData = \\\n",
    "    pd.read_excel('superhero data.xlsx').\\\n",
    "    drop(dropRows).\\\n",
    "    drop([\"full_name\"], axis = 1).\\\n",
    "    dropna(how = \"all\").\\\n",
    "    reset_index()#.\\\n",
    "    #drop([\"index\"], axis = 1)\n",
    "\n",
    "#Fix format of height and weight variables:\n",
    "columnLength = 1408\n",
    "\n",
    "for i in range(0, columnLength-1): #final row already has data in the correct form\n",
    "        #height data is of the form \"6'8 â€¢ 203 cm\" which would be very difficult to work with\n",
    "        #hence I'm extracting just the value in centimeters and converting to a float\n",
    "        #similar for weight\n",
    "\n",
    "        if not(str(superheroData[\"height\"][i]) == \"nan\"):\n",
    "            try:\n",
    "                superheroData[\"height\"][i] = float(str(superheroData[\"height\"][i]).split()[2]) #noqa\n",
    "            except:\n",
    "                superheroData[\"height\"][i] = \\\n",
    "                    str(superheroData.iloc[:,(\"height\", i)]).replace(',', '') #noqa\n",
    "                superheroData[\"height\"][i] = float(superheroData[\"height\"][i].split()[2]) #noqa\n",
    "\n",
    "        if not(str(superheroData[\"weight\"][i]) == \"nan\"):\n",
    "            try:\n",
    "                superheroData[\"weight\"][i] = float(str(superheroData[\"weight\"][i]).split()[3]) #noqa\n",
    "            except:\n",
    "                superheroData[\"weight\"][i] = str(superheroData[\"weight\"][i]).replace(',', '') #noqa\n",
    "                superheroData[\"weight\"][i] = float(superheroData[\"weight\"][i].split()[3]) #noqa\n",
    "\n",
    "superheroData;"
   ]
  },
  {
   "cell_type": "markdown",
   "metadata": {
    "pycharm": {
     "name": "#%% md\n"
    }
   },
   "source": [
    "Check for and impute missing data values:"
   ]
  },
  {
   "cell_type": "code",
   "execution_count": 6,
   "metadata": {
    "pycharm": {
     "name": "#%%\n"
    }
   },
   "outputs": [],
   "source": [
    "superheroData.isnull().sum();"
   ]
  },
  {
   "cell_type": "code",
   "execution_count": 7,
   "metadata": {
    "pycharm": {
     "name": "#%%\n"
    }
   },
   "outputs": [],
   "source": [
    "quantitativeVariables = superheroData.iloc[:, [3, 4, 5, 6, 7, 8, 14, 15]]\n",
    "\n",
    "knnImputer = KNNImputer(n_neighbors = 10)\n",
    "\n",
    "quantitativeVariablesFilled = \\\n",
    "    pd.DataFrame(knnImputer.fit_transform(quantitativeVariables)).\\\n",
    "    rename(columns = {0:\"intelligence score\", 1:\"strength score\",\n",
    "                      2:\"speed score\", 3:\"durability score\",\n",
    "                      4:\"power score\", 5: \"combat score\",\n",
    "                      6:\"height (cm)\", 7:\"weight (kg)\" })\n",
    "\n",
    "quantitativeVariablesFilled;"
   ]
  },
  {
   "cell_type": "code",
   "execution_count": 8,
   "metadata": {
    "pycharm": {
     "name": "#%%\n"
    }
   },
   "outputs": [],
   "source": [
    "categoricalVariableNames = [i for i in range(16, 68)]\n",
    "\n",
    "categoricalVariables = superheroData.iloc[:, [1, 2, 9, 10, 11, 12, 13] + categoricalVariableNames]\n",
    "\n",
    "simpleImputer = SimpleImputer(strategy = \"most_frequent\")\n",
    "\n",
    "categoricalVariablesFilled = pd.DataFrame(simpleImputer.fit_transform(categoricalVariables))\n",
    "\n",
    "categoricalVariablesFilled.columns = categoricalVariables.columns\n",
    "\n",
    "categoricalVariablesFilled;"
   ]
  },
  {
   "cell_type": "code",
   "execution_count": 9,
   "metadata": {
    "pycharm": {
     "name": "#%%\n"
    },
    "scrolled": true
   },
   "outputs": [],
   "source": [
    "superheroDataFilled = pd.concat([categoricalVariablesFilled, quantitativeVariablesFilled], axis = 1)\n",
    "superheroDataFilled.head();"
   ]
  },
  {
   "cell_type": "markdown",
   "metadata": {
    "pycharm": {
     "name": "#%% md\n"
    }
   },
   "source": [
    "Explore data:"
   ]
  },
  {
   "cell_type": "code",
   "execution_count": 10,
   "metadata": {
    "pycharm": {
     "name": "#%%\n"
    }
   },
   "outputs": [],
   "source": [
    "%%R -i superheroDataFilled -o creatorNamesandCounts\n",
    "\n",
    "# noinspection PyUnreachableCode\n",
    "GetNamesandCounts = function(x)\n",
    "{\n",
    "    creatorCounts = x %>% table() %>% as.vector()\n",
    "\n",
    "    creatorNames = x %>% unique() %>% unlist() %>% sort()\n",
    "\n",
    "    Temp = data.frame(creatorNames, creatorCounts) %>% setNames(c('creator names', 'creator counts'))\n",
    "\n",
    "    return(Temp)\n",
    "}\n",
    "\n",
    "creatorNamesandCounts = GetNamesandCounts(superheroDataFilled['creator'])"
   ]
  },
  {
   "cell_type": "code",
   "execution_count": 11,
   "metadata": {
    "pycharm": {
     "name": "#%%\n"
    }
   },
   "outputs": [],
   "source": [
    "creatorsBarChart = px.bar(creatorNamesandCounts, x = 'creator names', y = 'creator counts')\n",
    "creatorsBarChart;"
   ]
  },
  {
   "cell_type": "markdown",
   "metadata": {
    "pycharm": {
     "name": "#%% md\n"
    }
   },
   "source": [
    "Since, as the above bar graph shows, the vast majority characters in the data set are from the top 6 creators, the others are unlikely to contribute\n",
    "meaningfully to the overall patterns and will only complicate the analysis, hence I'll remove them and create a new graph:"
   ]
  },
  {
   "cell_type": "code",
   "execution_count": 12,
   "metadata": {
    "pycharm": {
     "name": "#%%\n"
    }
   },
   "outputs": [
    {
     "data": {
      "image/png": "[encoded data removed]"
     },
     "metadata": {},
     "output_type": "display_data"
    }
   ],
   "source": [
    "%%R -o superheroDataFilled\n",
    "\n",
    "superheroDataFilled =\n",
    "superheroDataFilled %>% filter(creator %in% c('Marvel Comics','DC Comics', 'Shueisha', 'Lego', 'Image Comics',\n",
    "                                              'George Lucas', 'Dark Horse Comics', 'NBC - Heroes'))\n",
    "\n",
    "creatorNamesandCounts = GetNamesandCounts(superheroDataFilled['creator'])\n",
    "\n",
    "\n",
    "#create labels for new graph\n",
    "labels = function(x)\n",
    "{\n",
    "    labels = unlist(round((x/sum(x))*100, 1)) %>% as.vector\n",
    "\n",
    "    for(i in 1:length(labels))\n",
    "    {\n",
    "      labels[i] = paste0(toString(unlist(x)[i]), '\\n(', labels[i], '%', ')' )\n",
    "    }\n",
    "\n",
    "    labels\n",
    "}\n",
    "\n",
    "labels = labels(creatorNamesandCounts['creator counts'])\n",
    "\n",
    "ggplot(creatorNamesandCounts, aes(`creator names`, `creator counts`, label = labels)) +\n",
    "       geom_bar(stat = \"identity\", fill = 'pink', color = \"purple\", width = 0.75) +\n",
    "       theme(text = element_text(size=15), axis.text.x = element_text(angle = 90), panel.background = element_rect(fill = 'grey', color = 'grey')) +\n",
    "       geom_text( vjust = -0.5, label.size = 0.15) +\n",
    "       scale_y_continuous(limits = c(0, 825))\n",
    "\n"
   ]
  },
  {
   "cell_type": "code",
   "execution_count": 13,
   "metadata": {
    "pycharm": {
     "name": "#%%\n"
    }
   },
   "outputs": [],
   "source": [
    "%%R -i categoricalVariablesFilled -o categoricalVariableNames\n",
    "\n",
    "summaryTable = list()\n",
    "\n",
    "categoricalVariableNames = categoricalVariablesFilled %>% colnames\n",
    "\n",
    "for(i in 4:length(categoricalVariableNames))\n",
    "{\n",
    "    summaryTable[[i-3]] = superheroDataFilled[paste0(categoricalVariableNames[i])] %>% table\n",
    "}"
   ]
  },
  {
   "cell_type": "code",
   "execution_count": 16,
   "metadata": {
    "pycharm": {
     "name": "#%%\n"
    }
   },
   "outputs": [
    {
     "name": "stderr",
     "output_type": "stream",
     "text": [
      "UsageError: %%R is a cell magic, but the cell body is empty. Did you mean the line magic %R (single %)?\n"
     ]
    }
   ],
   "source": [
    "%%R -o summaryTable\n"
   ]
  },
  {
   "cell_type": "code",
   "execution_count": 17,
   "metadata": {
    "pycharm": {
     "name": "#%%\n"
    }
   },
   "outputs": [],
   "source": [
    "%%R -o superheroDataFiltered\n",
    "\n",
    "superheroDataFiltered = superheroDataFilled %>% subset(gender != 'None'  )"
   ]
  },
  {
   "cell_type": "code",
   "execution_count": null,
   "metadata": {
    "pycharm": {
     "name": "#%%\n"
    }
   },
   "outputs": [],
   "source": [
    "ProfileReport(superheroDataFiltered)"
   ]
  },
  {
   "cell_type": "code",
   "execution_count": 18,
   "metadata": {
    "pycharm": {
     "name": "#%%\n"
    }
   },
   "outputs": [],
   "source": [
    "%%R -o raceNamesandCounts\n",
    "\n",
    "getNamesandCounts = function(df, variable, variable_name)\n",
    "{\n",
    "    if(missing(variable_name))\n",
    "    {\n",
    "        variable_name = paste0(variable)\n",
    "    }\n",
    "\n",
    "    Counts = df[paste0(variable)] %>% table() %>% as.vector()\n",
    "\n",
    "    Names = df[paste0(variable)] %>% unique() %>% unlist() %>% sort()\n",
    "\n",
    "    NamesandCounts = data.frame(Names, Counts) %>% setNames(c(paste0(variable_name, ' names'), paste0(variable_name, ' counts')))\n",
    "}\n",
    "\n",
    "raceNamesandCounts = getNamesandCounts(superheroDataFiltered, 'type_race', 'race')\n",
    "\n",
    "eyeColorNameandCounts = getNamesandCounts(superheroDataFiltered, 'eye_color', 'eye color')\n",
    "\n",
    "hairColorNameandCounts = getNamesandCounts(superheroDataFiltered, 'hair_color', 'hair color')"
   ]
  },
  {
   "cell_type": "code",
   "execution_count": null,
   "metadata": {
    "pycharm": {
     "name": "#%%\n"
    }
   },
   "outputs": [],
   "source": [
    "%%R -o eyeColorNameandCounts\n",
    "eyeColorNameandCounts = getNamesandCounts(superheroDataFiltered, 'eye_color', 'eye color')"
   ]
  },
  {
   "cell_type": "code",
   "execution_count": null,
   "metadata": {
    "pycharm": {
     "name": "#%%\n"
    }
   },
   "outputs": [],
   "source": [
    "%%R -o hairColorNameandCounts\n",
    "hairColorNameandCounts = getNamesandCounts(superheroDataFiltered, 'hair_color', 'hair color')"
   ]
  },
  {
   "cell_type": "code",
   "execution_count": null,
   "metadata": {
    "pycharm": {
     "name": "#%%\n"
    }
   },
   "outputs": [],
   "source": [
    "px.bar(raceNamesandCounts, x ='race names', y ='race counts').show()\n",
    "px.bar(eyeColorNameandCounts, x ='eye color names', y ='eye color counts').show()\n",
    "px.bar(hairColorNameandCounts, x ='hair color names', y ='hair color counts').show()"
   ]
  },
  {
   "cell_type": "code",
   "execution_count": 19,
   "metadata": {
    "pycharm": {
     "name": "#%%\n"
    }
   },
   "outputs": [],
   "source": [
    "%%R -o superheroDataFiltered\n",
    "\n",
    "superheroDataFiltered =\n",
    "superheroDataFiltered %>% filter(type_race %in% c('Human', 'Mutant', 'Metahuman', 'God/Eternal',\n",
    "                                              'Alien ', 'Animal', 'Asgardian', 'Android', 'Cyborg','Human/Radiation')) %>%\n",
    "                        filter(eye_color %in% c('Blue', 'Black', 'Brown', 'Green', 'Red', 'White', 'Yellow')) %>%\n",
    "                        filter(hair_color %in% c('Black', 'Blond', 'Brown', 'No Hair', 'Red', 'White', 'Grey', 'Green',\n",
    "                                                'Strawberry', 'Auburn'))\n"
   ]
  },
  {
   "cell_type": "code",
   "execution_count": null,
   "metadata": {
    "pycharm": {
     "name": "#%%\n"
    }
   },
   "outputs": [],
   "source": [
    "ProfileReport(superheroDataFiltered)"
   ]
  },
  {
   "cell_type": "code",
   "execution_count": 26,
   "metadata": {
    "pycharm": {
     "name": "#%%\n"
    }
   },
   "outputs": [],
   "source": [
    "quantitativeVariables = superheroDataFiltered.iloc[:, range(59,67)]\n",
    "\n",
    "quantitativeVariables.corr();"
   ]
  },
  {
   "cell_type": "code",
   "execution_count": 27,
   "metadata": {
    "pycharm": {
     "name": "#%%\n"
    }
   },
   "outputs": [],
   "source": [
    "quantitativeVariables = superheroDataFiltered.iloc[:, range(59,67)]\n",
    "\n",
    "quantitativeVariables.corr();"
   ]
  },
  {
   "cell_type": "code",
   "execution_count": 28,
   "metadata": {
    "pycharm": {
     "name": "#%%\n"
    }
   },
   "outputs": [],
   "source": [
    "encodedVariables = superheroDataFiltered.iloc[:, range(11,59)]\n",
    "\n",
    "encodedVariables.corr();"
   ]
  },
  {
   "cell_type": "code",
   "execution_count": 29,
   "metadata": {
    "pycharm": {
     "name": "#%%\n"
    }
   },
   "outputs": [],
   "source": [
    "encodedVariables = superheroDataFiltered.iloc[:, range(11,59)]\n",
    "\n",
    "encodedVariables.corr();"
   ]
  },
  {
   "cell_type": "markdown",
   "metadata": {
    "pycharm": {
     "name": "#%% md\n"
    }
   },
   "source": [
    "KNN Analysis"
   ]
  },
  {
   "cell_type": "markdown",
   "metadata": {
    "pycharm": {
     "name": "#%% md\n"
    }
   },
   "source": [
    "Helper functions:"
   ]
  },
  {
   "cell_type": "code",
   "execution_count": 20,
   "metadata": {
    "pycharm": {
     "name": "#%%\n"
    }
   },
   "outputs": [],
   "source": [
    "%%R -o test\n",
    "\n",
    "ifmissing = function(x, value)\n",
    "{\n",
    "    if(missing(x))\n",
    "      return(value)\n",
    "    else\n",
    "        return(x)\n",
    "}\n",
    "\n",
    "KNN_SetUp = function(df, categoryColumn, splitRatio, quantitativeVariableColumns)\n",
    "{\n",
    "  #do train/test split for initial model\n",
    "  split = sample.split(categoryColumn, SplitRatio = 0.7)\n",
    "\n",
    "  training_set = subset(df, split == TRUE)\n",
    "  test_set = subset(df, split == FALSE)\n",
    "\n",
    "  #scale quantitative variables to similar ranges\n",
    "  train_scale = scale(training_set[, quantitativeVariableColumns])\n",
    "  test_scale = scale(test_set[, quantitativeVariableColumns])\n",
    "\n",
    "  return(list(train_scale, test_scale, training_set, test_set, split))\n",
    "}\n",
    "\n",
    "test = KNN_SetUp(df = superheroDataFilled, categoryColumn = superheroDataFilled$creator,\n",
    "                 splitRatio = 0.7, quantitativeVariableColumns = 10:67)[[3]] %>% as.data.frame\n"
   ]
  },
  {
   "cell_type": "markdown",
   "metadata": {
    "pycharm": {
     "name": "#%% md\n"
    }
   },
   "source": [
    "Main function"
   ]
  },
  {
   "cell_type": "code",
   "execution_count": 76,
   "metadata": {
    "pycharm": {
     "name": "#%%\n"
    }
   },
   "outputs": [],
   "source": [
    "%%R -o test\n",
    "\n",
    "KNN_Analysis = function(df, category, categoryColumn, initialSplitRatio, quantitativeVariableColumns, starting_k)\n",
    "{\n",
    "\n",
    "  initialSplitRatio = ifmissing(initialSplitRatio, 0.75)\n",
    "\n",
    "  quantitativeVariableColumns = ifmissing(quantitativeVariableColumns, 10:67)\n",
    "\n",
    "  starting_k = ifmissing(starting_k, 5)\n",
    "\n",
    "  set.seed(123)\n",
    "\n",
    "  temp = KNN_SetUp(df = df, categoryColumn = categoryColumn, splitRatio = initialSplitRatio,\n",
    "                   quantitativeVariableColumns = quantitativeVariableColumns)\n",
    "  train_scale <- temp[[1]]\n",
    "  test_scale = temp[[2]]\n",
    "  training_set <- temp[[3]]\n",
    "  test_set = temp[[4]]\n",
    "\n",
    "  #find best k\n",
    "  error_k = c()\n",
    "\n",
    "  knnModels_VaryingK = vector(mode = 'list', length = 67)\n",
    "\n",
    "  for(k in c(1:67))\n",
    "  {\n",
    "    classifier_knn <- knn(train = train_scale,\n",
    "                          test = test_scale,\n",
    "                          cl <- training_set$creator,\n",
    "                          k = k)\n",
    "    error_k[k] = mean(classifier_knn != test_set$creator)\n",
    "    knnModels_VaryingK[[k]] = classifier_knn\n",
    "  }\n",
    "\n",
    "  best_k = which.min(error_k)\n",
    "\n",
    "  #find best split ratio\n",
    "  errorSplitRatio = c()\n",
    "\n",
    "  knnModels_VarySplitRatio = vector(mode = 'list', length = 99)\n",
    "\n",
    "\n",
    "  for(i in 1:99)\n",
    "  {\n",
    "    temp = KNN_SetUp(df = df, categoryColumn = categoryColumn, splitRatio = i/100,\n",
    "                     quantitativeVariableColumns = quantitativeVariableColumns)\n",
    "    train_scale = temp[[1]]\n",
    "    test_scale = temp[[2]]\n",
    "    training_set <- temp[[3]]\n",
    "    test_set = temp[[4]]\n",
    "\n",
    "    if(train_scale %>% is.na %>% sum == 0 & test_scale %>% is.na %>% sum == 0)\n",
    "    {\n",
    "      classifier_knn <- knn(train <- train_scale,\n",
    "                            test = test_scale,\n",
    "                            cl <- training_set$creator,\n",
    "                            k = best_k)\n",
    "\n",
    "      errorSplitRatio[i] = mean(classifier_knn != test_set$creator)\n",
    "      knnModels_VarySplitRatio[[i]] = classifier_knn\n",
    "    }\n",
    "  }\n",
    "\n",
    "  bestSplitRatio = which.min(errorSplitRatio)/100\n",
    "\n",
    "  best_model = knnModels_VarySplitRatio[[bestSplitRatio*100]]\n",
    "\n",
    "  confusionMatrix_bestModel = table(test_set$creator, best_model)\n",
    "\n",
    "  return(list(error_k, knnModels_VaryingK, best_k, errorSplitRatio,\n",
    "              knnModels_VarySplitRatio, bestSplitRatio, best_model, confusionMatrix_bestModel))\n",
    "\n",
    "}\n",
    "\n",
    "temp = KNN_Analysis(superheroDataFilled, categoryColumn = superheroDataFilled$creator, initialSplitRatio = 0.73, \n",
    "                    quantitativeVariableColumns = 10:67, starting_k = 24)\n"
   ]
  },
  {
   "cell_type": "code",
   "execution_count": 77,
   "metadata": {
    "pycharm": {
     "name": "#%%\n"
    }
   },
   "outputs": [],
   "source": [
    "%%R\n",
    "\n",
    "error_while_varying_k = temp[1] %>% unlist %>% as.data.frame %>% rename(\"error\" = '.')\n",
    "knnModels_VaryingK = temp[2]\n",
    "best_k = temp[3]\n",
    "error_while_varying_split_ratio = temp[4]%>% unlist %>% as.data.frame %>% rename(\"error\" = '.')\n",
    "knnModels_VarySplitRatio = temp[5]\n",
    "bestSplitRatio = temp[6]\n",
    "best_model = temp[7]\n",
    "confusionMatrix_bestModel = temp[8]"
   ]
  },
  {
   "cell_type": "code",
   "execution_count": 79,
   "metadata": {
    "pycharm": {
     "name": "#%%\n"
    }
   },
   "outputs": [
    {
     "name": "stdout",
     "output_type": "stream",
     "text": [
      "[[1]]\n",
      "[1] 0.73\n",
      "\n"
     ]
    }
   ],
   "source": [
    "%%R\n",
    "bestSplitRatio\n",
    "#best_k"
   ]
  },
  {
   "cell_type": "code",
   "execution_count": null,
   "metadata": {
    "pycharm": {
     "name": "#%%\n"
    }
   },
   "outputs": [],
   "source": []
  }
 ],
 "metadata": {
  "kernelspec": {
   "display_name": "Python 3 (ipykernel)",
   "language": "python",
   "name": "python3"
  },
  "language_info": {
   "codemirror_mode": {
    "name": "ipython",
    "version": 3
   },
   "file_extension": ".py",
   "mimetype": "text/x-python",
   "name": "python",
   "nbconvert_exporter": "python",
   "pygments_lexer": "ipython3",
   "version": "3.10.0"
  }
 },
 "nbformat": 4,
 "nbformat_minor": 1
}